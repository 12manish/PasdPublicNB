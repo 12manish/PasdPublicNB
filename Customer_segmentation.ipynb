{
  "nbformat": 4,
  "nbformat_minor": 0,
  "metadata": {
    "colab": {
      "name": "Customer_segmentation.ipynb",
      "provenance": [],
      "toc_visible": true,
      "mount_file_id": "1yT0U7YtXCSiryYGrOlVmipogp2_UWl3_",
      "authorship_tag": "ABX9TyPktK4aeWPfVjRBKDGYpQTL",
      "include_colab_link": true
    },
    "kernelspec": {
      "name": "python3",
      "display_name": "Python 3"
    }
  },
  "cells": [
    {
      "cell_type": "markdown",
      "metadata": {
        "id": "view-in-github",
        "colab_type": "text"
      },
      "source": [
        "<a href=\"https://colab.research.google.com/github/pasdptt/PasdPublicNB/blob/master/Customer_segmentation.ipynb\" target=\"_parent\"><img src=\"https://colab.research.google.com/assets/colab-badge.svg\" alt=\"Open In Colab\"/></a>"
      ]
    },
    {
      "cell_type": "markdown",
      "metadata": {
        "id": "kUDclT1O1idv"
      },
      "source": [
        "# Install Spark + import lib + start spark session\n"
      ]
    },
    {
      "cell_type": "code",
      "metadata": {
        "id": "K_jf_lcc1Qg3",
        "outputId": "c0ae5ea4-0790-47d4-ac70-af33f8f51017",
        "colab": {
          "base_uri": "https://localhost:8080/",
          "height": 425
        }
      },
      "source": [
        "!apt-get update"
      ],
      "execution_count": 1,
      "outputs": [
        {
          "output_type": "stream",
          "text": [
            "Get:1 http://security.ubuntu.com/ubuntu bionic-security InRelease [88.7 kB]\n",
            "Get:2 https://cloud.r-project.org/bin/linux/ubuntu bionic-cran40/ InRelease [3,626 B]\n",
            "Ign:3 https://developer.download.nvidia.com/compute/cuda/repos/ubuntu1804/x86_64  InRelease\n",
            "Get:4 http://ppa.launchpad.net/c2d4u.team/c2d4u4.0+/ubuntu bionic InRelease [15.9 kB]\n",
            "Hit:5 http://archive.ubuntu.com/ubuntu bionic InRelease\n",
            "Ign:6 https://developer.download.nvidia.com/compute/machine-learning/repos/ubuntu1804/x86_64  InRelease\n",
            "Get:7 https://developer.download.nvidia.com/compute/cuda/repos/ubuntu1804/x86_64  Release [697 B]\n",
            "Hit:8 https://developer.download.nvidia.com/compute/machine-learning/repos/ubuntu1804/x86_64  Release\n",
            "Get:9 https://developer.download.nvidia.com/compute/cuda/repos/ubuntu1804/x86_64  Release.gpg [836 B]\n",
            "Get:10 http://archive.ubuntu.com/ubuntu bionic-updates InRelease [88.7 kB]\n",
            "Get:11 http://security.ubuntu.com/ubuntu bionic-security/main amd64 Packages [1,733 kB]\n",
            "Hit:12 http://ppa.launchpad.net/graphics-drivers/ppa/ubuntu bionic InRelease\n",
            "Get:13 http://security.ubuntu.com/ubuntu bionic-security/universe amd64 Packages [1,348 kB]\n",
            "Get:14 http://archive.ubuntu.com/ubuntu bionic-backports InRelease [74.6 kB]\n",
            "Ign:16 https://developer.download.nvidia.com/compute/cuda/repos/ubuntu1804/x86_64  Packages\n",
            "Get:16 https://developer.download.nvidia.com/compute/cuda/repos/ubuntu1804/x86_64  Packages [335 kB]\n",
            "Get:17 http://ppa.launchpad.net/c2d4u.team/c2d4u4.0+/ubuntu bionic/main Sources [1,681 kB]\n",
            "Get:18 http://archive.ubuntu.com/ubuntu bionic-updates/multiverse amd64 Packages [45.5 kB]\n",
            "Get:19 http://archive.ubuntu.com/ubuntu bionic-updates/main amd64 Packages [2,150 kB]\n",
            "Get:20 http://archive.ubuntu.com/ubuntu bionic-updates/universe amd64 Packages [2,112 kB]\n",
            "Get:21 http://ppa.launchpad.net/c2d4u.team/c2d4u4.0+/ubuntu bionic/main amd64 Packages [860 kB]\n",
            "Get:22 http://archive.ubuntu.com/ubuntu bionic-updates/restricted amd64 Packages [231 kB]\n",
            "Fetched 10.8 MB in 3s (3,404 kB/s)\n",
            "Reading package lists... Done\n"
          ],
          "name": "stdout"
        }
      ]
    },
    {
      "cell_type": "code",
      "metadata": {
        "id": "fjvFIN_M1sGc",
        "outputId": "3a5dc6f1-9d5d-436b-db5d-1adfe79f3758",
        "colab": {
          "base_uri": "https://localhost:8080/",
          "height": 51
        }
      },
      "source": [
        "#Get Install the Java Development Kit\n",
        "!apt-get install openjdk-8-jdk-headless -qq > /dev/null\n",
        "#Get Spark lib -- address need to be change according to the current version of Spark: https://downloads.apache.org/spark/\n",
        "!wget -q http://apache.osuosl.org/spark/spark-3.0.1/spark-3.0.1-bin-hadoop3.2.tgz\n",
        "#Unzip th Spark\n",
        "!tar xf spark-3.0.1-bin-hadoop3.2.tgz\n",
        "#install findspark for Python\n",
        "!pip install -q findspark\n",
        "#Install extra lib(s)\n",
        "!pip install -q xlrd\n",
        "!pip install -q kaggle\n",
        "!pip install -q kora\n",
        "\n",
        "#import and set environment for spark\n",
        "import os\n",
        "os.environ[\"JAVA_HOME\"] = \"/usr/lib/jvm/java-8-openjdk-amd64\"\n",
        "os.environ[\"SPARK_HOME\"] = \"/content/spark-3.0.1-bin-hadoop3.2\"\n",
        "\n",
        "import kora\n",
        "import pandas as pd\n",
        "\n",
        "import findspark\n",
        "findspark.init()\n",
        "from pyspark import SparkContext\n",
        "from pyspark.sql import SparkSession\n",
        "from pyspark.sql import *\n",
        "\n",
        "SPARK_URL = \"local[*]\"\n",
        "\n",
        "spark = SparkSession.builder.master(SPARK_URL).getOrCreate()\n",
        "\n",
        "# Check the pyspark version\n",
        "import pyspark\n",
        "print(pyspark.__version__)"
      ],
      "execution_count": 2,
      "outputs": [
        {
          "output_type": "stream",
          "text": [
            "\u001b[?25l\r\u001b[K     |███████▌                        | 10kB 18.2MB/s eta 0:00:01\r\u001b[K     |███████████████                 | 20kB 1.8MB/s eta 0:00:01\r\u001b[K     |██████████████████████▌         | 30kB 2.3MB/s eta 0:00:01\r\u001b[K     |██████████████████████████████  | 40kB 2.6MB/s eta 0:00:01\r\u001b[K     |████████████████████████████████| 51kB 1.6MB/s \n",
            "\u001b[?25h3.0.1\n"
          ],
          "name": "stdout"
        }
      ]
    },
    {
      "cell_type": "code",
      "metadata": {
        "id": "j8xO9w5ZGhu5"
      },
      "source": [
        "from __future__ import print_function\n",
        "\n",
        "import numpy as np\n",
        "import pandas as pd\n",
        "import matplotlib.pyplot as plt\n",
        "from mpl_toolkits.mplot3d import Axes3D\n",
        "\n",
        "import findspark\n",
        "findspark.init()\n",
        "\n",
        "import pyspark\n",
        "\n",
        "from pyspark.sql import SparkSession\n",
        "from pyspark.sql.functions import *\n",
        "from pyspark.sql.types import *\n",
        "\n",
        "%matplotlib inline"
      ],
      "execution_count": 3,
      "outputs": []
    },
    {
      "cell_type": "code",
      "metadata": {
        "id": "WMFxhU-ghc9c",
        "outputId": "fa45c15b-60eb-490c-b642-6fbcc55d1c5a",
        "colab": {
          "base_uri": "https://localhost:8080/",
          "height": 216
        }
      },
      "source": [
        "spark"
      ],
      "execution_count": 4,
      "outputs": [
        {
          "output_type": "execute_result",
          "data": {
            "text/html": [
              "\n",
              "            <div>\n",
              "                <p><b>SparkSession - in-memory</b></p>\n",
              "                \n",
              "        <div>\n",
              "            <p><b>SparkContext</b></p>\n",
              "\n",
              "            <p><a href=\"http://3bfc36924128:4040\">Spark UI</a></p>\n",
              "\n",
              "            <dl>\n",
              "              <dt>Version</dt>\n",
              "                <dd><code>v3.0.1</code></dd>\n",
              "              <dt>Master</dt>\n",
              "                <dd><code>local[*]</code></dd>\n",
              "              <dt>AppName</dt>\n",
              "                <dd><code>pyspark-shell</code></dd>\n",
              "            </dl>\n",
              "        </div>\n",
              "        \n",
              "            </div>\n",
              "        "
            ],
            "text/plain": [
              "<pyspark.sql.session.SparkSession at 0x7f50d16cac18>"
            ]
          },
          "metadata": {
            "tags": []
          },
          "execution_count": 4
        }
      ]
    },
    {
      "cell_type": "markdown",
      "metadata": {
        "id": "AFb7LiIw2Swd"
      },
      "source": [
        "#Getting Dataset"
      ]
    },
    {
      "cell_type": "code",
      "metadata": {
        "id": "KOOGn53C1w9K",
        "outputId": "996479d5-068d-4fca-ceae-c31fe6388eca",
        "colab": {
          "base_uri": "https://localhost:8080/",
          "height": 85
        }
      },
      "source": [
        "from google.colab import drive\n",
        "drive.mount('/content/gdrive')\n",
        "\n",
        "import os\n",
        "os.environ['KAGGLE_CONFIG_DIR'] = \"/content/gdrive/My Drive/Kaggle\"\n",
        "\n",
        "#Adding API code here\n",
        "!kaggle datasets download -d carrie1/ecommerce-data"
      ],
      "execution_count": 5,
      "outputs": [
        {
          "output_type": "stream",
          "text": [
            "Mounted at /content/gdrive\n",
            "Downloading ecommerce-data.zip to /content\n",
            "  0% 0.00/7.20M [00:00<?, ?B/s]\n",
            "100% 7.20M/7.20M [00:00<00:00, 66.5MB/s]\n"
          ],
          "name": "stdout"
        }
      ]
    },
    {
      "cell_type": "code",
      "metadata": {
        "id": "5jHCvIq2iyeF",
        "outputId": "d09d1c0c-598e-4a39-f16e-56b2e2f88451",
        "colab": {
          "base_uri": "https://localhost:8080/",
          "height": 51
        }
      },
      "source": [
        "!unzip /content/ecommerce-data.zip  && rm /content/ecommerce-data.zip"
      ],
      "execution_count": 6,
      "outputs": [
        {
          "output_type": "stream",
          "text": [
            "Archive:  /content/ecommerce-data.zip\n",
            "  inflating: data.csv                \n"
          ],
          "name": "stdout"
        }
      ]
    },
    {
      "cell_type": "markdown",
      "metadata": {
        "id": "pSU7adQ8mSI2"
      },
      "source": [
        "#Exploring Data"
      ]
    },
    {
      "cell_type": "markdown",
      "metadata": {
        "id": "sm-Fcyd6aTCm"
      },
      "source": [
        "##About the dataset\n",
        "\n",
        "In this article, we will use an e-commerce dataset which contains transactions for a UK-based and registered non-store online retail from 2010 to 2011 and is provided freely from The UCI Machine Learning Repository. You can download the data here.\n",
        "\n",
        "The dataset contains the following relevant columns needed for our analysis:\n",
        "\n",
        "* InvoiceNo. Unique id for each sale.\n",
        "* StockCode. Unique id for each product.\n",
        "* Quantity. Number of units bought.\n",
        "* InvioceDate. Date of the sale.\n",
        "* UnitPrice. Retail price of the product.\n",
        "* CustomerID. Unique id for each customer."
      ]
    },
    {
      "cell_type": "code",
      "metadata": {
        "id": "xyEiNu4z0qUv"
      },
      "source": [
        "data = spark.read.format(\"csv\").option(\"header\", \"true\").load(\"data.csv\")"
      ],
      "execution_count": 68,
      "outputs": []
    },
    {
      "cell_type": "code",
      "metadata": {
        "id": "st3I2joa0w-S",
        "outputId": "2a042f35-f7f9-4a35-8e42-29b79c9c8b98",
        "colab": {
          "base_uri": "https://localhost:8080/",
          "height": 187
        }
      },
      "source": [
        "data.printSchema()"
      ],
      "execution_count": 11,
      "outputs": [
        {
          "output_type": "stream",
          "text": [
            "root\n",
            " |-- InvoiceNo: string (nullable = true)\n",
            " |-- StockCode: string (nullable = true)\n",
            " |-- Description: string (nullable = true)\n",
            " |-- Quantity: string (nullable = true)\n",
            " |-- InvoiceDate: string (nullable = true)\n",
            " |-- UnitPrice: string (nullable = true)\n",
            " |-- CustomerID: string (nullable = true)\n",
            " |-- Country: string (nullable = true)\n",
            "\n"
          ],
          "name": "stdout"
        }
      ]
    },
    {
      "cell_type": "markdown",
      "metadata": {
        "id": "ZZbOiTi22LEY"
      },
      "source": [
        "##Check \"Null\""
      ]
    },
    {
      "cell_type": "code",
      "metadata": {
        "id": "z1s8Fwas2I2U",
        "outputId": "1c735358-b0b9-43b8-dd9f-2f57a1e49b1f",
        "colab": {
          "base_uri": "https://localhost:8080/",
          "height": 119
        }
      },
      "source": [
        "from pyspark.sql.functions import isnan, when, count, col\n",
        "\n",
        "data.select([count(when(isnan(c) | col(c).isNull(), c)).alias(c) for c in data.columns]).show()"
      ],
      "execution_count": 43,
      "outputs": [
        {
          "output_type": "stream",
          "text": [
            "+---------+---------+-----------+--------+-----------+---------+----------+-------+\n",
            "|InvoiceNo|StockCode|Description|Quantity|InvoiceDate|UnitPrice|CustomerID|Country|\n",
            "+---------+---------+-----------+--------+-----------+---------+----------+-------+\n",
            "|        0|        0|       1454|       0|          0|        0|    135080|      0|\n",
            "+---------+---------+-----------+--------+-----------+---------+----------+-------+\n",
            "\n"
          ],
          "name": "stdout"
        }
      ]
    },
    {
      "cell_type": "code",
      "metadata": {
        "id": "tSkWtflJoOsV",
        "outputId": "d27d27a9-9d15-4ae9-9125-f574306bc6f7",
        "colab": {
          "base_uri": "https://localhost:8080/",
          "height": 207
        }
      },
      "source": [
        "data.describe().show()"
      ],
      "execution_count": 42,
      "outputs": [
        {
          "output_type": "stream",
          "text": [
            "+-------+------------------+------------------+--------------------+------------------+---------------+-----------------+------------------+-----------+\n",
            "|summary|         InvoiceNo|         StockCode|         Description|          Quantity|    InvoiceDate|        UnitPrice|        CustomerID|    Country|\n",
            "+-------+------------------+------------------+--------------------+------------------+---------------+-----------------+------------------+-----------+\n",
            "|  count|            541909|            541909|              540455|            541909|         541909|           541909|            406829|     541909|\n",
            "|   mean|  559965.752026781|27623.240210938104|             20713.0|  9.55224954743324|           null|4.611113626082972|15287.690570239585|       null|\n",
            "| stddev|13428.417280800133| 16799.73762842775|                 NaN|218.08115785023486|           null| 96.7598530611797| 1713.600303321594|       null|\n",
            "|    min|            536365|             10002| 4 PURPLE FLOCK D...|                -1|1/10/2011 10:04|        -11062.06|             12346|  Australia|\n",
            "|    max|           C581569|                 m|   wrongly sold sets|               992|  9/9/2011 9:52|            99.96|             18287|Unspecified|\n",
            "+-------+------------------+------------------+--------------------+------------------+---------------+-----------------+------------------+-----------+\n",
            "\n"
          ],
          "name": "stdout"
        }
      ]
    },
    {
      "cell_type": "code",
      "metadata": {
        "id": "vV_ePTO3-v9k",
        "outputId": "3e005ee5-f80c-489b-b4d2-31a6fe9aade6",
        "colab": {
          "base_uri": "https://localhost:8080/",
          "height": 459
        }
      },
      "source": [
        "data.show()"
      ],
      "execution_count": 14,
      "outputs": [
        {
          "output_type": "stream",
          "text": [
            "+---------+---------+--------------------+--------+--------------+---------+----------+--------------+\n",
            "|InvoiceNo|StockCode|         Description|Quantity|   InvoiceDate|UnitPrice|CustomerID|       Country|\n",
            "+---------+---------+--------------------+--------+--------------+---------+----------+--------------+\n",
            "|   536365|   85123A|WHITE HANGING HEA...|       6|12/1/2010 8:26|     2.55|     17850|United Kingdom|\n",
            "|   536365|    71053| WHITE METAL LANTERN|       6|12/1/2010 8:26|     3.39|     17850|United Kingdom|\n",
            "|   536365|   84406B|CREAM CUPID HEART...|       8|12/1/2010 8:26|     2.75|     17850|United Kingdom|\n",
            "|   536365|   84029G|KNITTED UNION FLA...|       6|12/1/2010 8:26|     3.39|     17850|United Kingdom|\n",
            "|   536365|   84029E|RED WOOLLY HOTTIE...|       6|12/1/2010 8:26|     3.39|     17850|United Kingdom|\n",
            "|   536365|    22752|SET 7 BABUSHKA NE...|       2|12/1/2010 8:26|     7.65|     17850|United Kingdom|\n",
            "|   536365|    21730|GLASS STAR FROSTE...|       6|12/1/2010 8:26|     4.25|     17850|United Kingdom|\n",
            "|   536366|    22633|HAND WARMER UNION...|       6|12/1/2010 8:28|     1.85|     17850|United Kingdom|\n",
            "|   536366|    22632|HAND WARMER RED P...|       6|12/1/2010 8:28|     1.85|     17850|United Kingdom|\n",
            "|   536367|    84879|ASSORTED COLOUR B...|      32|12/1/2010 8:34|     1.69|     13047|United Kingdom|\n",
            "|   536367|    22745|POPPY'S PLAYHOUSE...|       6|12/1/2010 8:34|      2.1|     13047|United Kingdom|\n",
            "|   536367|    22748|POPPY'S PLAYHOUSE...|       6|12/1/2010 8:34|      2.1|     13047|United Kingdom|\n",
            "|   536367|    22749|FELTCRAFT PRINCES...|       8|12/1/2010 8:34|     3.75|     13047|United Kingdom|\n",
            "|   536367|    22310|IVORY KNITTED MUG...|       6|12/1/2010 8:34|     1.65|     13047|United Kingdom|\n",
            "|   536367|    84969|BOX OF 6 ASSORTED...|       6|12/1/2010 8:34|     4.25|     13047|United Kingdom|\n",
            "|   536367|    22623|BOX OF VINTAGE JI...|       3|12/1/2010 8:34|     4.95|     13047|United Kingdom|\n",
            "|   536367|    22622|BOX OF VINTAGE AL...|       2|12/1/2010 8:34|     9.95|     13047|United Kingdom|\n",
            "|   536367|    21754|HOME BUILDING BLO...|       3|12/1/2010 8:34|     5.95|     13047|United Kingdom|\n",
            "|   536367|    21755|LOVE BUILDING BLO...|       3|12/1/2010 8:34|     5.95|     13047|United Kingdom|\n",
            "|   536367|    21777|RECIPE BOX WITH M...|       4|12/1/2010 8:34|     7.95|     13047|United Kingdom|\n",
            "+---------+---------+--------------------+--------+--------------+---------+----------+--------------+\n",
            "only showing top 20 rows\n",
            "\n"
          ],
          "name": "stdout"
        }
      ]
    },
    {
      "cell_type": "markdown",
      "metadata": {
        "id": "QlHHeWBjj7_X"
      },
      "source": [
        "#Basic transformation"
      ]
    },
    {
      "cell_type": "code",
      "metadata": {
        "id": "eJkkb_bSmvF3"
      },
      "source": [
        "data = data.withColumn(\"Quantity\", data[\"Quantity\"].cast(IntegerType()))\n",
        "data = data.withColumn(\"UnitPrice\", data[\"UnitPrice\"].cast(DoubleType()))\n",
        "\n",
        "spark.sql(\"set spark.sql.legacy.timeParserPolicy=LEGACY\")\n",
        "data = data.withColumn(\"Date\", to_date(col(\"InvoiceDate\"), \"MM/dd/yyyy\"))\n",
        "\n",
        "# define Total column\n",
        "data = data.withColumn(\"Total\", round(data[\"UnitPrice\"] * data[\"Quantity\"], 2))\n",
        "\n",
        "# calculate difference in days between 2011-12-31 and the Invoice Date\n",
        "data = data.withColumn(\"RecencyDays\", expr(\"datediff('2011-12-31', Date)\"))"
      ],
      "execution_count": 69,
      "outputs": []
    },
    {
      "cell_type": "code",
      "metadata": {
        "id": "H8ZUYBbgkF0Y",
        "outputId": "8c3feb0d-8082-4917-b253-c56a463168c9",
        "colab": {
          "base_uri": "https://localhost:8080/",
          "height": 479
        }
      },
      "source": [
        "data.show()"
      ],
      "execution_count": 70,
      "outputs": [
        {
          "output_type": "stream",
          "text": [
            "+---------+---------+--------------------+--------+--------------+---------+----------+--------------+----------+-----+-----------+\n",
            "|InvoiceNo|StockCode|         Description|Quantity|   InvoiceDate|UnitPrice|CustomerID|       Country|      Date|Total|RecencyDays|\n",
            "+---------+---------+--------------------+--------+--------------+---------+----------+--------------+----------+-----+-----------+\n",
            "|   536365|   85123A|WHITE HANGING HEA...|       6|12/1/2010 8:26|     2.55|     17850|United Kingdom|2010-12-01| 15.3|        395|\n",
            "|   536365|    71053| WHITE METAL LANTERN|       6|12/1/2010 8:26|     3.39|     17850|United Kingdom|2010-12-01|20.34|        395|\n",
            "|   536365|   84406B|CREAM CUPID HEART...|       8|12/1/2010 8:26|     2.75|     17850|United Kingdom|2010-12-01| 22.0|        395|\n",
            "|   536365|   84029G|KNITTED UNION FLA...|       6|12/1/2010 8:26|     3.39|     17850|United Kingdom|2010-12-01|20.34|        395|\n",
            "|   536365|   84029E|RED WOOLLY HOTTIE...|       6|12/1/2010 8:26|     3.39|     17850|United Kingdom|2010-12-01|20.34|        395|\n",
            "|   536365|    22752|SET 7 BABUSHKA NE...|       2|12/1/2010 8:26|     7.65|     17850|United Kingdom|2010-12-01| 15.3|        395|\n",
            "|   536365|    21730|GLASS STAR FROSTE...|       6|12/1/2010 8:26|     4.25|     17850|United Kingdom|2010-12-01| 25.5|        395|\n",
            "|   536366|    22633|HAND WARMER UNION...|       6|12/1/2010 8:28|     1.85|     17850|United Kingdom|2010-12-01| 11.1|        395|\n",
            "|   536366|    22632|HAND WARMER RED P...|       6|12/1/2010 8:28|     1.85|     17850|United Kingdom|2010-12-01| 11.1|        395|\n",
            "|   536367|    84879|ASSORTED COLOUR B...|      32|12/1/2010 8:34|     1.69|     13047|United Kingdom|2010-12-01|54.08|        395|\n",
            "|   536367|    22745|POPPY'S PLAYHOUSE...|       6|12/1/2010 8:34|      2.1|     13047|United Kingdom|2010-12-01| 12.6|        395|\n",
            "|   536367|    22748|POPPY'S PLAYHOUSE...|       6|12/1/2010 8:34|      2.1|     13047|United Kingdom|2010-12-01| 12.6|        395|\n",
            "|   536367|    22749|FELTCRAFT PRINCES...|       8|12/1/2010 8:34|     3.75|     13047|United Kingdom|2010-12-01| 30.0|        395|\n",
            "|   536367|    22310|IVORY KNITTED MUG...|       6|12/1/2010 8:34|     1.65|     13047|United Kingdom|2010-12-01|  9.9|        395|\n",
            "|   536367|    84969|BOX OF 6 ASSORTED...|       6|12/1/2010 8:34|     4.25|     13047|United Kingdom|2010-12-01| 25.5|        395|\n",
            "|   536367|    22623|BOX OF VINTAGE JI...|       3|12/1/2010 8:34|     4.95|     13047|United Kingdom|2010-12-01|14.85|        395|\n",
            "|   536367|    22622|BOX OF VINTAGE AL...|       2|12/1/2010 8:34|     9.95|     13047|United Kingdom|2010-12-01| 19.9|        395|\n",
            "|   536367|    21754|HOME BUILDING BLO...|       3|12/1/2010 8:34|     5.95|     13047|United Kingdom|2010-12-01|17.85|        395|\n",
            "|   536367|    21755|LOVE BUILDING BLO...|       3|12/1/2010 8:34|     5.95|     13047|United Kingdom|2010-12-01|17.85|        395|\n",
            "|   536367|    21777|RECIPE BOX WITH M...|       4|12/1/2010 8:34|     7.95|     13047|United Kingdom|2010-12-01| 31.8|        395|\n",
            "+---------+---------+--------------------+--------+--------------+---------+----------+--------------+----------+-----+-----------+\n",
            "only showing top 20 rows\n",
            "\n"
          ],
          "name": "stdout"
        }
      ]
    },
    {
      "cell_type": "markdown",
      "metadata": {
        "id": "Q4dOVnSknmi-"
      },
      "source": [
        "#Create RFM Table"
      ]
    },
    {
      "cell_type": "markdown",
      "metadata": {
        "id": "U-4E4y69auMD"
      },
      "source": [
        "Now that we have preprocessed our data, the creation of the RFM table is quite straightforward. For each customer, we need to measure the following indicators:\n",
        "* Recency. We shall consider as recency the minimum RecencyDays that we calculated in the previous step. This makes sense since the minimum RecencyDays will give us the number of days that have passed since the customer’s last purchase.\n",
        "* Frequency. It is calculated as the number of purchases that the customer has made.\n",
        "* Monetary. It is the total value of all purchases for each customer."
      ]
    },
    {
      "cell_type": "code",
      "metadata": {
        "id": "Xwt0t2h7kEG4"
      },
      "source": [
        "rfm_table = data.groupBy(\"CustomerId\")\\\n",
        "                        .agg(min(\"RecencyDays\").alias(\"Recency\"), \\\n",
        "                             count(\"InvoiceNo\").alias(\"Frequency\"), \\\n",
        "                             sum(\"Total\").alias(\"Monetary\"))"
      ],
      "execution_count": 71,
      "outputs": []
    },
    {
      "cell_type": "code",
      "metadata": {
        "id": "kO1TQaIpkOwg",
        "outputId": "0151cdbd-50d5-4906-e250-cdfe7a50998b",
        "colab": {
          "base_uri": "https://localhost:8080/",
          "height": 459
        }
      },
      "source": [
        "rfm_table.show()"
      ],
      "execution_count": 72,
      "outputs": [
        {
          "output_type": "stream",
          "text": [
            "+----------+-------+---------+------------------+\n",
            "|CustomerId|Recency|Frequency|          Monetary|\n",
            "+----------+-------+---------+------------------+\n",
            "|     16250|    283|       24| 389.4400000000001|\n",
            "|     15574|    199|      168| 702.2500000000001|\n",
            "|     15555|     34|      925| 4758.199999999993|\n",
            "|     15271|     29|      275|2485.8199999999997|\n",
            "|     17714|    342|       10|             153.0|\n",
            "|     17686|     29|      286| 5739.460000000005|\n",
            "|     13865|     80|       30|501.55999999999995|\n",
            "|     14157|     41|       49|400.43000000000006|\n",
            "|     13610|     34|      228|1115.4299999999998|\n",
            "|     13772|     55|      177|           1132.13|\n",
            "|     13282|     40|       40|           1047.84|\n",
            "|     12394|     85|       27|           1272.48|\n",
            "|     16320|    194|       56|           1038.46|\n",
            "|     13192|    117|       63|            911.94|\n",
            "|     14887|    101|        6|            1862.0|\n",
            "|     17506|     92|       16|294.28999999999996|\n",
            "|     17427|     93|        2|             100.8|\n",
            "|     18130|     30|       71|1045.7400000000002|\n",
            "|     16504|     47|       86| 484.3799999999998|\n",
            "|     15269|     45|        2|             408.8|\n",
            "+----------+-------+---------+------------------+\n",
            "only showing top 20 rows\n",
            "\n"
          ],
          "name": "stdout"
        }
      ]
    },
    {
      "cell_type": "markdown",
      "metadata": {
        "id": "x-QGpk3ua5nP"
      },
      "source": [
        "Statisticly segmenting"
      ]
    },
    {
      "cell_type": "code",
      "metadata": {
        "id": "RugHjAXhp1YH"
      },
      "source": [
        "r_quartile = rfm_table.approxQuantile(\"Recency\", [0.25, 0.5, 0.75], 0)\n",
        "f_quartile = rfm_table.approxQuantile(\"Frequency\", [0.25, 0.5, 0.75], 0)\n",
        "m_quartile = rfm_table.approxQuantile(\"Monetary\", [0.25, 0.5, 0.75], 0)\n",
        "\n",
        "rfm_table = rfm_table.withColumn(\"R_Quartile\", \\\n",
        "                                 when(col(\"Recency\") >= r_quartile[2] , 1).\\\n",
        "                                 when(col(\"Recency\") >= r_quartile[1] , 2).\\\n",
        "                                 when(col(\"Recency\") >= r_quartile[0] , 3).\\\n",
        "                                 otherwise(4))\n",
        "\n",
        "rfm_table = rfm_table.withColumn(\"F_Quartile\", \\\n",
        "                                 when(col(\"Frequency\") > f_quartile[2] , 4).\\\n",
        "                                 when(col(\"Frequency\") > f_quartile[1] , 3).\\\n",
        "                                 when(col(\"Frequency\") > f_quartile[0] , 2).\\\n",
        "                                 otherwise(1))\n",
        "\n",
        "rfm_table = rfm_table.withColumn(\"M_Quartile\", \\\n",
        "                                 when(col(\"Monetary\") >= m_quartile[2] , 4).\\\n",
        "                                 when(col(\"Monetary\") >= m_quartile[1] , 3).\\\n",
        "                                 when(col(\"Monetary\") >= m_quartile[0] , 2).\\\n",
        "                                 otherwise(1))\n",
        "\n",
        "rfm_table = rfm_table.withColumn(\"RFM_Score\", concat(col(\"R_Quartile\"), col(\"F_Quartile\"), col(\"M_Quartile\")))\n"
      ],
      "execution_count": 73,
      "outputs": []
    },
    {
      "cell_type": "code",
      "metadata": {
        "id": "79NxWrCprsTC",
        "outputId": "6a451858-553b-4ef1-8dd7-7b7e8ff49d32",
        "colab": {
          "base_uri": "https://localhost:8080/",
          "height": 459
        }
      },
      "source": [
        "rfm_table.show()"
      ],
      "execution_count": 74,
      "outputs": [
        {
          "output_type": "stream",
          "text": [
            "+----------+-------+---------+------------------+----------+----------+----------+---------+\n",
            "|CustomerId|Recency|Frequency|          Monetary|R_Quartile|F_Quartile|M_Quartile|RFM_Score|\n",
            "+----------+-------+---------+------------------+----------+----------+----------+---------+\n",
            "|     16250|    283|       24| 389.4400000000001|         1|         2|         2|      122|\n",
            "|     15574|    199|      168| 702.2500000000001|         1|         4|         3|      143|\n",
            "|     15555|     34|      925| 4758.199999999993|         4|         4|         4|      444|\n",
            "|     15271|     29|      275|2485.8199999999997|         4|         4|         4|      444|\n",
            "|     17714|    342|       10|             153.0|         1|         1|         1|      111|\n",
            "|     17686|     29|      286| 5739.460000000005|         4|         4|         4|      444|\n",
            "|     13865|     80|       30|501.55999999999995|         2|         2|         2|      222|\n",
            "|     14157|     41|       49|400.43000000000006|         3|         3|         2|      332|\n",
            "|     13610|     34|      228|1115.4299999999998|         4|         4|         3|      443|\n",
            "|     13772|     55|      177|           1132.13|         3|         4|         3|      343|\n",
            "|     13282|     40|       40|           1047.84|         3|         2|         3|      323|\n",
            "|     12394|     85|       27|           1272.48|         2|         2|         3|      223|\n",
            "|     16320|    194|       56|           1038.46|         1|         3|         3|      133|\n",
            "|     13192|    117|       63|            911.94|         2|         3|         3|      233|\n",
            "|     14887|    101|        6|            1862.0|         2|         1|         4|      214|\n",
            "|     17506|     92|       16|294.28999999999996|         2|         1|         2|      212|\n",
            "|     17427|     93|        2|             100.8|         2|         1|         1|      211|\n",
            "|     18130|     30|       71|1045.7400000000002|         4|         3|         3|      433|\n",
            "|     16504|     47|       86| 484.3799999999998|         3|         3|         2|      332|\n",
            "|     15269|     45|        2|             408.8|         3|         1|         2|      312|\n",
            "+----------+-------+---------+------------------+----------+----------+----------+---------+\n",
            "only showing top 20 rows\n",
            "\n"
          ],
          "name": "stdout"
        }
      ]
    },
    {
      "cell_type": "code",
      "metadata": {
        "id": "IXxlJ83fqBQE",
        "outputId": "5cce0547-6d60-4042-dfa8-ce0829d489cc",
        "colab": {
          "base_uri": "https://localhost:8080/",
          "height": 452
        }
      },
      "source": [
        "import plotly.graph_objs as go\n",
        "import plotly.graph_objs as iplot\n",
        "\n",
        "\n",
        "grouped_by_rfmscore = rfm_table.groupBy(\"RFM_Score\").count().orderBy(\"count\", ascending=False)\n",
        "grouped_by_rfmscore_pandas = grouped_by_rfmscore.toPandas()\n",
        "\n",
        "data2 = [go.Bar(x=grouped_by_rfmscore_pandas['RFM_Score'], y=grouped_by_rfmscore_pandas['count'])]\n",
        "\n",
        "fig = grouped_by_rfmscore_pandas.plot(kind=\"bar\",x='RFM_Score',figsize=(15,7))\n",
        "\n",
        "#(kind=\"bar\",figsize=(15,7))"
      ],
      "execution_count": 98,
      "outputs": [
        {
          "output_type": "display_data",
          "data": {
            "image/png": "[encoded data removed]",
            "text/plain": [
              "<Figure size 1080x504 with 1 Axes>"
            ]
          },
          "metadata": {
            "tags": [],
            "needs_background": "light"
          }
        }
      ]
    },
    {
      "cell_type": "code",
      "metadata": {
        "id": "YR825Ih-uai-",
        "outputId": "eacec4bf-31f3-42b6-cfbc-2d973c55ac61",
        "colab": {
          "base_uri": "https://localhost:8080/",
          "height": 255
        }
      },
      "source": [
        "print(grouped_by_rfmscore_pandas)"
      ],
      "execution_count": 76,
      "outputs": [
        {
          "output_type": "stream",
          "text": [
            "   RFM_Score  count\n",
            "0        444    442\n",
            "1        111    395\n",
            "2        344    234\n",
            "3        122    210\n",
            "4        333    187\n",
            "..       ...    ...\n",
            "57       124      6\n",
            "58       142      4\n",
            "59       414      3\n",
            "60       441      1\n",
            "61       241      1\n",
            "\n",
            "[62 rows x 2 columns]\n"
          ],
          "name": "stdout"
        }
      ]
    },
    {
      "cell_type": "markdown",
      "metadata": {
        "id": "NjCdoox9Z3em"
      },
      "source": [
        "Surprisingly, the best customers compose the largest segment :), but ironically the worst customers (customers with all scores of 1s) are the second-largest segment :(.\n",
        "\n",
        "Apart from the best and worst customers, we may also define the following important customer segments:\n",
        "High-spending New Customers — This group consists of those customers in 4–1–3 and 4–1–4. These are customers who transacted only once, but very recently and they spent a lot.\n",
        "\n",
        "Lowest-Spending Active Loyal Customers — This group consists of those customers in segments 3–4–1 and 4–4–1 (they transacted recently and do so often, but spend the least).\n",
        "\n",
        "Churned Best Customers — This segment consists of those customers in groups 1–3–3, 1–4–3, 1–3–4 and 1–4–4 (they transacted frequently and spent a lot, but it’s been a long time since they’ve transacted)."
      ]
    }
  ]
}