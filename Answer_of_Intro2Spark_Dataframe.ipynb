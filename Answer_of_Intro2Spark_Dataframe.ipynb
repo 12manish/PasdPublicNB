{
  "nbformat": 4,
  "nbformat_minor": 0,
  "metadata": {
    "colab": {
      "name": "Answer of Intro2Spark-Dataframe.ipynb",
      "provenance": [],
      "toc_visible": true,
      "authorship_tag": "ABX9TyNC/kQqDDUAwrdFbA8YR2yx",
      "include_colab_link": true
    },
    "kernelspec": {
      "name": "python3",
      "display_name": "Python 3"
    }
  },
  "cells": [
    {
      "cell_type": "markdown",
      "metadata": {
        "id": "view-in-github",
        "colab_type": "text"
      },
      "source": [
        "<a href=\"https://colab.research.google.com/github/pasdptt/PasdPublicNB/blob/master/Answer_of_Intro2Spark_Dataframe.ipynb\" target=\"_parent\"><img src=\"https://colab.research.google.com/assets/colab-badge.svg\" alt=\"Open In Colab\"/></a>"
      ]
    },
    {
      "cell_type": "markdown",
      "metadata": {
        "id": "lmplNXDCxV8i",
        "colab_type": "text"
      },
      "source": [
        "# Install Spark + import lib + start spark session"
      ]
    },
    {
      "cell_type": "code",
      "metadata": {
        "id": "metqMd728bdG",
        "colab_type": "code",
        "colab": {
          "base_uri": "https://localhost:8080/",
          "height": 425
        },
        "outputId": "28ba0656-23a8-4520-a65c-415a94f9f5fe"
      },
      "source": [
        "!apt-get update"
      ],
      "execution_count": 1,
      "outputs": [
        {
          "output_type": "stream",
          "text": [
            "Get:1 https://cloud.r-project.org/bin/linux/ubuntu bionic-cran35/ InRelease [3,626 B]\n",
            "Ign:2 https://developer.download.nvidia.com/compute/cuda/repos/ubuntu1804/x86_64  InRelease\n",
            "Get:3 https://cloud.r-project.org/bin/linux/ubuntu bionic-cran35/ Packages [95.3 kB]\n",
            "Ign:4 https://developer.download.nvidia.com/compute/machine-learning/repos/ubuntu1804/x86_64  InRelease\n",
            "Get:5 https://developer.download.nvidia.com/compute/cuda/repos/ubuntu1804/x86_64  Release [697 B]\n",
            "Hit:6 https://developer.download.nvidia.com/compute/machine-learning/repos/ubuntu1804/x86_64  Release\n",
            "Get:7 https://developer.download.nvidia.com/compute/cuda/repos/ubuntu1804/x86_64  Release.gpg [836 B]\n",
            "Get:8 http://ppa.launchpad.net/graphics-drivers/ppa/ubuntu bionic InRelease [21.3 kB]\n",
            "Get:9 http://security.ubuntu.com/ubuntu bionic-security InRelease [88.7 kB]\n",
            "Hit:11 http://archive.ubuntu.com/ubuntu bionic InRelease\n",
            "Get:12 http://archive.ubuntu.com/ubuntu bionic-updates InRelease [88.7 kB]\n",
            "Ign:13 https://developer.download.nvidia.com/compute/cuda/repos/ubuntu1804/x86_64  Packages\n",
            "Get:13 https://developer.download.nvidia.com/compute/cuda/repos/ubuntu1804/x86_64  Packages [255 kB]\n",
            "Get:14 http://ppa.launchpad.net/marutter/c2d4u3.5/ubuntu bionic InRelease [15.4 kB]\n",
            "Get:15 http://security.ubuntu.com/ubuntu bionic-security/main amd64 Packages [1,045 kB]\n",
            "Get:16 http://ppa.launchpad.net/graphics-drivers/ppa/ubuntu bionic/main amd64 Packages [45.7 kB]\n",
            "Get:17 http://archive.ubuntu.com/ubuntu bionic-backports InRelease [74.6 kB]\n",
            "Get:18 http://archive.ubuntu.com/ubuntu bionic-updates/universe amd64 Packages [1,418 kB]\n",
            "Get:19 http://ppa.launchpad.net/marutter/c2d4u3.5/ubuntu bionic/main Sources [1,857 kB]\n",
            "Get:20 http://security.ubuntu.com/ubuntu bionic-security/universe amd64 Packages [890 kB]\n",
            "Get:21 http://archive.ubuntu.com/ubuntu bionic-updates/main amd64 Packages [1,341 kB]\n",
            "Get:22 http://ppa.launchpad.net/marutter/c2d4u3.5/ubuntu bionic/main amd64 Packages [896 kB]\n",
            "Fetched 8,137 kB in 6s (1,290 kB/s)\n",
            "Reading package lists... Done\n"
          ],
          "name": "stdout"
        }
      ]
    },
    {
      "cell_type": "code",
      "metadata": {
        "id": "hbbvp7Z4_A1z",
        "colab_type": "code",
        "colab": {
          "base_uri": "https://localhost:8080/",
          "height": 34
        },
        "outputId": "56a35e2c-8eb3-479e-a111-ee3f9a9b6b35"
      },
      "source": [
        "#Get Install the Java Development Kit\n",
        "!apt-get install openjdk-8-jdk-headless -qq > /dev/null\n",
        "#Get Spark lib -- address need to be change according to the current version of Spark: https://downloads.apache.org/spark/\n",
        "!wget -q http://apache.osuosl.org/spark/spark-3.0.0/spark-3.0.0-bin-hadoop3.2.tgz\n",
        "#Unzip th Spark\n",
        "!tar xf spark-3.0.0-bin-hadoop3.2.tgz\n",
        "#install findspark for Python\n",
        "!pip install -q findspark\n",
        "#Install extra lib(s)\n",
        "!pip install -q xlrd\n",
        "!pip install -q kaggle\n",
        "!pip install -q kora\n",
        "\n",
        "#import and set environment for spark\n",
        "import os\n",
        "os.environ[\"JAVA_HOME\"] = \"/usr/lib/jvm/java-8-openjdk-amd64\"\n",
        "os.environ[\"SPARK_HOME\"] = \"/content/spark-3.0.0-bin-hadoop3.2\"\n",
        "\n",
        "import kora\n",
        "import pandas as pd\n",
        "\n",
        "import findspark\n",
        "findspark.init()\n",
        "from pyspark import SparkContext\n",
        "from pyspark.sql import SparkSession\n",
        "from pyspark.sql import *\n",
        "\n",
        "SPARK_URL = \"local[*]\"\n",
        "\n",
        "spark = SparkSession.builder.master(SPARK_URL).getOrCreate()\n",
        "\n",
        "# Check the pyspark version\n",
        "import pyspark\n",
        "print(pyspark.__version__)"
      ],
      "execution_count": 2,
      "outputs": [
        {
          "output_type": "stream",
          "text": [
            "3.0.0\n"
          ],
          "name": "stdout"
        }
      ]
    },
    {
      "cell_type": "markdown",
      "metadata": {
        "id": "iCw_wOW_1843",
        "colab_type": "text"
      },
      "source": [
        "# Getting data from Kaggle"
      ]
    },
    {
      "cell_type": "markdown",
      "metadata": {
        "id": "MrIZV6G52HWp",
        "colab_type": "text"
      },
      "source": [
        "You may download data from Kaggle mannually or using auto pipeline like this one."
      ]
    },
    {
      "cell_type": "code",
      "metadata": {
        "id": "KClq7t6OhgDL",
        "colab_type": "code",
        "colab": {
          "base_uri": "https://localhost:8080/",
          "height": 156
        },
        "outputId": "43516475-92b7-4dd4-c8c0-1e144ce0171f"
      },
      "source": [
        "from google.colab import drive\n",
        "drive.mount('/content/gdrive')\n",
        "\n",
        "import os\n",
        "os.environ['KAGGLE_CONFIG_DIR'] = \"/content/gdrive/My Drive/Kaggle\"\n",
        "\n",
        "#Adding API code here\n",
        "!kaggle datasets download -d claudiodavi/superhero-set\n",
        "\n",
        "!unzip /content/superhero-set.zip  && rm /content/superhero-set.zip"
      ],
      "execution_count": null,
      "outputs": [
        {
          "output_type": "stream",
          "text": [
            "Drive already mounted at /content/gdrive; to attempt to forcibly remount, call drive.mount(\"/content/gdrive\", force_remount=True).\n",
            "Downloading superhero-set.zip to /content\n",
            "  0% 0.00/31.7k [00:00<?, ?B/s]\n",
            "100% 31.7k/31.7k [00:00<00:00, 12.3MB/s]\n",
            "Archive:  /content/superhero-set.zip\n",
            "  inflating: heroes_information.csv  \n",
            "  inflating: super_hero_powers.csv   \n"
          ],
          "name": "stdout"
        }
      ]
    },
    {
      "cell_type": "code",
      "metadata": {
        "id": "RxKcQZcoh9i2",
        "colab_type": "code",
        "colab": {
          "base_uri": "https://localhost:8080/",
          "height": 479
        },
        "outputId": "5e3dae9e-4eda-454c-cb01-1be147dc2c89"
      },
      "source": [
        "file_path = \"./heroes_information.csv\"\n",
        "\n",
        "df_hero_indi = spark.read.options(header=\"true\",inferschema = \"true\").csv(file_path)\n",
        "\n",
        "df_hero_indi.show()"
      ],
      "execution_count": null,
      "outputs": [
        {
          "output_type": "stream",
          "text": [
            "+---+-----------------+------+---------+-----------------+----------+------+-----------------+----------+---------+------+\n",
            "|_c0|             name|Gender|Eye color|             Race|Hair color|Height|        Publisher|Skin color|Alignment|Weight|\n",
            "+---+-----------------+------+---------+-----------------+----------+------+-----------------+----------+---------+------+\n",
            "|  0|           A-Bomb|  Male|   yellow|            Human|   No Hair| 203.0|    Marvel Comics|         -|     good| 441.0|\n",
            "|  1|       Abe Sapien|  Male|     blue|    Icthyo Sapien|   No Hair| 191.0|Dark Horse Comics|      blue|     good|  65.0|\n",
            "|  2|         Abin Sur|  Male|     blue|          Ungaran|   No Hair| 185.0|        DC Comics|       red|     good|  90.0|\n",
            "|  3|      Abomination|  Male|    green|Human / Radiation|   No Hair| 203.0|    Marvel Comics|         -|      bad| 441.0|\n",
            "|  4|          Abraxas|  Male|     blue|    Cosmic Entity|     Black| -99.0|    Marvel Comics|         -|      bad| -99.0|\n",
            "|  5|    Absorbing Man|  Male|     blue|            Human|   No Hair| 193.0|    Marvel Comics|         -|      bad| 122.0|\n",
            "|  6|      Adam Monroe|  Male|     blue|                -|     Blond| -99.0|     NBC - Heroes|         -|     good| -99.0|\n",
            "|  7|     Adam Strange|  Male|     blue|            Human|     Blond| 185.0|        DC Comics|         -|     good|  88.0|\n",
            "|  8|         Agent 13|Female|     blue|                -|     Blond| 173.0|    Marvel Comics|         -|     good|  61.0|\n",
            "|  9|        Agent Bob|  Male|    brown|            Human|     Brown| 178.0|    Marvel Comics|         -|     good|  81.0|\n",
            "| 10|       Agent Zero|  Male|        -|                -|         -| 191.0|    Marvel Comics|         -|     good| 104.0|\n",
            "| 11|       Air-Walker|  Male|     blue|                -|     White| 188.0|    Marvel Comics|         -|      bad| 108.0|\n",
            "| 12|             Ajax|  Male|    brown|           Cyborg|     Black| 193.0|    Marvel Comics|         -|      bad|  90.0|\n",
            "| 13|       Alan Scott|  Male|     blue|                -|     Blond| 180.0|        DC Comics|         -|     good|  90.0|\n",
            "| 14|      Alex Mercer|  Male|        -|            Human|         -| -99.0|        Wildstorm|         -|      bad| -99.0|\n",
            "| 15|     Alex Woolsly|  Male|        -|                -|         -| -99.0|     NBC - Heroes|         -|     good| -99.0|\n",
            "| 16|Alfred Pennyworth|  Male|     blue|            Human|     Black| 178.0|        DC Comics|         -|     good|  72.0|\n",
            "| 17|            Alien|  Male|        -|  Xenomorph XX121|   No Hair| 244.0|Dark Horse Comics|     black|      bad| 169.0|\n",
            "| 18| Allan Quatermain|  Male|        -|                -|         -| -99.0|        Wildstorm|         -|     good| -99.0|\n",
            "| 19|            Amazo|  Male|      red|          Android|         -| 257.0|        DC Comics|         -|      bad| 173.0|\n",
            "+---+-----------------+------+---------+-----------------+----------+------+-----------------+----------+---------+------+\n",
            "only showing top 20 rows\n",
            "\n"
          ],
          "name": "stdout"
        }
      ]
    },
    {
      "cell_type": "code",
      "metadata": {
        "id": "cplaIPgVi5Bo",
        "colab_type": "code",
        "colab": {
          "base_uri": "https://localhost:8080/",
          "height": 479
        },
        "outputId": "61f4f4ad-5a98-4468-c33e-def449114408"
      },
      "source": [
        "file_path = \"./super_hero_powers.csv\"\n",
        "\n",
        "df_hero_power = spark.read.options(header=\"true\",inferschema = \"true\").csv(file_path)\n",
        "\n",
        "df_hero_power.show()"
      ],
      "execution_count": null,
      "outputs": [
        {
          "output_type": "stream",
          "text": [
            "+----------------+-------+-------------------+------------------+---------------------+---------------+----------+-------+-----------------+------+------------+--------------------+------------+--------------+------------------+-----------------+---------+------------+--------------+-----------+---------+------------+-------------+-----------+-------------+---------------+-------+-------------+-------------+---------+--------+-----------+----------+----------------------+-------------------+--------------+----------------------+-----------+-------------+---------------+-----------+------------+-----+------------+-----+------------+------------------+-----------+-------------+--------------------+-----------+----------+---------------+-------+-----------------+--------------------+------------+----------+---------+---------------+--------+---------------+-----------------+------------+---------------+------------+-------+---------------+-----------------+--------------+----------+-------------------+----------------------------+--------------------+---------------------+-------------+---------+------------+------------+---------------+----------------+----------------+----------+--------+------------+--------------+-------------+-------------+--------------+----------------------+---------------+----------+-------+----------+----------+------------------------+---------------+------------+-------------+------------+----------+-------------------------+------+-------------------+---------------+---------------+-----------+--------------+---------+--------------+-----------------+------------+----------+--------+--------------+------------+----------+-------------+------------------+-------------------+----------------------------+-----------------+-----------------+--------------------+--------------------+--------------+---------------+---------+-----------------------+-------------+-----+------------+-----------------+--------------+----------------+------------+-----------+--------------------+------------------+--------------------+-------+------------+------------+------------+--------------+-----------------+------------+-----------------+---------+------------+------------+-------------+-----------+-----------+-------------------+---------------+--------------+----------------+------------+---------------+----------+----------------+-----------+-------------+---------------------+-------------+-----------+----------+\n",
            "|      hero_names|Agility|Accelerated Healing|Lantern Power Ring|Dimensional Awareness|Cold Resistance|Durability|Stealth|Energy Absorption|Flight|Danger Sense|Underwater breathing|Marksmanship|Weapons Master|Power Augmentation|Animal Attributes|Longevity|Intelligence|Super Strength|Cryokinesis|Telepathy|Energy Armor|Energy Blasts|Duplication|Size Changing|Density Control|Stamina|Astral Travel|Audio Control|Dexterity|Omnitrix|Super Speed|Possession|Animal Oriented Powers|Weapon-based Powers|Electrokinesis|Darkforce Manipulation|Death Touch|Teleportation|Enhanced Senses|Telekinesis|Energy Beams|Magic|Hyperkinesis| Jump|Clairvoyance|Dimensional Travel|Power Sense|Shapeshifting|Peak Human Condition|Immortality|Camouflage|Element Control|Phasing|Astral Projection|Electrical Transport|Fire Control|Projection|Summoning|Enhanced Memory|Reflexes|Invulnerability|Energy Constructs|Force Fields|Self-Sustenance|Anti-Gravity|Empathy|Power Nullifier|Radiation Control|Psionic Powers|Elasticity|Substance Secretion|Elemental Transmogrification|Technopath/Cyberpath|Photographic Reflexes|Seismic Power|Animation|Precognition|Mind Control|Fire Resistance|Power Absorption|Enhanced Hearing|Nova Force|Insanity|Hypnokinesis|Animal Control|Natural Armor|Intangibility|Enhanced Sight|Molecular Manipulation|Heat Generation|Adaptation|Gliding|Power Suit|Mind Blast|Probability Manipulation|Gravity Control|Regeneration|Light Control|Echolocation|Levitation|Toxin and Disease Control|Banish|Energy Manipulation|Heat Resistance|Natural Weapons|Time Travel|Enhanced Smell|Illusions|Thirstokinesis|Hair Manipulation|Illumination|Omnipotent|Cloaking|Changing Armor|Power Cosmic|Biokinesis|Water Control|Radiation Immunity|Vision - Telescopic|Toxin and Disease Resistance|Spatial Awareness|Energy Resistance|Telepathy Resistance|Molecular Combustion|Omnilingualism|Portal Creation|Magnetism|Mind Control Resistance|Plant Control|Sonar|Sonic Scream|Time Manipulation|Enhanced Touch|Magic Resistance|Invisibility|Sub-Mariner|Radiation Absorption|Intuitive aptitude|Vision - Microscopic|Melting|Wind Control|Super Breath|Wallcrawling|Vision - Night|Vision - Infrared|Grim Reaping|Matter Absorption|The Force|Resurrection|Terrakinesis|Vision - Heat|Vitakinesis|Radar Sense|Qwardian Power Ring|Weather Control|Vision - X-Ray|Vision - Thermal|Web Creation|Reality Warping|Odin Force|Symbiote Costume|Speed Force|Phoenix Force|Molecular Dissipation|Vision - Cryo|Omnipresent|Omniscient|\n",
            "+----------------+-------+-------------------+------------------+---------------------+---------------+----------+-------+-----------------+------+------------+--------------------+------------+--------------+------------------+-----------------+---------+------------+--------------+-----------+---------+------------+-------------+-----------+-------------+---------------+-------+-------------+-------------+---------+--------+-----------+----------+----------------------+-------------------+--------------+----------------------+-----------+-------------+---------------+-----------+------------+-----+------------+-----+------------+------------------+-----------+-------------+--------------------+-----------+----------+---------------+-------+-----------------+--------------------+------------+----------+---------+---------------+--------+---------------+-----------------+------------+---------------+------------+-------+---------------+-----------------+--------------+----------+-------------------+----------------------------+--------------------+---------------------+-------------+---------+------------+------------+---------------+----------------+----------------+----------+--------+------------+--------------+-------------+-------------+--------------+----------------------+---------------+----------+-------+----------+----------+------------------------+---------------+------------+-------------+------------+----------+-------------------------+------+-------------------+---------------+---------------+-----------+--------------+---------+--------------+-----------------+------------+----------+--------+--------------+------------+----------+-------------+------------------+-------------------+----------------------------+-----------------+-----------------+--------------------+--------------------+--------------+---------------+---------+-----------------------+-------------+-----+------------+-----------------+--------------+----------------+------------+-----------+--------------------+------------------+--------------------+-------+------------+------------+------------+--------------+-----------------+------------+-----------------+---------+------------+------------+-------------+-----------+-----------+-------------------+---------------+--------------+----------------+------------+---------------+----------+----------------+-----------+-------------+---------------------+-------------+-----------+----------+\n",
            "|         3-D Man|   true|              false|             false|                false|          false|     false|  false|            false| false|       false|               false|       false|         false|             false|            false|    false|       false|          true|      false|    false|       false|        false|      false|        false|          false|   true|        false|        false|    false|   false|       true|     false|                 false|              false|         false|                 false|      false|        false|          false|      false|       false|false|       false|false|       false|             false|      false|        false|               false|      false|     false|          false|  false|            false|               false|       false|     false|    false|          false|   false|          false|            false|       false|          false|       false|  false|          false|            false|         false|     false|              false|                       false|               false|                false|        false|    false|       false|       false|          false|           false|           false|     false|   false|       false|         false|        false|        false|         false|                 false|          false|     false|  false|     false|     false|                   false|          false|       false|        false|       false|     false|                    false| false|              false|          false|          false|      false|         false|    false|         false|            false|       false|     false|   false|         false|       false|     false|        false|             false|              false|                       false|            false|            false|               false|               false|         false|          false|    false|                  false|        false|false|       false|            false|         false|           false|       false|      false|               false|             false|               false|  false|       false|       false|       false|         false|            false|       false|            false|    false|       false|       false|        false|      false|      false|              false|          false|         false|           false|       false|          false|     false|           false|      false|        false|                false|        false|      false|     false|\n",
            "|          A-Bomb|  false|               true|             false|                false|          false|      true|  false|            false| false|       false|               false|       false|         false|             false|            false|     true|       false|          true|      false|    false|       false|        false|      false|        false|          false|   true|        false|        false|    false|   false|      false|     false|                 false|              false|         false|                 false|      false|        false|          false|      false|       false|false|       false|false|       false|             false|      false|        false|               false|      false|      true|          false|  false|            false|               false|       false|     false|    false|          false|   false|          false|            false|       false|           true|       false|  false|          false|            false|         false|     false|              false|                       false|               false|                false|        false|    false|       false|       false|          false|           false|           false|     false|   false|       false|         false|        false|        false|         false|                 false|          false|     false|  false|     false|     false|                   false|          false|       false|        false|       false|     false|                    false| false|              false|          false|          false|      false|         false|    false|         false|            false|       false|     false|   false|         false|       false|     false|        false|             false|              false|                       false|            false|            false|               false|               false|         false|          false|    false|                  false|        false|false|       false|            false|         false|           false|       false|      false|               false|             false|               false|  false|       false|       false|       false|         false|            false|       false|            false|    false|       false|       false|        false|      false|      false|              false|          false|         false|           false|       false|          false|     false|           false|      false|        false|                false|        false|      false|     false|\n",
            "|      Abe Sapien|   true|               true|             false|                false|           true|      true|  false|            false| false|       false|                true|        true|          true|             false|            false|     true|        true|          true|      false|     true|       false|        false|      false|        false|          false|   true|        false|        false|    false|   false|      false|     false|                 false|              false|         false|                 false|      false|        false|          false|      false|       false|false|       false|false|       false|             false|      false|        false|               false|       true|     false|          false|  false|            false|               false|       false|     false|    false|          false|    true|          false|            false|       false|          false|       false|  false|          false|            false|         false|     false|              false|                       false|               false|                false|        false|    false|       false|       false|          false|           false|           false|     false|   false|       false|         false|        false|        false|          true|                 false|          false|     false|  false|     false|     false|                   false|          false|       false|        false|       false|     false|                    false| false|              false|          false|          false|      false|         false|    false|         false|            false|       false|     false|   false|         false|       false|     false|        false|             false|              false|                       false|            false|            false|               false|               false|         false|          false|    false|                  false|        false|false|       false|            false|         false|           false|       false|       true|               false|             false|               false|  false|       false|       false|       false|         false|            false|       false|            false|    false|       false|       false|        false|      false|      false|              false|          false|         false|           false|       false|          false|     false|           false|      false|        false|                false|        false|      false|     false|\n",
            "|        Abin Sur|  false|              false|              true|                false|          false|     false|  false|            false| false|       false|               false|       false|         false|             false|            false|    false|       false|         false|      false|    false|       false|        false|      false|        false|          false|  false|        false|        false|    false|   false|      false|     false|                 false|              false|         false|                 false|      false|        false|          false|      false|       false|false|       false|false|       false|             false|      false|        false|               false|      false|     false|          false|  false|            false|               false|       false|     false|    false|          false|   false|          false|            false|       false|          false|       false|  false|          false|            false|         false|     false|              false|                       false|               false|                false|        false|    false|       false|       false|          false|           false|           false|     false|   false|       false|         false|        false|        false|         false|                 false|          false|     false|  false|     false|     false|                   false|          false|       false|        false|       false|     false|                    false| false|              false|          false|          false|      false|         false|    false|         false|            false|       false|     false|   false|         false|       false|     false|        false|             false|              false|                       false|            false|            false|               false|               false|         false|          false|    false|                  false|        false|false|       false|            false|         false|           false|       false|      false|               false|             false|               false|  false|       false|       false|       false|         false|            false|       false|            false|    false|       false|       false|        false|      false|      false|              false|          false|         false|           false|       false|          false|     false|           false|      false|        false|                false|        false|      false|     false|\n",
            "|     Abomination|  false|               true|             false|                false|          false|     false|  false|            false| false|       false|               false|       false|         false|             false|            false|    false|        true|          true|      false|    false|       false|        false|      false|        false|          false|   true|        false|        false|    false|   false|       true|     false|                 false|              false|         false|                 false|      false|        false|          false|      false|       false|false|       false|false|       false|             false|      false|        false|               false|      false|     false|          false|  false|            false|               false|       false|     false|    false|          false|   false|           true|            false|       false|          false|       false|  false|          false|            false|         false|     false|              false|                       false|               false|                false|        false|     true|       false|       false|          false|           false|           false|     false|   false|       false|         false|        false|        false|         false|                 false|          false|     false|  false|     false|     false|                   false|          false|       false|        false|       false|     false|                    false| false|              false|          false|          false|      false|         false|    false|         false|            false|       false|     false|   false|         false|       false|     false|        false|             false|              false|                       false|            false|            false|               false|               false|         false|          false|    false|                  false|        false|false|       false|            false|         false|           false|       false|      false|               false|             false|               false|  false|       false|        true|       false|         false|            false|       false|            false|    false|       false|       false|        false|      false|      false|              false|          false|         false|           false|       false|          false|     false|           false|      false|        false|                false|        false|      false|     false|\n",
            "|         Abraxas|  false|              false|             false|                 true|          false|     false|  false|            false|  true|       false|               false|       false|         false|             false|            false|    false|        true|          true|      false|    false|       false|        false|      false|         true|          false|  false|        false|        false|    false|   false|       true|     false|                 false|              false|         false|                 false|      false|         true|          false|      false|       false| true|       false|false|       false|              true|      false|        false|               false|       true|     false|          false|  false|            false|               false|       false|     false|    false|          false|   false|           true|            false|       false|          false|       false|  false|          false|            false|         false|     false|              false|                       false|               false|                false|        false|    false|       false|       false|          false|           false|           false|     false|   false|       false|         false|        false|        false|         false|                  true|          false|     false|  false|     false|     false|                   false|          false|       false|        false|       false|     false|                    false| false|               true|          false|          false|      false|         false|    false|         false|            false|       false|     false|   false|         false|        true|     false|        false|             false|              false|                       false|            false|            false|               false|               false|         false|          false|    false|                  false|        false|false|       false|            false|         false|           false|       false|      false|               false|             false|               false|  false|       false|       false|       false|         false|            false|       false|            false|    false|       false|       false|        false|      false|      false|              false|          false|         false|           false|       false|          false|     false|           false|      false|        false|                false|        false|      false|     false|\n",
            "|   Absorbing Man|  false|              false|             false|                false|           true|      true|  false|             true| false|       false|               false|       false|         false|             false|            false|    false|       false|          true|      false|    false|       false|        false|      false|        false|          false|  false|        false|        false|    false|   false|      false|     false|                 false|              false|         false|                 false|      false|        false|          false|      false|       false|false|       false|false|       false|             false|      false|        false|               false|      false|     false|          false|  false|            false|               false|       false|     false|    false|          false|   false|           true|            false|       false|          false|       false|  false|          false|            false|         false|     false|              false|                        true|               false|                false|        false|    false|       false|       false|           true|           false|           false|     false|   false|       false|         false|         true|        false|         false|                  true|          false|     false|  false|     false|     false|                   false|          false|       false|        false|       false|     false|                    false| false|              false|           true|          false|      false|         false|    false|         false|            false|       false|     false|   false|         false|       false|     false|        false|             false|              false|                       false|            false|            false|               false|               false|         false|          false|    false|                  false|        false|false|       false|            false|         false|           false|       false|      false|               false|             false|               false|  false|       false|       false|       false|         false|            false|       false|             true|    false|       false|       false|        false|      false|      false|              false|          false|         false|           false|       false|          false|     false|           false|      false|        false|                false|        false|      false|     false|\n",
            "|     Adam Monroe|  false|               true|             false|                false|          false|     false|  false|            false| false|       false|               false|       false|         false|             false|            false|    false|       false|         false|      false|    false|       false|        false|      false|        false|          false|  false|        false|        false|    false|   false|      false|     false|                 false|              false|         false|                 false|      false|        false|          false|      false|       false|false|       false|false|       false|             false|      false|        false|               false|       true|     false|          false|  false|            false|               false|       false|     false|    false|          false|   false|          false|            false|       false|          false|       false|  false|          false|            false|         false|     false|              false|                       false|               false|                false|        false|    false|       false|       false|          false|           false|           false|     false|   false|       false|         false|        false|        false|         false|                 false|          false|     false|  false|     false|     false|                   false|          false|        true|        false|       false|     false|                    false| false|              false|          false|          false|      false|         false|    false|         false|            false|       false|     false|   false|         false|       false|     false|        false|             false|              false|                       false|            false|            false|               false|               false|         false|          false|    false|                  false|        false|false|       false|            false|         false|           false|       false|      false|               false|             false|               false|  false|       false|       false|       false|         false|            false|       false|            false|    false|       false|       false|        false|      false|      false|              false|          false|         false|           false|       false|          false|     false|           false|      false|        false|                false|        false|      false|     false|\n",
            "|    Adam Strange|  false|              false|             false|                false|          false|      true|   true|            false|  true|       false|               false|        true|          true|             false|            false|    false|        true|         false|      false|    false|       false|        false|      false|        false|          false|  false|        false|        false|    false|   false|       true|     false|                 false|              false|         false|                 false|      false|        false|          false|      false|       false|false|       false|false|       false|             false|      false|        false|               false|      false|     false|          false|  false|            false|               false|       false|     false|    false|          false|   false|          false|            false|       false|          false|       false|  false|          false|            false|         false|     false|              false|                       false|               false|                false|        false|    false|       false|       false|           true|           false|           false|     false|   false|       false|         false|        false|        false|          true|                 false|          false|     false|  false|      true|     false|                   false|          false|       false|        false|       false|     false|                    false| false|              false|          false|          false|      false|         false|    false|         false|            false|       false|     false|   false|         false|       false|     false|        false|             false|              false|                       false|            false|            false|               false|               false|         false|          false|    false|                  false|        false|false|       false|            false|         false|           false|       false|      false|               false|             false|               false|  false|       false|       false|       false|         false|            false|       false|            false|    false|       false|       false|        false|      false|      false|              false|          false|         false|           false|       false|          false|     false|           false|      false|        false|                false|        false|      false|     false|\n",
            "|       Agent Bob|  false|              false|             false|                false|          false|     false|   true|            false| false|       false|               false|       false|         false|             false|            false|    false|       false|         false|      false|    false|       false|        false|      false|        false|          false|  false|        false|        false|    false|   false|      false|     false|                 false|              false|         false|                 false|      false|        false|          false|      false|       false|false|       false|false|       false|             false|      false|        false|               false|      false|     false|          false|  false|            false|               false|       false|     false|    false|          false|   false|          false|            false|       false|          false|       false|  false|          false|            false|         false|     false|              false|                       false|               false|                false|        false|    false|       false|       false|          false|           false|           false|     false|   false|       false|         false|        false|        false|         false|                 false|          false|     false|  false|     false|     false|                   false|          false|       false|        false|       false|     false|                    false| false|              false|          false|          false|      false|         false|    false|         false|            false|       false|     false|   false|         false|       false|     false|        false|             false|              false|                       false|            false|            false|               false|               false|         false|          false|    false|                  false|        false|false|       false|            false|         false|           false|       false|      false|               false|             false|               false|  false|       false|       false|       false|         false|            false|       false|            false|    false|       false|       false|        false|      false|      false|              false|          false|         false|           false|       false|          false|     false|           false|      false|        false|                false|        false|      false|     false|\n",
            "|      Agent Zero|  false|              false|             false|                false|          false|     false|  false|             true| false|       false|               false|       false|         false|             false|            false|     true|       false|          true|      false|    false|       false|         true|      false|        false|          false|  false|        false|        false|    false|   false|      false|     false|                 false|              false|         false|                 false|      false|        false|          false|      false|        true|false|       false|false|       false|             false|      false|        false|               false|      false|     false|          false|  false|            false|               false|       false|     false|    false|          false|   false|          false|            false|       false|          false|       false|  false|          false|            false|         false|     false|              false|                       false|               false|                false|        false|    false|       false|       false|          false|           false|           false|     false|   false|       false|         false|        false|        false|         false|                 false|          false|     false|  false|      true|     false|                   false|          false|       false|        false|       false|     false|                    false| false|              false|          false|          false|      false|         false|    false|         false|            false|       false|     false|   false|         false|       false|     false|        false|             false|              false|                       false|            false|            false|               false|               false|         false|          false|    false|                  false|        false|false|       false|            false|         false|           false|       false|      false|               false|             false|               false|  false|       false|       false|       false|         false|            false|       false|            false|    false|       false|       false|        false|      false|      false|              false|          false|         false|           false|       false|          false|     false|           false|      false|        false|                false|        false|      false|     false|\n",
            "|      Air-Walker|  false|              false|             false|                false|          false|     false|  false|            false|  true|       false|               false|       false|         false|             false|            false|    false|       false|          true|      false|    false|       false|        false|      false|        false|          false|  false|        false|        false|    false|   false|       true|     false|                 false|              false|         false|                 false|      false|        false|          false|      false|       false|false|       false|false|       false|             false|      false|        false|               false|      false|     false|          false|  false|            false|               false|       false|     false|    false|          false|   false|          false|            false|       false|           true|       false|  false|          false|            false|         false|     false|              false|                       false|               false|                false|        false|    false|       false|       false|          false|           false|           false|     false|   false|       false|         false|        false|        false|         false|                  true|          false|     false|  false|     false|     false|                   false|          false|       false|        false|       false|     false|                    false| false|              false|          false|          false|      false|         false|    false|         false|            false|       false|     false|   false|         false|        true|     false|        false|             false|              false|                       false|            false|            false|               false|               false|         false|          false|    false|                  false|        false|false|       false|            false|         false|           false|       false|      false|               false|             false|               false|  false|       false|       false|       false|         false|            false|       false|            false|    false|       false|       false|        false|      false|      false|              false|          false|         false|           false|       false|          false|     false|           false|      false|        false|                false|        false|      false|     false|\n",
            "|            Ajax|   true|              false|             false|                false|          false|     false|  false|            false| false|       false|               false|       false|         false|             false|            false|    false|       false|          true|      false|    false|       false|        false|      false|        false|          false|  false|        false|        false|    false|   false|       true|     false|                 false|              false|         false|                 false|      false|        false|          false|      false|       false|false|       false|false|       false|             false|      false|        false|               false|      false|     false|          false|  false|            false|               false|       false|     false|    false|          false|   false|          false|            false|       false|          false|       false|  false|          false|            false|         false|     false|              false|                       false|               false|                false|        false|    false|       false|       false|          false|           false|           false|     false|   false|       false|         false|        false|        false|         false|                 false|           true|     false|  false|      true|     false|                   false|          false|       false|        false|       false|     false|                    false| false|              false|          false|          false|      false|         false|    false|         false|            false|       false|     false|   false|         false|       false|     false|        false|             false|              false|                       false|            false|            false|               false|               false|         false|          false|    false|                  false|        false|false|       false|            false|         false|           false|       false|      false|               false|             false|               false|  false|       false|       false|       false|         false|            false|       false|            false|    false|       false|       false|        false|      false|      false|              false|          false|         false|           false|       false|          false|     false|           false|      false|        false|                false|        false|      false|     false|\n",
            "|      Alan Scott|  false|              false|             false|                false|          false|     false|  false|            false|  true|        true|               false|       false|         false|             false|            false|    false|        true|         false|      false|     true|       false|         true|      false|        false|          false|  false|        false|        false|    false|   false|       true|     false|                 false|              false|         false|                 false|      false|         true|          false|      false|        true|false|       false|false|       false|             false|      false|        false|               false|      false|     false|          false|   true|            false|               false|       false|     false|    false|          false|   false|          false|            false|        true|          false|       false|  false|          false|            false|         false|     false|              false|                       false|               false|                false|        false|    false|       false|       false|          false|           false|           false|     false|   false|        true|         false|        false|        false|         false|                 false|          false|     false|  false|     false|     false|                   false|          false|       false|        false|       false|     false|                    false| false|               true|          false|          false|      false|         false|    false|         false|            false|       false|     false|   false|         false|       false|     false|        false|             false|              false|                       false|            false|            false|               false|               false|         false|          false|    false|                  false|        false|false|       false|            false|         false|           false|        true|      false|               false|             false|               false|  false|       false|       false|       false|         false|            false|       false|            false|    false|       false|       false|        false|      false|      false|              false|          false|         false|           false|       false|          false|     false|           false|      false|        false|                false|        false|      false|     false|\n",
            "|     Alex Mercer|   true|               true|             false|                false|          false|     false|   true|             true| false|        true|               false|        true|          true|             false|            false|     true|       false|          true|      false|    false|       false|         true|      false|        false|          false|   true|        false|        false|    false|   false|       true|     false|                 false|              false|         false|                 false|      false|        false|           true|      false|       false|false|       false| true|       false|             false|      false|         true|               false|       true|     false|          false|  false|            false|               false|       false|     false|    false|          false|   false|           true|            false|       false|          false|       false|  false|          false|            false|         false|      true|               true|                       false|               false|                false|        false|    false|       false|       false|          false|           false|            true|     false|   false|       false|         false|         true|        false|         false|                 false|          false|      true|   true|     false|     false|                   false|          false|       false|        false|       false|     false|                    false| false|              false|          false|           true|      false|         false|    false|         false|            false|       false|     false|   false|         false|       false|     false|        false|             false|              false|                       false|            false|            false|               false|               false|         false|          false|    false|                  false|        false|false|       false|            false|         false|           false|       false|      false|               false|             false|               false|  false|       false|       false|        true|         false|            false|       false|             true|    false|       false|       false|        false|      false|      false|              false|          false|         false|            true|       false|          false|     false|           false|      false|        false|                false|        false|      false|     false|\n",
            "|    Alex Woolsly|  false|              false|             false|                false|          false|     false|  false|            false| false|       false|                true|       false|         false|             false|            false|    false|       false|         false|      false|    false|       false|        false|      false|        false|          false|  false|        false|        false|    false|   false|      false|     false|                 false|              false|         false|                 false|      false|        false|          false|      false|       false|false|       false|false|       false|             false|      false|        false|               false|      false|     false|          false|  false|            false|               false|       false|     false|    false|          false|   false|          false|            false|       false|          false|       false|  false|          false|            false|         false|     false|              false|                       false|               false|                false|        false|    false|       false|       false|          false|           false|           false|     false|   false|       false|         false|        false|        false|         false|                 false|          false|     false|  false|     false|     false|                   false|          false|       false|        false|       false|     false|                    false| false|              false|          false|          false|      false|         false|    false|         false|            false|       false|     false|   false|         false|       false|     false|        false|             false|              false|                       false|            false|            false|               false|               false|         false|          false|    false|                  false|        false|false|       false|            false|         false|           false|       false|      false|               false|             false|               false|  false|       false|       false|       false|         false|            false|       false|            false|    false|       false|       false|        false|      false|      false|              false|          false|         false|           false|       false|          false|     false|           false|      false|        false|                false|        false|      false|     false|\n",
            "|           Alien|   true|              false|             false|                false|           true|      true|   true|            false| false|       false|               false|       false|         false|             false|            false|    false|       false|          true|      false|    false|       false|        false|      false|        false|          false|  false|        false|        false|    false|   false|       true|     false|                 false|              false|         false|                 false|      false|        false|           true|      false|       false|false|       false| true|       false|             false|      false|        false|               false|      false|     false|          false|  false|            false|               false|       false|     false|    false|          false|   false|          false|            false|       false|          false|       false|  false|          false|            false|         false|     false|               true|                       false|               false|                false|        false|    false|       false|       false|          false|           false|           false|     false|   false|       false|         false|         true|        false|         false|                 false|          false|     false|  false|     false|     false|                   false|          false|       false|        false|       false|     false|                    false| false|              false|           true|           true|      false|         false|    false|         false|            false|       false|     false|   false|         false|       false|     false|        false|             false|              false|                       false|            false|            false|               false|               false|         false|          false|    false|                  false|        false|false|       false|            false|         false|           false|       false|      false|               false|             false|               false|  false|       false|       false|        true|         false|            false|       false|            false|    false|       false|       false|        false|      false|      false|              false|          false|         false|            true|       false|          false|     false|           false|      false|        false|                false|        false|      false|     false|\n",
            "|Allan Quatermain|  false|              false|             false|                false|          false|     false|  false|            false| false|       false|               false|        true|         false|             false|            false|    false|       false|         false|      false|    false|       false|        false|      false|        false|          false|  false|        false|        false|    false|   false|      false|     false|                 false|              false|         false|                 false|      false|        false|          false|      false|       false|false|       false|false|       false|             false|      false|        false|               false|      false|     false|          false|  false|            false|               false|       false|     false|    false|          false|   false|          false|            false|       false|          false|       false|  false|          false|            false|         false|     false|              false|                       false|               false|                false|        false|    false|       false|       false|          false|           false|           false|     false|   false|       false|         false|        false|        false|         false|                 false|          false|     false|  false|     false|     false|                   false|          false|       false|        false|       false|     false|                    false| false|              false|          false|          false|      false|         false|    false|         false|            false|       false|     false|   false|         false|       false|     false|        false|             false|              false|                       false|            false|            false|               false|               false|         false|          false|    false|                  false|        false|false|       false|            false|         false|           false|       false|      false|               false|             false|               false|  false|       false|       false|       false|         false|            false|       false|            false|    false|       false|       false|        false|      false|      false|              false|          false|         false|           false|       false|          false|     false|           false|      false|        false|                false|        false|      false|     false|\n",
            "|           Amazo|   true|              false|              true|                false|          false|      true|  false|            false|  true|       false|                true|        true|         false|              true|            false|     true|        true|          true|       true|     true|       false|         true|       true|         true|          false|   true|        false|        false|    false|   false|       true|     false|                 false|               true|         false|                 false|      false|         true|           true|      false|       false|false|       false| true|       false|             false|      false|         true|               false|      false|      true|          false|   true|            false|               false|        true|     false|    false|           true|    true|           true|             true|        true|          false|       false|  false|          false|            false|         false|     false|              false|                       false|               false|                false|        false|    false|       false|       false|          false|            true|            true|     false|   false|       false|         false|        false|        false|         false|                 false|          false|     false|  false|     false|     false|                   false|          false|       false|        false|       false|     false|                    false| false|              false|          false|          false|       true|          true|    false|         false|            false|       false|     false|   false|         false|       false|     false|         true|             false|               true|                       false|            false|            false|               false|               false|         false|          false|     true|                  false|        false|false|       false|            false|         false|           false|        true|      false|               false|             false|                true|  false|       false|        true|       false|          true|            false|       false|            false|    false|       false|       false|         true|      false|      false|              false|          false|          true|            true|       false|          false|     false|           false|      false|        false|                false|        false|      false|     false|\n",
            "|            Ammo|  false|              false|             false|                false|          false|     false|  false|            false| false|       false|               false|       false|          true|             false|            false|    false|       false|         false|      false|    false|       false|        false|      false|        false|          false|  false|        false|        false|    false|   false|      false|     false|                 false|              false|         false|                 false|      false|        false|          false|      false|       false|false|       false|false|       false|             false|      false|        false|               false|      false|     false|          false|  false|            false|               false|       false|     false|    false|          false|   false|          false|            false|       false|          false|       false|  false|          false|            false|         false|     false|              false|                       false|               false|                false|        false|    false|       false|       false|          false|           false|           false|     false|   false|       false|         false|        false|        false|         false|                 false|          false|     false|  false|     false|     false|                   false|          false|       false|        false|       false|     false|                    false| false|              false|          false|          false|      false|         false|    false|         false|            false|       false|     false|   false|         false|       false|     false|        false|             false|              false|                       false|            false|            false|               false|               false|         false|          false|    false|                  false|        false|false|       false|            false|         false|           false|       false|      false|               false|             false|               false|  false|       false|       false|       false|         false|            false|       false|            false|    false|       false|       false|        false|      false|      false|              false|          false|         false|           false|       false|          false|     false|           false|      false|        false|                false|        false|      false|     false|\n",
            "+----------------+-------+-------------------+------------------+---------------------+---------------+----------+-------+-----------------+------+------------+--------------------+------------+--------------+------------------+-----------------+---------+------------+--------------+-----------+---------+------------+-------------+-----------+-------------+---------------+-------+-------------+-------------+---------+--------+-----------+----------+----------------------+-------------------+--------------+----------------------+-----------+-------------+---------------+-----------+------------+-----+------------+-----+------------+------------------+-----------+-------------+--------------------+-----------+----------+---------------+-------+-----------------+--------------------+------------+----------+---------+---------------+--------+---------------+-----------------+------------+---------------+------------+-------+---------------+-----------------+--------------+----------+-------------------+----------------------------+--------------------+---------------------+-------------+---------+------------+------------+---------------+----------------+----------------+----------+--------+------------+--------------+-------------+-------------+--------------+----------------------+---------------+----------+-------+----------+----------+------------------------+---------------+------------+-------------+------------+----------+-------------------------+------+-------------------+---------------+---------------+-----------+--------------+---------+--------------+-----------------+------------+----------+--------+--------------+------------+----------+-------------+------------------+-------------------+----------------------------+-----------------+-----------------+--------------------+--------------------+--------------+---------------+---------+-----------------------+-------------+-----+------------+-----------------+--------------+----------------+------------+-----------+--------------------+------------------+--------------------+-------+------------+------------+------------+--------------+-----------------+------------+-----------------+---------+------------+------------+-------------+-----------+-----------+-------------------+---------------+--------------+----------------+------------+---------------+----------+----------------+-----------+-------------+---------------------+-------------+-----------+----------+\n",
            "only showing top 20 rows\n",
            "\n"
          ],
          "name": "stdout"
        }
      ]
    },
    {
      "cell_type": "markdown",
      "metadata": {
        "id": "DckC1xuX8x5R",
        "colab_type": "text"
      },
      "source": [
        "# Querying + Stat test"
      ]
    },
    {
      "cell_type": "code",
      "metadata": {
        "id": "XKJK3X2LjNZ9",
        "colab_type": "code",
        "colab": {
          "base_uri": "https://localhost:8080/",
          "height": 34
        },
        "outputId": "d6499c75-bd15-40f5-91b7-145cd893bec9"
      },
      "source": [
        "df_hero_indi.count()"
      ],
      "execution_count": null,
      "outputs": [
        {
          "output_type": "execute_result",
          "data": {
            "text/plain": [
              "734"
            ]
          },
          "metadata": {
            "tags": []
          },
          "execution_count": 39
        }
      ]
    },
    {
      "cell_type": "code",
      "metadata": {
        "id": "UYI6IXHmKLEF",
        "colab_type": "code",
        "colab": {
          "base_uri": "https://localhost:8080/",
          "height": 459
        },
        "outputId": "e928cbca-1761-4019-a234-e3d840062a22"
      },
      "source": [
        "df_hero_indi.select(\"Race\").show()"
      ],
      "execution_count": null,
      "outputs": [
        {
          "output_type": "stream",
          "text": [
            "+-----------------+\n",
            "|             Race|\n",
            "+-----------------+\n",
            "|            Human|\n",
            "|    Icthyo Sapien|\n",
            "|          Ungaran|\n",
            "|Human / Radiation|\n",
            "|    Cosmic Entity|\n",
            "|            Human|\n",
            "|                -|\n",
            "|            Human|\n",
            "|                -|\n",
            "|            Human|\n",
            "|                -|\n",
            "|                -|\n",
            "|           Cyborg|\n",
            "|                -|\n",
            "|            Human|\n",
            "|                -|\n",
            "|            Human|\n",
            "|  Xenomorph XX121|\n",
            "|                -|\n",
            "|          Android|\n",
            "+-----------------+\n",
            "only showing top 20 rows\n",
            "\n"
          ],
          "name": "stdout"
        }
      ]
    },
    {
      "cell_type": "code",
      "metadata": {
        "id": "spURyBYTKTnv",
        "colab_type": "code",
        "colab": {
          "base_uri": "https://localhost:8080/",
          "height": 459
        },
        "outputId": "32f75d0d-989e-4095-a060-60e3c9a3464c"
      },
      "source": [
        "df_hero_indi.select(\"Race\").distinct().show()"
      ],
      "execution_count": null,
      "outputs": [
        {
          "output_type": "stream",
          "text": [
            "+------------------+\n",
            "|              Race|\n",
            "+------------------+\n",
            "|          Neyaphem|\n",
            "|          Symbiote|\n",
            "|        Kryptonian|\n",
            "|           Ungaran|\n",
            "|           Martian|\n",
            "|         Strontian|\n",
            "| Human / Radiation|\n",
            "|   Kakarantharaian|\n",
            "|         Metahuman|\n",
            "|Dathomirian Zabrak|\n",
            "|    Human / Cosmic|\n",
            "|   Xenomorph XX121|\n",
            "|            Animal|\n",
            "|       Frost Giant|\n",
            "|            Cyborg|\n",
            "|           Inhuman|\n",
            "|     God / Eternal|\n",
            "|    Yoda's species|\n",
            "|     Icthyo Sapien|\n",
            "|            Rodian|\n",
            "+------------------+\n",
            "only showing top 20 rows\n",
            "\n"
          ],
          "name": "stdout"
        }
      ]
    },
    {
      "cell_type": "code",
      "metadata": {
        "id": "5l8lQFiwKyHN",
        "colab_type": "code",
        "colab": {
          "base_uri": "https://localhost:8080/",
          "height": 309
        },
        "outputId": "2d8ab308-3e8d-43dc-d48f-6af0a02ee9e2"
      },
      "source": [
        "df_hero_indi.filter(col(\"Race\")==\"Cyborg\").show()"
      ],
      "execution_count": null,
      "outputs": [
        {
          "output_type": "stream",
          "text": [
            "+---+----------------+------+---------+------+----------+------+-----------------+----------+---------+------+\n",
            "|_c0|            name|Gender|Eye color|  Race|Hair color|Height|        Publisher|Skin color|Alignment|Weight|\n",
            "+---+----------------+------+---------+------+----------+------+-----------------+----------+---------+------+\n",
            "| 12|            Ajax|  Male|    brown|Cyborg|     Black| 193.0|    Marvel Comics|         -|      bad|  90.0|\n",
            "| 86|    Bionic Woman|Female|     blue|Cyborg|     Black| -99.0|             null|         -|     good| -99.0|\n",
            "|193|          Cyborg|  Male|    brown|Cyborg|     Black| 198.0|        DC Comics|         -|     good| 173.0|\n",
            "|194| Cyborg Superman|  Male|     blue|Cyborg|     Black| -99.0|        DC Comics|         -|      bad| -99.0|\n",
            "|207|     Darth Vader|  Male|   yellow|Cyborg|   No Hair| 198.0|     George Lucas|         -|      bad| 135.0|\n",
            "|214|        Deathlok|  Male|    brown|Cyborg|      Grey| 193.0|    Marvel Comics|         -|     good| 178.0|\n",
            "|400|Lady Deathstrike|Female|    brown|Cyborg|     Black| 175.0|    Marvel Comics|         -|      bad|  58.0|\n",
            "|463|           MODOK|  Male|    white|Cyborg|    Brownn| 366.0|    Marvel Comics|         -|      bad| 338.0|\n",
            "|652|           T-800|  Male|      red|Cyborg|         -| -99.0|Dark Horse Comics|         -|      bad| 176.0|\n",
            "|653|           T-850|  Male|      red|Cyborg|         -| -99.0|Dark Horse Comics|         -|      bad| 198.0|\n",
            "|654|             T-X|Female|        -|Cyborg|         -| -99.0|Dark Horse Comics|    silver|      bad| 149.0|\n",
            "+---+----------------+------+---------+------+----------+------+-----------------+----------+---------+------+\n",
            "\n"
          ],
          "name": "stdout"
        }
      ]
    },
    {
      "cell_type": "code",
      "metadata": {
        "id": "8cFaL8AUj8w3",
        "colab_type": "code",
        "colab": {
          "base_uri": "https://localhost:8080/",
          "height": 119
        },
        "outputId": "02aafb8f-d7ad-43c2-b038-87c3eba6ad10"
      },
      "source": [
        "from pyspark.sql.functions import col, countDistinct\n",
        "\n",
        "df_hero_indi.agg(countDistinct(col(\"Race\"))).show()"
      ],
      "execution_count": null,
      "outputs": [
        {
          "output_type": "stream",
          "text": [
            "+-----------+\n",
            "|count(Race)|\n",
            "+-----------+\n",
            "|         62|\n",
            "+-----------+\n",
            "\n"
          ],
          "name": "stdout"
        }
      ]
    },
    {
      "cell_type": "code",
      "metadata": {
        "id": "cwywxoCAjWZo",
        "colab_type": "code",
        "colab": {
          "base_uri": "https://localhost:8080/",
          "height": 119
        },
        "outputId": "e858ce67-443a-4867-b1bb-9c4f863f56f2"
      },
      "source": [
        "from pyspark.sql.functions import col, countDistinct\n",
        "\n",
        "df_hero_indi.agg(*(countDistinct(col(c)).alias(c) for c in df_hero_indi.columns)).show()"
      ],
      "execution_count": null,
      "outputs": [
        {
          "output_type": "stream",
          "text": [
            "+---+----+------+---------+----+----------+------+---------+----------+---------+------+\n",
            "|_c0|name|Gender|Eye color|Race|Hair color|Height|Publisher|Skin color|Alignment|Weight|\n",
            "+---+----+------+---------+----+----------+------+---------+----------+---------+------+\n",
            "|734| 715|     3|       23|  62|        30|    54|       24|        17|        4|   135|\n",
            "+---+----+------+---------+----+----------+------+---------+----------+---------+------+\n",
            "\n"
          ],
          "name": "stdout"
        }
      ]
    },
    {
      "cell_type": "code",
      "metadata": {
        "id": "12qsEZZXne3-",
        "colab_type": "code",
        "colab": {
          "base_uri": "https://localhost:8080/",
          "height": 119
        },
        "outputId": "8a811f14-2005-47f9-f9bb-fd818ed64fde"
      },
      "source": [
        "from pyspark.sql import functions as F\n",
        "\n",
        "df_hero_indi.agg(F.min(col(\"Weight\"))\\\n",
        "              ,F.max(col(\"Weight\"))\\\n",
        "              ,F.avg(col(\"Weight\"))\\\n",
        "              ,F.sum(col(\"Weight\"))\\\n",
        "              ,F.stddev(col(\"Weight\")))\\\n",
        "              .show()"
      ],
      "execution_count": null,
      "outputs": [
        {
          "output_type": "stream",
          "text": [
            "+-----------+-----------+----------------+-----------+-------------------+\n",
            "|min(Weight)|max(Weight)|     avg(Weight)|sum(Weight)|stddev_samp(Weight)|\n",
            "+-----------+-----------+----------------+-----------+-------------------+\n",
            "|      -99.0|      900.0|43.8551912568306|    32102.0| 130.82373271995195|\n",
            "+-----------+-----------+----------------+-----------+-------------------+\n",
            "\n"
          ],
          "name": "stdout"
        }
      ]
    },
    {
      "cell_type": "markdown",
      "metadata": {
        "id": "1d4ezAuyfxHM",
        "colab_type": "text"
      },
      "source": [
        "## Finding Median\n",
        "http://infolab.stanford.edu/~datar/courses/cs361a/papers/quantiles.pdf"
      ]
    },
    {
      "cell_type": "code",
      "metadata": {
        "id": "B02ZhiwSfcuF",
        "colab_type": "code",
        "colab": {
          "base_uri": "https://localhost:8080/",
          "height": 34
        },
        "outputId": "2f36e350-1098-456b-aadf-07849e339ff1"
      },
      "source": [
        "df_hero_indi.approxQuantile(\"weight\", [0.5], 0.0)"
      ],
      "execution_count": null,
      "outputs": [
        {
          "output_type": "execute_result",
          "data": {
            "text/plain": [
              "[62.0]"
            ]
          },
          "metadata": {
            "tags": []
          },
          "execution_count": 114
        }
      ]
    },
    {
      "cell_type": "markdown",
      "metadata": {
        "id": "kOc52NplFKmm",
        "colab_type": "text"
      },
      "source": [
        "## \"Null\" **checking**"
      ]
    },
    {
      "cell_type": "code",
      "metadata": {
        "id": "ZKI0Dj7eFQwG",
        "colab_type": "code",
        "colab": {
          "base_uri": "https://localhost:8080/",
          "height": 136
        },
        "outputId": "3a0ac962-0716-406b-9c9f-fd1d303a794b"
      },
      "source": [
        "df_hero_indi.filter(col(\"Weight\").isNull()).show()"
      ],
      "execution_count": null,
      "outputs": [
        {
          "output_type": "stream",
          "text": [
            "+---+---------+------+---------+------+----------+------+---------+----------+---------+------+\n",
            "|_c0|     name|Gender|Eye color|  Race|Hair color|Height|Publisher|Skin color|Alignment|Weight|\n",
            "+---+---------+------+---------+------+----------+------+---------+----------+---------+------+\n",
            "|286| Godzilla|     -|        -| Kaiju|         -| 108.0|     null|      grey|      bad|  null|\n",
            "|389|King Kong|  Male|   yellow|Animal|     Black|  30.5|     null|         -|     good|  null|\n",
            "+---+---------+------+---------+------+----------+------+---------+----------+---------+------+\n",
            "\n"
          ],
          "name": "stdout"
        }
      ]
    },
    {
      "cell_type": "markdown",
      "metadata": {
        "id": "7wXp5oecQaO2",
        "colab_type": "text"
      },
      "source": [
        ""
      ]
    },
    {
      "cell_type": "markdown",
      "metadata": {
        "id": "19H0zTUl9mmS",
        "colab_type": "text"
      },
      "source": [
        "## Group by"
      ]
    },
    {
      "cell_type": "code",
      "metadata": {
        "id": "i0hzZzQKGHBa",
        "colab_type": "code",
        "colab": {
          "base_uri": "https://localhost:8080/",
          "height": 459
        },
        "outputId": "b89966ff-e1c1-48ba-bd23-fe4f13767755"
      },
      "source": [
        "df_hero_indi.groupBy(\"Race\").count().show()"
      ],
      "execution_count": null,
      "outputs": [
        {
          "output_type": "stream",
          "text": [
            "+------------------+-----+\n",
            "|              Race|count|\n",
            "+------------------+-----+\n",
            "|          Neyaphem|    1|\n",
            "|          Symbiote|    9|\n",
            "|        Kryptonian|    7|\n",
            "|           Ungaran|    1|\n",
            "|           Martian|    1|\n",
            "|         Strontian|    1|\n",
            "| Human / Radiation|   11|\n",
            "|   Kakarantharaian|    1|\n",
            "|         Metahuman|    2|\n",
            "|Dathomirian Zabrak|    1|\n",
            "|    Human / Cosmic|    2|\n",
            "|   Xenomorph XX121|    1|\n",
            "|            Animal|    4|\n",
            "|       Frost Giant|    2|\n",
            "|            Cyborg|   11|\n",
            "|           Inhuman|    4|\n",
            "|     God / Eternal|   14|\n",
            "|    Yoda's species|    1|\n",
            "|     Icthyo Sapien|    1|\n",
            "|            Rodian|    1|\n",
            "+------------------+-----+\n",
            "only showing top 20 rows\n",
            "\n"
          ],
          "name": "stdout"
        }
      ]
    },
    {
      "cell_type": "code",
      "metadata": {
        "id": "T_dJ41uAGoGR",
        "colab_type": "code",
        "colab": {}
      },
      "source": [
        "df_hero_indi.groupBy(\"\""
      ],
      "execution_count": null,
      "outputs": []
    },
    {
      "cell_type": "code",
      "metadata": {
        "id": "jwipUu3z9l1C",
        "colab_type": "code",
        "colab": {
          "base_uri": "https://localhost:8080/",
          "height": 153
        },
        "outputId": "15e6ebbb-1736-4b20-c551-6c9dd32c4183"
      },
      "source": [
        "from pyspark.sql import functions as F\n",
        "\n",
        "df_hero_indi.groupby(col(\"Gender\")).agg(F.min(col(\"Weight\"))\\\n",
        "              ,F.max(col(\"Weight\"))\\\n",
        "              ,F.avg(col(\"Weight\"))\\\n",
        "              ,F.sum(col(\"Weight\"))\\\n",
        "              ,F.stddev(col(\"Weight\")))\\\n",
        "              .show()"
      ],
      "execution_count": null,
      "outputs": [
        {
          "output_type": "stream",
          "text": [
            "+------+-----------+-----------+------------------+-----------+-------------------+\n",
            "|Gender|min(Weight)|max(Weight)|       avg(Weight)|sum(Weight)|stddev_samp(Weight)|\n",
            "+------+-----------+-----------+------------------+-----------+-------------------+\n",
            "|Female|      -99.0|      630.0|            27.265|     5453.0| 103.64800683856899|\n",
            "|     -|      -99.0|      383.0|14.821428571428571|      415.0|  137.7515351991964|\n",
            "|  Male|      -99.0|      900.0|52.051587301587304|    26234.0| 139.21298711960654|\n",
            "+------+-----------+-----------+------------------+-----------+-------------------+\n",
            "\n"
          ],
          "name": "stdout"
        }
      ]
    },
    {
      "cell_type": "code",
      "metadata": {
        "id": "H2lxGRWDqIWH",
        "colab_type": "code",
        "colab": {
          "base_uri": "https://localhost:8080/",
          "height": 459
        },
        "outputId": "6aa4aae4-d5aa-4bec-c810-386360178e6e"
      },
      "source": [
        "df_hero_weight = df_hero_indi.filter(col(\"Weight\")!=-99).select(\"weight\")\n",
        "df_hero_weight.show()"
      ],
      "execution_count": null,
      "outputs": [
        {
          "output_type": "stream",
          "text": [
            "+------+\n",
            "|weight|\n",
            "+------+\n",
            "| 441.0|\n",
            "|  65.0|\n",
            "|  90.0|\n",
            "| 441.0|\n",
            "| 122.0|\n",
            "|  88.0|\n",
            "|  61.0|\n",
            "|  81.0|\n",
            "| 104.0|\n",
            "| 108.0|\n",
            "|  90.0|\n",
            "|  90.0|\n",
            "|  72.0|\n",
            "| 169.0|\n",
            "| 173.0|\n",
            "| 101.0|\n",
            "|  68.0|\n",
            "|  57.0|\n",
            "|  54.0|\n",
            "|  83.0|\n",
            "+------+\n",
            "only showing top 20 rows\n",
            "\n"
          ],
          "name": "stdout"
        }
      ]
    },
    {
      "cell_type": "code",
      "metadata": {
        "id": "OW8IvINYqgoG",
        "colab_type": "code",
        "colab": {
          "base_uri": "https://localhost:8080/",
          "height": 119
        },
        "outputId": "75e14fd3-ee0d-4cd8-ca08-18063c090889"
      },
      "source": [
        "df_hero_weight.agg(F.min(col(\"Weight\"))\\\n",
        "              ,F.max(col(\"Weight\"))\\\n",
        "              ,F.avg(col(\"Weight\"))\\\n",
        "              ,F.sum(col(\"Weight\"))\\\n",
        "              ,F.stddev(col(\"Weight\")))\\\n",
        "              .show()"
      ],
      "execution_count": null,
      "outputs": [
        {
          "output_type": "stream",
          "text": [
            "+-----------+-----------+------------------+-----------+-------------------+\n",
            "|min(Weight)|max(Weight)|       avg(Weight)|sum(Weight)|stddev_samp(Weight)|\n",
            "+-----------+-----------+------------------+-----------+-------------------+\n",
            "|        2.0|      900.0|112.25252525252525|    55565.0| 104.15114206482691|\n",
            "+-----------+-----------+------------------+-----------+-------------------+\n",
            "\n"
          ],
          "name": "stdout"
        }
      ]
    },
    {
      "cell_type": "code",
      "metadata": {
        "id": "HAU2xxMarvHj",
        "colab_type": "code",
        "colab": {
          "base_uri": "https://localhost:8080/",
          "height": 54
        },
        "outputId": "c487c694-e1f6-4196-a862-5e4b1092b204"
      },
      "source": [
        "weight_histogram = df_hero_weight.rdd.flatMap(lambda x: x).histogram(11)\n",
        "\n",
        "print(weight_histogram)\n"
      ],
      "execution_count": null,
      "outputs": [
        {
          "output_type": "stream",
          "text": [
            "([2.0, 83.63636363636364, 165.27272727272728, 246.90909090909093, 328.54545454545456, 410.1818181818182, 491.81818181818187, 573.4545454545455, 655.0909090909091, 736.7272727272727, 818.3636363636364, 900.0], [262, 163, 34, 13, 10, 6, 1, 3, 0, 1, 2])\n"
          ],
          "name": "stdout"
        }
      ]
    },
    {
      "cell_type": "markdown",
      "metadata": {
        "id": "n0NdtX8W-nuv",
        "colab_type": "text"
      },
      "source": [
        "(Using Pandas and plot for showing graph)"
      ]
    },
    {
      "cell_type": "code",
      "metadata": {
        "id": "AsWds5zQscip",
        "colab_type": "code",
        "colab": {
          "base_uri": "https://localhost:8080/",
          "height": 381
        },
        "outputId": "466ce9ed-4658-4754-b3d0-65b6b982cd5d"
      },
      "source": [
        "pd.DataFrame(\n",
        "    list(zip(*weight_histogram)), \n",
        "    columns=['bin', 'frequency']\n",
        ").set_index(\n",
        "    'bin'\n",
        ").plot(kind='bar');"
      ],
      "execution_count": null,
      "outputs": [
        {
          "output_type": "display_data",
          "data": {
            "image/png": "[encoded data removed]",
            "text/plain": [
              "<Figure size 432x288 with 1 Axes>"
            ]
          },
          "metadata": {
            "tags": [],
            "needs_background": "light"
          }
        }
      ]
    },
    {
      "cell_type": "markdown",
      "metadata": {
        "id": "IELW9L-H-Rug",
        "colab_type": "text"
      },
      "source": [
        "## Joinning (yes, same as join in SQL)"
      ]
    },
    {
      "cell_type": "code",
      "metadata": {
        "id": "oAoP3Xjuk2b8",
        "colab_type": "code",
        "colab": {
          "base_uri": "https://localhost:8080/",
          "height": 479
        },
        "outputId": "4ec1ad5d-a28e-4445-8083-35debb00815a"
      },
      "source": [
        "#Rename to match\n",
        "df_power = df_hero_power.withColumnRenamed(\"hero_names\",\"name\")\n",
        "\n",
        "df_power.show()"
      ],
      "execution_count": null,
      "outputs": [
        {
          "output_type": "stream",
          "text": [
            "+----------------+-------+-------------------+------------------+---------------------+---------------+----------+-------+-----------------+------+------------+--------------------+------------+--------------+------------------+-----------------+---------+------------+--------------+-----------+---------+------------+-------------+-----------+-------------+---------------+-------+-------------+-------------+---------+--------+-----------+----------+----------------------+-------------------+--------------+----------------------+-----------+-------------+---------------+-----------+------------+-----+------------+-----+------------+------------------+-----------+-------------+--------------------+-----------+----------+---------------+-------+-----------------+--------------------+------------+----------+---------+---------------+--------+---------------+-----------------+------------+---------------+------------+-------+---------------+-----------------+--------------+----------+-------------------+----------------------------+--------------------+---------------------+-------------+---------+------------+------------+---------------+----------------+----------------+----------+--------+------------+--------------+-------------+-------------+--------------+----------------------+---------------+----------+-------+----------+----------+------------------------+---------------+------------+-------------+------------+----------+-------------------------+------+-------------------+---------------+---------------+-----------+--------------+---------+--------------+-----------------+------------+----------+--------+--------------+------------+----------+-------------+------------------+-------------------+----------------------------+-----------------+-----------------+--------------------+--------------------+--------------+---------------+---------+-----------------------+-------------+-----+------------+-----------------+--------------+----------------+------------+-----------+--------------------+------------------+--------------------+-------+------------+------------+------------+--------------+-----------------+------------+-----------------+---------+------------+------------+-------------+-----------+-----------+-------------------+---------------+--------------+----------------+------------+---------------+----------+----------------+-----------+-------------+---------------------+-------------+-----------+----------+\n",
            "|            name|Agility|Accelerated Healing|Lantern Power Ring|Dimensional Awareness|Cold Resistance|Durability|Stealth|Energy Absorption|Flight|Danger Sense|Underwater breathing|Marksmanship|Weapons Master|Power Augmentation|Animal Attributes|Longevity|Intelligence|Super Strength|Cryokinesis|Telepathy|Energy Armor|Energy Blasts|Duplication|Size Changing|Density Control|Stamina|Astral Travel|Audio Control|Dexterity|Omnitrix|Super Speed|Possession|Animal Oriented Powers|Weapon-based Powers|Electrokinesis|Darkforce Manipulation|Death Touch|Teleportation|Enhanced Senses|Telekinesis|Energy Beams|Magic|Hyperkinesis| Jump|Clairvoyance|Dimensional Travel|Power Sense|Shapeshifting|Peak Human Condition|Immortality|Camouflage|Element Control|Phasing|Astral Projection|Electrical Transport|Fire Control|Projection|Summoning|Enhanced Memory|Reflexes|Invulnerability|Energy Constructs|Force Fields|Self-Sustenance|Anti-Gravity|Empathy|Power Nullifier|Radiation Control|Psionic Powers|Elasticity|Substance Secretion|Elemental Transmogrification|Technopath/Cyberpath|Photographic Reflexes|Seismic Power|Animation|Precognition|Mind Control|Fire Resistance|Power Absorption|Enhanced Hearing|Nova Force|Insanity|Hypnokinesis|Animal Control|Natural Armor|Intangibility|Enhanced Sight|Molecular Manipulation|Heat Generation|Adaptation|Gliding|Power Suit|Mind Blast|Probability Manipulation|Gravity Control|Regeneration|Light Control|Echolocation|Levitation|Toxin and Disease Control|Banish|Energy Manipulation|Heat Resistance|Natural Weapons|Time Travel|Enhanced Smell|Illusions|Thirstokinesis|Hair Manipulation|Illumination|Omnipotent|Cloaking|Changing Armor|Power Cosmic|Biokinesis|Water Control|Radiation Immunity|Vision - Telescopic|Toxin and Disease Resistance|Spatial Awareness|Energy Resistance|Telepathy Resistance|Molecular Combustion|Omnilingualism|Portal Creation|Magnetism|Mind Control Resistance|Plant Control|Sonar|Sonic Scream|Time Manipulation|Enhanced Touch|Magic Resistance|Invisibility|Sub-Mariner|Radiation Absorption|Intuitive aptitude|Vision - Microscopic|Melting|Wind Control|Super Breath|Wallcrawling|Vision - Night|Vision - Infrared|Grim Reaping|Matter Absorption|The Force|Resurrection|Terrakinesis|Vision - Heat|Vitakinesis|Radar Sense|Qwardian Power Ring|Weather Control|Vision - X-Ray|Vision - Thermal|Web Creation|Reality Warping|Odin Force|Symbiote Costume|Speed Force|Phoenix Force|Molecular Dissipation|Vision - Cryo|Omnipresent|Omniscient|\n",
            "+----------------+-------+-------------------+------------------+---------------------+---------------+----------+-------+-----------------+------+------------+--------------------+------------+--------------+------------------+-----------------+---------+------------+--------------+-----------+---------+------------+-------------+-----------+-------------+---------------+-------+-------------+-------------+---------+--------+-----------+----------+----------------------+-------------------+--------------+----------------------+-----------+-------------+---------------+-----------+------------+-----+------------+-----+------------+------------------+-----------+-------------+--------------------+-----------+----------+---------------+-------+-----------------+--------------------+------------+----------+---------+---------------+--------+---------------+-----------------+------------+---------------+------------+-------+---------------+-----------------+--------------+----------+-------------------+----------------------------+--------------------+---------------------+-------------+---------+------------+------------+---------------+----------------+----------------+----------+--------+------------+--------------+-------------+-------------+--------------+----------------------+---------------+----------+-------+----------+----------+------------------------+---------------+------------+-------------+------------+----------+-------------------------+------+-------------------+---------------+---------------+-----------+--------------+---------+--------------+-----------------+------------+----------+--------+--------------+------------+----------+-------------+------------------+-------------------+----------------------------+-----------------+-----------------+--------------------+--------------------+--------------+---------------+---------+-----------------------+-------------+-----+------------+-----------------+--------------+----------------+------------+-----------+--------------------+------------------+--------------------+-------+------------+------------+------------+--------------+-----------------+------------+-----------------+---------+------------+------------+-------------+-----------+-----------+-------------------+---------------+--------------+----------------+------------+---------------+----------+----------------+-----------+-------------+---------------------+-------------+-----------+----------+\n",
            "|         3-D Man|   true|              false|             false|                false|          false|     false|  false|            false| false|       false|               false|       false|         false|             false|            false|    false|       false|          true|      false|    false|       false|        false|      false|        false|          false|   true|        false|        false|    false|   false|       true|     false|                 false|              false|         false|                 false|      false|        false|          false|      false|       false|false|       false|false|       false|             false|      false|        false|               false|      false|     false|          false|  false|            false|               false|       false|     false|    false|          false|   false|          false|            false|       false|          false|       false|  false|          false|            false|         false|     false|              false|                       false|               false|                false|        false|    false|       false|       false|          false|           false|           false|     false|   false|       false|         false|        false|        false|         false|                 false|          false|     false|  false|     false|     false|                   false|          false|       false|        false|       false|     false|                    false| false|              false|          false|          false|      false|         false|    false|         false|            false|       false|     false|   false|         false|       false|     false|        false|             false|              false|                       false|            false|            false|               false|               false|         false|          false|    false|                  false|        false|false|       false|            false|         false|           false|       false|      false|               false|             false|               false|  false|       false|       false|       false|         false|            false|       false|            false|    false|       false|       false|        false|      false|      false|              false|          false|         false|           false|       false|          false|     false|           false|      false|        false|                false|        false|      false|     false|\n",
            "|          A-Bomb|  false|               true|             false|                false|          false|      true|  false|            false| false|       false|               false|       false|         false|             false|            false|     true|       false|          true|      false|    false|       false|        false|      false|        false|          false|   true|        false|        false|    false|   false|      false|     false|                 false|              false|         false|                 false|      false|        false|          false|      false|       false|false|       false|false|       false|             false|      false|        false|               false|      false|      true|          false|  false|            false|               false|       false|     false|    false|          false|   false|          false|            false|       false|           true|       false|  false|          false|            false|         false|     false|              false|                       false|               false|                false|        false|    false|       false|       false|          false|           false|           false|     false|   false|       false|         false|        false|        false|         false|                 false|          false|     false|  false|     false|     false|                   false|          false|       false|        false|       false|     false|                    false| false|              false|          false|          false|      false|         false|    false|         false|            false|       false|     false|   false|         false|       false|     false|        false|             false|              false|                       false|            false|            false|               false|               false|         false|          false|    false|                  false|        false|false|       false|            false|         false|           false|       false|      false|               false|             false|               false|  false|       false|       false|       false|         false|            false|       false|            false|    false|       false|       false|        false|      false|      false|              false|          false|         false|           false|       false|          false|     false|           false|      false|        false|                false|        false|      false|     false|\n",
            "|      Abe Sapien|   true|               true|             false|                false|           true|      true|  false|            false| false|       false|                true|        true|          true|             false|            false|     true|        true|          true|      false|     true|       false|        false|      false|        false|          false|   true|        false|        false|    false|   false|      false|     false|                 false|              false|         false|                 false|      false|        false|          false|      false|       false|false|       false|false|       false|             false|      false|        false|               false|       true|     false|          false|  false|            false|               false|       false|     false|    false|          false|    true|          false|            false|       false|          false|       false|  false|          false|            false|         false|     false|              false|                       false|               false|                false|        false|    false|       false|       false|          false|           false|           false|     false|   false|       false|         false|        false|        false|          true|                 false|          false|     false|  false|     false|     false|                   false|          false|       false|        false|       false|     false|                    false| false|              false|          false|          false|      false|         false|    false|         false|            false|       false|     false|   false|         false|       false|     false|        false|             false|              false|                       false|            false|            false|               false|               false|         false|          false|    false|                  false|        false|false|       false|            false|         false|           false|       false|       true|               false|             false|               false|  false|       false|       false|       false|         false|            false|       false|            false|    false|       false|       false|        false|      false|      false|              false|          false|         false|           false|       false|          false|     false|           false|      false|        false|                false|        false|      false|     false|\n",
            "|        Abin Sur|  false|              false|              true|                false|          false|     false|  false|            false| false|       false|               false|       false|         false|             false|            false|    false|       false|         false|      false|    false|       false|        false|      false|        false|          false|  false|        false|        false|    false|   false|      false|     false|                 false|              false|         false|                 false|      false|        false|          false|      false|       false|false|       false|false|       false|             false|      false|        false|               false|      false|     false|          false|  false|            false|               false|       false|     false|    false|          false|   false|          false|            false|       false|          false|       false|  false|          false|            false|         false|     false|              false|                       false|               false|                false|        false|    false|       false|       false|          false|           false|           false|     false|   false|       false|         false|        false|        false|         false|                 false|          false|     false|  false|     false|     false|                   false|          false|       false|        false|       false|     false|                    false| false|              false|          false|          false|      false|         false|    false|         false|            false|       false|     false|   false|         false|       false|     false|        false|             false|              false|                       false|            false|            false|               false|               false|         false|          false|    false|                  false|        false|false|       false|            false|         false|           false|       false|      false|               false|             false|               false|  false|       false|       false|       false|         false|            false|       false|            false|    false|       false|       false|        false|      false|      false|              false|          false|         false|           false|       false|          false|     false|           false|      false|        false|                false|        false|      false|     false|\n",
            "|     Abomination|  false|               true|             false|                false|          false|     false|  false|            false| false|       false|               false|       false|         false|             false|            false|    false|        true|          true|      false|    false|       false|        false|      false|        false|          false|   true|        false|        false|    false|   false|       true|     false|                 false|              false|         false|                 false|      false|        false|          false|      false|       false|false|       false|false|       false|             false|      false|        false|               false|      false|     false|          false|  false|            false|               false|       false|     false|    false|          false|   false|           true|            false|       false|          false|       false|  false|          false|            false|         false|     false|              false|                       false|               false|                false|        false|     true|       false|       false|          false|           false|           false|     false|   false|       false|         false|        false|        false|         false|                 false|          false|     false|  false|     false|     false|                   false|          false|       false|        false|       false|     false|                    false| false|              false|          false|          false|      false|         false|    false|         false|            false|       false|     false|   false|         false|       false|     false|        false|             false|              false|                       false|            false|            false|               false|               false|         false|          false|    false|                  false|        false|false|       false|            false|         false|           false|       false|      false|               false|             false|               false|  false|       false|        true|       false|         false|            false|       false|            false|    false|       false|       false|        false|      false|      false|              false|          false|         false|           false|       false|          false|     false|           false|      false|        false|                false|        false|      false|     false|\n",
            "|         Abraxas|  false|              false|             false|                 true|          false|     false|  false|            false|  true|       false|               false|       false|         false|             false|            false|    false|        true|          true|      false|    false|       false|        false|      false|         true|          false|  false|        false|        false|    false|   false|       true|     false|                 false|              false|         false|                 false|      false|         true|          false|      false|       false| true|       false|false|       false|              true|      false|        false|               false|       true|     false|          false|  false|            false|               false|       false|     false|    false|          false|   false|           true|            false|       false|          false|       false|  false|          false|            false|         false|     false|              false|                       false|               false|                false|        false|    false|       false|       false|          false|           false|           false|     false|   false|       false|         false|        false|        false|         false|                  true|          false|     false|  false|     false|     false|                   false|          false|       false|        false|       false|     false|                    false| false|               true|          false|          false|      false|         false|    false|         false|            false|       false|     false|   false|         false|        true|     false|        false|             false|              false|                       false|            false|            false|               false|               false|         false|          false|    false|                  false|        false|false|       false|            false|         false|           false|       false|      false|               false|             false|               false|  false|       false|       false|       false|         false|            false|       false|            false|    false|       false|       false|        false|      false|      false|              false|          false|         false|           false|       false|          false|     false|           false|      false|        false|                false|        false|      false|     false|\n",
            "|   Absorbing Man|  false|              false|             false|                false|           true|      true|  false|             true| false|       false|               false|       false|         false|             false|            false|    false|       false|          true|      false|    false|       false|        false|      false|        false|          false|  false|        false|        false|    false|   false|      false|     false|                 false|              false|         false|                 false|      false|        false|          false|      false|       false|false|       false|false|       false|             false|      false|        false|               false|      false|     false|          false|  false|            false|               false|       false|     false|    false|          false|   false|           true|            false|       false|          false|       false|  false|          false|            false|         false|     false|              false|                        true|               false|                false|        false|    false|       false|       false|           true|           false|           false|     false|   false|       false|         false|         true|        false|         false|                  true|          false|     false|  false|     false|     false|                   false|          false|       false|        false|       false|     false|                    false| false|              false|           true|          false|      false|         false|    false|         false|            false|       false|     false|   false|         false|       false|     false|        false|             false|              false|                       false|            false|            false|               false|               false|         false|          false|    false|                  false|        false|false|       false|            false|         false|           false|       false|      false|               false|             false|               false|  false|       false|       false|       false|         false|            false|       false|             true|    false|       false|       false|        false|      false|      false|              false|          false|         false|           false|       false|          false|     false|           false|      false|        false|                false|        false|      false|     false|\n",
            "|     Adam Monroe|  false|               true|             false|                false|          false|     false|  false|            false| false|       false|               false|       false|         false|             false|            false|    false|       false|         false|      false|    false|       false|        false|      false|        false|          false|  false|        false|        false|    false|   false|      false|     false|                 false|              false|         false|                 false|      false|        false|          false|      false|       false|false|       false|false|       false|             false|      false|        false|               false|       true|     false|          false|  false|            false|               false|       false|     false|    false|          false|   false|          false|            false|       false|          false|       false|  false|          false|            false|         false|     false|              false|                       false|               false|                false|        false|    false|       false|       false|          false|           false|           false|     false|   false|       false|         false|        false|        false|         false|                 false|          false|     false|  false|     false|     false|                   false|          false|        true|        false|       false|     false|                    false| false|              false|          false|          false|      false|         false|    false|         false|            false|       false|     false|   false|         false|       false|     false|        false|             false|              false|                       false|            false|            false|               false|               false|         false|          false|    false|                  false|        false|false|       false|            false|         false|           false|       false|      false|               false|             false|               false|  false|       false|       false|       false|         false|            false|       false|            false|    false|       false|       false|        false|      false|      false|              false|          false|         false|           false|       false|          false|     false|           false|      false|        false|                false|        false|      false|     false|\n",
            "|    Adam Strange|  false|              false|             false|                false|          false|      true|   true|            false|  true|       false|               false|        true|          true|             false|            false|    false|        true|         false|      false|    false|       false|        false|      false|        false|          false|  false|        false|        false|    false|   false|       true|     false|                 false|              false|         false|                 false|      false|        false|          false|      false|       false|false|       false|false|       false|             false|      false|        false|               false|      false|     false|          false|  false|            false|               false|       false|     false|    false|          false|   false|          false|            false|       false|          false|       false|  false|          false|            false|         false|     false|              false|                       false|               false|                false|        false|    false|       false|       false|           true|           false|           false|     false|   false|       false|         false|        false|        false|          true|                 false|          false|     false|  false|      true|     false|                   false|          false|       false|        false|       false|     false|                    false| false|              false|          false|          false|      false|         false|    false|         false|            false|       false|     false|   false|         false|       false|     false|        false|             false|              false|                       false|            false|            false|               false|               false|         false|          false|    false|                  false|        false|false|       false|            false|         false|           false|       false|      false|               false|             false|               false|  false|       false|       false|       false|         false|            false|       false|            false|    false|       false|       false|        false|      false|      false|              false|          false|         false|           false|       false|          false|     false|           false|      false|        false|                false|        false|      false|     false|\n",
            "|       Agent Bob|  false|              false|             false|                false|          false|     false|   true|            false| false|       false|               false|       false|         false|             false|            false|    false|       false|         false|      false|    false|       false|        false|      false|        false|          false|  false|        false|        false|    false|   false|      false|     false|                 false|              false|         false|                 false|      false|        false|          false|      false|       false|false|       false|false|       false|             false|      false|        false|               false|      false|     false|          false|  false|            false|               false|       false|     false|    false|          false|   false|          false|            false|       false|          false|       false|  false|          false|            false|         false|     false|              false|                       false|               false|                false|        false|    false|       false|       false|          false|           false|           false|     false|   false|       false|         false|        false|        false|         false|                 false|          false|     false|  false|     false|     false|                   false|          false|       false|        false|       false|     false|                    false| false|              false|          false|          false|      false|         false|    false|         false|            false|       false|     false|   false|         false|       false|     false|        false|             false|              false|                       false|            false|            false|               false|               false|         false|          false|    false|                  false|        false|false|       false|            false|         false|           false|       false|      false|               false|             false|               false|  false|       false|       false|       false|         false|            false|       false|            false|    false|       false|       false|        false|      false|      false|              false|          false|         false|           false|       false|          false|     false|           false|      false|        false|                false|        false|      false|     false|\n",
            "|      Agent Zero|  false|              false|             false|                false|          false|     false|  false|             true| false|       false|               false|       false|         false|             false|            false|     true|       false|          true|      false|    false|       false|         true|      false|        false|          false|  false|        false|        false|    false|   false|      false|     false|                 false|              false|         false|                 false|      false|        false|          false|      false|        true|false|       false|false|       false|             false|      false|        false|               false|      false|     false|          false|  false|            false|               false|       false|     false|    false|          false|   false|          false|            false|       false|          false|       false|  false|          false|            false|         false|     false|              false|                       false|               false|                false|        false|    false|       false|       false|          false|           false|           false|     false|   false|       false|         false|        false|        false|         false|                 false|          false|     false|  false|      true|     false|                   false|          false|       false|        false|       false|     false|                    false| false|              false|          false|          false|      false|         false|    false|         false|            false|       false|     false|   false|         false|       false|     false|        false|             false|              false|                       false|            false|            false|               false|               false|         false|          false|    false|                  false|        false|false|       false|            false|         false|           false|       false|      false|               false|             false|               false|  false|       false|       false|       false|         false|            false|       false|            false|    false|       false|       false|        false|      false|      false|              false|          false|         false|           false|       false|          false|     false|           false|      false|        false|                false|        false|      false|     false|\n",
            "|      Air-Walker|  false|              false|             false|                false|          false|     false|  false|            false|  true|       false|               false|       false|         false|             false|            false|    false|       false|          true|      false|    false|       false|        false|      false|        false|          false|  false|        false|        false|    false|   false|       true|     false|                 false|              false|         false|                 false|      false|        false|          false|      false|       false|false|       false|false|       false|             false|      false|        false|               false|      false|     false|          false|  false|            false|               false|       false|     false|    false|          false|   false|          false|            false|       false|           true|       false|  false|          false|            false|         false|     false|              false|                       false|               false|                false|        false|    false|       false|       false|          false|           false|           false|     false|   false|       false|         false|        false|        false|         false|                  true|          false|     false|  false|     false|     false|                   false|          false|       false|        false|       false|     false|                    false| false|              false|          false|          false|      false|         false|    false|         false|            false|       false|     false|   false|         false|        true|     false|        false|             false|              false|                       false|            false|            false|               false|               false|         false|          false|    false|                  false|        false|false|       false|            false|         false|           false|       false|      false|               false|             false|               false|  false|       false|       false|       false|         false|            false|       false|            false|    false|       false|       false|        false|      false|      false|              false|          false|         false|           false|       false|          false|     false|           false|      false|        false|                false|        false|      false|     false|\n",
            "|            Ajax|   true|              false|             false|                false|          false|     false|  false|            false| false|       false|               false|       false|         false|             false|            false|    false|       false|          true|      false|    false|       false|        false|      false|        false|          false|  false|        false|        false|    false|   false|       true|     false|                 false|              false|         false|                 false|      false|        false|          false|      false|       false|false|       false|false|       false|             false|      false|        false|               false|      false|     false|          false|  false|            false|               false|       false|     false|    false|          false|   false|          false|            false|       false|          false|       false|  false|          false|            false|         false|     false|              false|                       false|               false|                false|        false|    false|       false|       false|          false|           false|           false|     false|   false|       false|         false|        false|        false|         false|                 false|           true|     false|  false|      true|     false|                   false|          false|       false|        false|       false|     false|                    false| false|              false|          false|          false|      false|         false|    false|         false|            false|       false|     false|   false|         false|       false|     false|        false|             false|              false|                       false|            false|            false|               false|               false|         false|          false|    false|                  false|        false|false|       false|            false|         false|           false|       false|      false|               false|             false|               false|  false|       false|       false|       false|         false|            false|       false|            false|    false|       false|       false|        false|      false|      false|              false|          false|         false|           false|       false|          false|     false|           false|      false|        false|                false|        false|      false|     false|\n",
            "|      Alan Scott|  false|              false|             false|                false|          false|     false|  false|            false|  true|        true|               false|       false|         false|             false|            false|    false|        true|         false|      false|     true|       false|         true|      false|        false|          false|  false|        false|        false|    false|   false|       true|     false|                 false|              false|         false|                 false|      false|         true|          false|      false|        true|false|       false|false|       false|             false|      false|        false|               false|      false|     false|          false|   true|            false|               false|       false|     false|    false|          false|   false|          false|            false|        true|          false|       false|  false|          false|            false|         false|     false|              false|                       false|               false|                false|        false|    false|       false|       false|          false|           false|           false|     false|   false|        true|         false|        false|        false|         false|                 false|          false|     false|  false|     false|     false|                   false|          false|       false|        false|       false|     false|                    false| false|               true|          false|          false|      false|         false|    false|         false|            false|       false|     false|   false|         false|       false|     false|        false|             false|              false|                       false|            false|            false|               false|               false|         false|          false|    false|                  false|        false|false|       false|            false|         false|           false|        true|      false|               false|             false|               false|  false|       false|       false|       false|         false|            false|       false|            false|    false|       false|       false|        false|      false|      false|              false|          false|         false|           false|       false|          false|     false|           false|      false|        false|                false|        false|      false|     false|\n",
            "|     Alex Mercer|   true|               true|             false|                false|          false|     false|   true|             true| false|        true|               false|        true|          true|             false|            false|     true|       false|          true|      false|    false|       false|         true|      false|        false|          false|   true|        false|        false|    false|   false|       true|     false|                 false|              false|         false|                 false|      false|        false|           true|      false|       false|false|       false| true|       false|             false|      false|         true|               false|       true|     false|          false|  false|            false|               false|       false|     false|    false|          false|   false|           true|            false|       false|          false|       false|  false|          false|            false|         false|      true|               true|                       false|               false|                false|        false|    false|       false|       false|          false|           false|            true|     false|   false|       false|         false|         true|        false|         false|                 false|          false|      true|   true|     false|     false|                   false|          false|       false|        false|       false|     false|                    false| false|              false|          false|           true|      false|         false|    false|         false|            false|       false|     false|   false|         false|       false|     false|        false|             false|              false|                       false|            false|            false|               false|               false|         false|          false|    false|                  false|        false|false|       false|            false|         false|           false|       false|      false|               false|             false|               false|  false|       false|       false|        true|         false|            false|       false|             true|    false|       false|       false|        false|      false|      false|              false|          false|         false|            true|       false|          false|     false|           false|      false|        false|                false|        false|      false|     false|\n",
            "|    Alex Woolsly|  false|              false|             false|                false|          false|     false|  false|            false| false|       false|                true|       false|         false|             false|            false|    false|       false|         false|      false|    false|       false|        false|      false|        false|          false|  false|        false|        false|    false|   false|      false|     false|                 false|              false|         false|                 false|      false|        false|          false|      false|       false|false|       false|false|       false|             false|      false|        false|               false|      false|     false|          false|  false|            false|               false|       false|     false|    false|          false|   false|          false|            false|       false|          false|       false|  false|          false|            false|         false|     false|              false|                       false|               false|                false|        false|    false|       false|       false|          false|           false|           false|     false|   false|       false|         false|        false|        false|         false|                 false|          false|     false|  false|     false|     false|                   false|          false|       false|        false|       false|     false|                    false| false|              false|          false|          false|      false|         false|    false|         false|            false|       false|     false|   false|         false|       false|     false|        false|             false|              false|                       false|            false|            false|               false|               false|         false|          false|    false|                  false|        false|false|       false|            false|         false|           false|       false|      false|               false|             false|               false|  false|       false|       false|       false|         false|            false|       false|            false|    false|       false|       false|        false|      false|      false|              false|          false|         false|           false|       false|          false|     false|           false|      false|        false|                false|        false|      false|     false|\n",
            "|           Alien|   true|              false|             false|                false|           true|      true|   true|            false| false|       false|               false|       false|         false|             false|            false|    false|       false|          true|      false|    false|       false|        false|      false|        false|          false|  false|        false|        false|    false|   false|       true|     false|                 false|              false|         false|                 false|      false|        false|           true|      false|       false|false|       false| true|       false|             false|      false|        false|               false|      false|     false|          false|  false|            false|               false|       false|     false|    false|          false|   false|          false|            false|       false|          false|       false|  false|          false|            false|         false|     false|               true|                       false|               false|                false|        false|    false|       false|       false|          false|           false|           false|     false|   false|       false|         false|         true|        false|         false|                 false|          false|     false|  false|     false|     false|                   false|          false|       false|        false|       false|     false|                    false| false|              false|           true|           true|      false|         false|    false|         false|            false|       false|     false|   false|         false|       false|     false|        false|             false|              false|                       false|            false|            false|               false|               false|         false|          false|    false|                  false|        false|false|       false|            false|         false|           false|       false|      false|               false|             false|               false|  false|       false|       false|        true|         false|            false|       false|            false|    false|       false|       false|        false|      false|      false|              false|          false|         false|            true|       false|          false|     false|           false|      false|        false|                false|        false|      false|     false|\n",
            "|Allan Quatermain|  false|              false|             false|                false|          false|     false|  false|            false| false|       false|               false|        true|         false|             false|            false|    false|       false|         false|      false|    false|       false|        false|      false|        false|          false|  false|        false|        false|    false|   false|      false|     false|                 false|              false|         false|                 false|      false|        false|          false|      false|       false|false|       false|false|       false|             false|      false|        false|               false|      false|     false|          false|  false|            false|               false|       false|     false|    false|          false|   false|          false|            false|       false|          false|       false|  false|          false|            false|         false|     false|              false|                       false|               false|                false|        false|    false|       false|       false|          false|           false|           false|     false|   false|       false|         false|        false|        false|         false|                 false|          false|     false|  false|     false|     false|                   false|          false|       false|        false|       false|     false|                    false| false|              false|          false|          false|      false|         false|    false|         false|            false|       false|     false|   false|         false|       false|     false|        false|             false|              false|                       false|            false|            false|               false|               false|         false|          false|    false|                  false|        false|false|       false|            false|         false|           false|       false|      false|               false|             false|               false|  false|       false|       false|       false|         false|            false|       false|            false|    false|       false|       false|        false|      false|      false|              false|          false|         false|           false|       false|          false|     false|           false|      false|        false|                false|        false|      false|     false|\n",
            "|           Amazo|   true|              false|              true|                false|          false|      true|  false|            false|  true|       false|                true|        true|         false|              true|            false|     true|        true|          true|       true|     true|       false|         true|       true|         true|          false|   true|        false|        false|    false|   false|       true|     false|                 false|               true|         false|                 false|      false|         true|           true|      false|       false|false|       false| true|       false|             false|      false|         true|               false|      false|      true|          false|   true|            false|               false|        true|     false|    false|           true|    true|           true|             true|        true|          false|       false|  false|          false|            false|         false|     false|              false|                       false|               false|                false|        false|    false|       false|       false|          false|            true|            true|     false|   false|       false|         false|        false|        false|         false|                 false|          false|     false|  false|     false|     false|                   false|          false|       false|        false|       false|     false|                    false| false|              false|          false|          false|       true|          true|    false|         false|            false|       false|     false|   false|         false|       false|     false|         true|             false|               true|                       false|            false|            false|               false|               false|         false|          false|     true|                  false|        false|false|       false|            false|         false|           false|        true|      false|               false|             false|                true|  false|       false|        true|       false|          true|            false|       false|            false|    false|       false|       false|         true|      false|      false|              false|          false|          true|            true|       false|          false|     false|           false|      false|        false|                false|        false|      false|     false|\n",
            "|            Ammo|  false|              false|             false|                false|          false|     false|  false|            false| false|       false|               false|       false|          true|             false|            false|    false|       false|         false|      false|    false|       false|        false|      false|        false|          false|  false|        false|        false|    false|   false|      false|     false|                 false|              false|         false|                 false|      false|        false|          false|      false|       false|false|       false|false|       false|             false|      false|        false|               false|      false|     false|          false|  false|            false|               false|       false|     false|    false|          false|   false|          false|            false|       false|          false|       false|  false|          false|            false|         false|     false|              false|                       false|               false|                false|        false|    false|       false|       false|          false|           false|           false|     false|   false|       false|         false|        false|        false|         false|                 false|          false|     false|  false|     false|     false|                   false|          false|       false|        false|       false|     false|                    false| false|              false|          false|          false|      false|         false|    false|         false|            false|       false|     false|   false|         false|       false|     false|        false|             false|              false|                       false|            false|            false|               false|               false|         false|          false|    false|                  false|        false|false|       false|            false|         false|           false|       false|      false|               false|             false|               false|  false|       false|       false|       false|         false|            false|       false|            false|    false|       false|       false|        false|      false|      false|              false|          false|         false|           false|       false|          false|     false|           false|      false|        false|                false|        false|      false|     false|\n",
            "+----------------+-------+-------------------+------------------+---------------------+---------------+----------+-------+-----------------+------+------------+--------------------+------------+--------------+------------------+-----------------+---------+------------+--------------+-----------+---------+------------+-------------+-----------+-------------+---------------+-------+-------------+-------------+---------+--------+-----------+----------+----------------------+-------------------+--------------+----------------------+-----------+-------------+---------------+-----------+------------+-----+------------+-----+------------+------------------+-----------+-------------+--------------------+-----------+----------+---------------+-------+-----------------+--------------------+------------+----------+---------+---------------+--------+---------------+-----------------+------------+---------------+------------+-------+---------------+-----------------+--------------+----------+-------------------+----------------------------+--------------------+---------------------+-------------+---------+------------+------------+---------------+----------------+----------------+----------+--------+------------+--------------+-------------+-------------+--------------+----------------------+---------------+----------+-------+----------+----------+------------------------+---------------+------------+-------------+------------+----------+-------------------------+------+-------------------+---------------+---------------+-----------+--------------+---------+--------------+-----------------+------------+----------+--------+--------------+------------+----------+-------------+------------------+-------------------+----------------------------+-----------------+-----------------+--------------------+--------------------+--------------+---------------+---------+-----------------------+-------------+-----+------------+-----------------+--------------+----------------+------------+-----------+--------------------+------------------+--------------------+-------+------------+------------+------------+--------------+-----------------+------------+-----------------+---------+------------+------------+-------------+-----------+-----------+-------------------+---------------+--------------+----------------+------------+---------------+----------+----------------+-----------+-------------+---------------------+-------------+-----------+----------+\n",
            "only showing top 20 rows\n",
            "\n"
          ],
          "name": "stdout"
        }
      ]
    },
    {
      "cell_type": "code",
      "metadata": {
        "id": "7CjD7e8K-kM_",
        "colab_type": "code",
        "colab": {
          "base_uri": "https://localhost:8080/",
          "height": 479
        },
        "outputId": "2119bac5-062b-4619-d2f2-796f0fa4bccf"
      },
      "source": [
        "df_joined = df_hero_indi.join(df_power, on=\"name\",how=\"left\")\n",
        "df_joined.show()"
      ],
      "execution_count": null,
      "outputs": [
        {
          "output_type": "stream",
          "text": [
            "+-----------------+---+------+---------+-----------------+----------+------+-----------------+----------+---------+------+-------+-------------------+------------------+---------------------+---------------+----------+-------+-----------------+------+------------+--------------------+------------+--------------+------------------+-----------------+---------+------------+--------------+-----------+---------+------------+-------------+-----------+-------------+---------------+-------+-------------+-------------+---------+--------+-----------+----------+----------------------+-------------------+--------------+----------------------+-----------+-------------+---------------+-----------+------------+-----+------------+-----+------------+------------------+-----------+-------------+--------------------+-----------+----------+---------------+-------+-----------------+--------------------+------------+----------+---------+---------------+--------+---------------+-----------------+------------+---------------+------------+-------+---------------+-----------------+--------------+----------+-------------------+----------------------------+--------------------+---------------------+-------------+---------+------------+------------+---------------+----------------+----------------+----------+--------+------------+--------------+-------------+-------------+--------------+----------------------+---------------+----------+-------+----------+----------+------------------------+---------------+------------+-------------+------------+----------+-------------------------+------+-------------------+---------------+---------------+-----------+--------------+---------+--------------+-----------------+------------+----------+--------+--------------+------------+----------+-------------+------------------+-------------------+----------------------------+-----------------+-----------------+--------------------+--------------------+--------------+---------------+---------+-----------------------+-------------+-----+------------+-----------------+--------------+----------------+------------+-----------+--------------------+------------------+--------------------+-------+------------+------------+------------+--------------+-----------------+------------+-----------------+---------+------------+------------+-------------+-----------+-----------+-------------------+---------------+--------------+----------------+------------+---------------+----------+----------------+-----------+-------------+---------------------+-------------+-----------+----------+\n",
            "|             name|_c0|Gender|Eye color|             Race|Hair color|Height|        Publisher|Skin color|Alignment|Weight|Agility|Accelerated Healing|Lantern Power Ring|Dimensional Awareness|Cold Resistance|Durability|Stealth|Energy Absorption|Flight|Danger Sense|Underwater breathing|Marksmanship|Weapons Master|Power Augmentation|Animal Attributes|Longevity|Intelligence|Super Strength|Cryokinesis|Telepathy|Energy Armor|Energy Blasts|Duplication|Size Changing|Density Control|Stamina|Astral Travel|Audio Control|Dexterity|Omnitrix|Super Speed|Possession|Animal Oriented Powers|Weapon-based Powers|Electrokinesis|Darkforce Manipulation|Death Touch|Teleportation|Enhanced Senses|Telekinesis|Energy Beams|Magic|Hyperkinesis| Jump|Clairvoyance|Dimensional Travel|Power Sense|Shapeshifting|Peak Human Condition|Immortality|Camouflage|Element Control|Phasing|Astral Projection|Electrical Transport|Fire Control|Projection|Summoning|Enhanced Memory|Reflexes|Invulnerability|Energy Constructs|Force Fields|Self-Sustenance|Anti-Gravity|Empathy|Power Nullifier|Radiation Control|Psionic Powers|Elasticity|Substance Secretion|Elemental Transmogrification|Technopath/Cyberpath|Photographic Reflexes|Seismic Power|Animation|Precognition|Mind Control|Fire Resistance|Power Absorption|Enhanced Hearing|Nova Force|Insanity|Hypnokinesis|Animal Control|Natural Armor|Intangibility|Enhanced Sight|Molecular Manipulation|Heat Generation|Adaptation|Gliding|Power Suit|Mind Blast|Probability Manipulation|Gravity Control|Regeneration|Light Control|Echolocation|Levitation|Toxin and Disease Control|Banish|Energy Manipulation|Heat Resistance|Natural Weapons|Time Travel|Enhanced Smell|Illusions|Thirstokinesis|Hair Manipulation|Illumination|Omnipotent|Cloaking|Changing Armor|Power Cosmic|Biokinesis|Water Control|Radiation Immunity|Vision - Telescopic|Toxin and Disease Resistance|Spatial Awareness|Energy Resistance|Telepathy Resistance|Molecular Combustion|Omnilingualism|Portal Creation|Magnetism|Mind Control Resistance|Plant Control|Sonar|Sonic Scream|Time Manipulation|Enhanced Touch|Magic Resistance|Invisibility|Sub-Mariner|Radiation Absorption|Intuitive aptitude|Vision - Microscopic|Melting|Wind Control|Super Breath|Wallcrawling|Vision - Night|Vision - Infrared|Grim Reaping|Matter Absorption|The Force|Resurrection|Terrakinesis|Vision - Heat|Vitakinesis|Radar Sense|Qwardian Power Ring|Weather Control|Vision - X-Ray|Vision - Thermal|Web Creation|Reality Warping|Odin Force|Symbiote Costume|Speed Force|Phoenix Force|Molecular Dissipation|Vision - Cryo|Omnipresent|Omniscient|\n",
            "+-----------------+---+------+---------+-----------------+----------+------+-----------------+----------+---------+------+-------+-------------------+------------------+---------------------+---------------+----------+-------+-----------------+------+------------+--------------------+------------+--------------+------------------+-----------------+---------+------------+--------------+-----------+---------+------------+-------------+-----------+-------------+---------------+-------+-------------+-------------+---------+--------+-----------+----------+----------------------+-------------------+--------------+----------------------+-----------+-------------+---------------+-----------+------------+-----+------------+-----+------------+------------------+-----------+-------------+--------------------+-----------+----------+---------------+-------+-----------------+--------------------+------------+----------+---------+---------------+--------+---------------+-----------------+------------+---------------+------------+-------+---------------+-----------------+--------------+----------+-------------------+----------------------------+--------------------+---------------------+-------------+---------+------------+------------+---------------+----------------+----------------+----------+--------+------------+--------------+-------------+-------------+--------------+----------------------+---------------+----------+-------+----------+----------+------------------------+---------------+------------+-------------+------------+----------+-------------------------+------+-------------------+---------------+---------------+-----------+--------------+---------+--------------+-----------------+------------+----------+--------+--------------+------------+----------+-------------+------------------+-------------------+----------------------------+-----------------+-----------------+--------------------+--------------------+--------------+---------------+---------+-----------------------+-------------+-----+------------+-----------------+--------------+----------------+------------+-----------+--------------------+------------------+--------------------+-------+------------+------------+------------+--------------+-----------------+------------+-----------------+---------+------------+------------+-------------+-----------+-----------+-------------------+---------------+--------------+----------------+------------+---------------+----------+----------------+-----------+-------------+---------------------+-------------+-----------+----------+\n",
            "|           A-Bomb|  0|  Male|   yellow|            Human|   No Hair| 203.0|    Marvel Comics|         -|     good| 441.0|  false|               true|             false|                false|          false|      true|  false|            false| false|       false|               false|       false|         false|             false|            false|     true|       false|          true|      false|    false|       false|        false|      false|        false|          false|   true|        false|        false|    false|   false|      false|     false|                 false|              false|         false|                 false|      false|        false|          false|      false|       false|false|       false|false|       false|             false|      false|        false|               false|      false|      true|          false|  false|            false|               false|       false|     false|    false|          false|   false|          false|            false|       false|           true|       false|  false|          false|            false|         false|     false|              false|                       false|               false|                false|        false|    false|       false|       false|          false|           false|           false|     false|   false|       false|         false|        false|        false|         false|                 false|          false|     false|  false|     false|     false|                   false|          false|       false|        false|       false|     false|                    false| false|              false|          false|          false|      false|         false|    false|         false|            false|       false|     false|   false|         false|       false|     false|        false|             false|              false|                       false|            false|            false|               false|               false|         false|          false|    false|                  false|        false|false|       false|            false|         false|           false|       false|      false|               false|             false|               false|  false|       false|       false|       false|         false|            false|       false|            false|    false|       false|       false|        false|      false|      false|              false|          false|         false|           false|       false|          false|     false|           false|      false|        false|                false|        false|      false|     false|\n",
            "|       Abe Sapien|  1|  Male|     blue|    Icthyo Sapien|   No Hair| 191.0|Dark Horse Comics|      blue|     good|  65.0|   true|               true|             false|                false|           true|      true|  false|            false| false|       false|                true|        true|          true|             false|            false|     true|        true|          true|      false|     true|       false|        false|      false|        false|          false|   true|        false|        false|    false|   false|      false|     false|                 false|              false|         false|                 false|      false|        false|          false|      false|       false|false|       false|false|       false|             false|      false|        false|               false|       true|     false|          false|  false|            false|               false|       false|     false|    false|          false|    true|          false|            false|       false|          false|       false|  false|          false|            false|         false|     false|              false|                       false|               false|                false|        false|    false|       false|       false|          false|           false|           false|     false|   false|       false|         false|        false|        false|          true|                 false|          false|     false|  false|     false|     false|                   false|          false|       false|        false|       false|     false|                    false| false|              false|          false|          false|      false|         false|    false|         false|            false|       false|     false|   false|         false|       false|     false|        false|             false|              false|                       false|            false|            false|               false|               false|         false|          false|    false|                  false|        false|false|       false|            false|         false|           false|       false|       true|               false|             false|               false|  false|       false|       false|       false|         false|            false|       false|            false|    false|       false|       false|        false|      false|      false|              false|          false|         false|           false|       false|          false|     false|           false|      false|        false|                false|        false|      false|     false|\n",
            "|         Abin Sur|  2|  Male|     blue|          Ungaran|   No Hair| 185.0|        DC Comics|       red|     good|  90.0|  false|              false|              true|                false|          false|     false|  false|            false| false|       false|               false|       false|         false|             false|            false|    false|       false|         false|      false|    false|       false|        false|      false|        false|          false|  false|        false|        false|    false|   false|      false|     false|                 false|              false|         false|                 false|      false|        false|          false|      false|       false|false|       false|false|       false|             false|      false|        false|               false|      false|     false|          false|  false|            false|               false|       false|     false|    false|          false|   false|          false|            false|       false|          false|       false|  false|          false|            false|         false|     false|              false|                       false|               false|                false|        false|    false|       false|       false|          false|           false|           false|     false|   false|       false|         false|        false|        false|         false|                 false|          false|     false|  false|     false|     false|                   false|          false|       false|        false|       false|     false|                    false| false|              false|          false|          false|      false|         false|    false|         false|            false|       false|     false|   false|         false|       false|     false|        false|             false|              false|                       false|            false|            false|               false|               false|         false|          false|    false|                  false|        false|false|       false|            false|         false|           false|       false|      false|               false|             false|               false|  false|       false|       false|       false|         false|            false|       false|            false|    false|       false|       false|        false|      false|      false|              false|          false|         false|           false|       false|          false|     false|           false|      false|        false|                false|        false|      false|     false|\n",
            "|      Abomination|  3|  Male|    green|Human / Radiation|   No Hair| 203.0|    Marvel Comics|         -|      bad| 441.0|  false|               true|             false|                false|          false|     false|  false|            false| false|       false|               false|       false|         false|             false|            false|    false|        true|          true|      false|    false|       false|        false|      false|        false|          false|   true|        false|        false|    false|   false|       true|     false|                 false|              false|         false|                 false|      false|        false|          false|      false|       false|false|       false|false|       false|             false|      false|        false|               false|      false|     false|          false|  false|            false|               false|       false|     false|    false|          false|   false|           true|            false|       false|          false|       false|  false|          false|            false|         false|     false|              false|                       false|               false|                false|        false|     true|       false|       false|          false|           false|           false|     false|   false|       false|         false|        false|        false|         false|                 false|          false|     false|  false|     false|     false|                   false|          false|       false|        false|       false|     false|                    false| false|              false|          false|          false|      false|         false|    false|         false|            false|       false|     false|   false|         false|       false|     false|        false|             false|              false|                       false|            false|            false|               false|               false|         false|          false|    false|                  false|        false|false|       false|            false|         false|           false|       false|      false|               false|             false|               false|  false|       false|        true|       false|         false|            false|       false|            false|    false|       false|       false|        false|      false|      false|              false|          false|         false|           false|       false|          false|     false|           false|      false|        false|                false|        false|      false|     false|\n",
            "|          Abraxas|  4|  Male|     blue|    Cosmic Entity|     Black| -99.0|    Marvel Comics|         -|      bad| -99.0|  false|              false|             false|                 true|          false|     false|  false|            false|  true|       false|               false|       false|         false|             false|            false|    false|        true|          true|      false|    false|       false|        false|      false|         true|          false|  false|        false|        false|    false|   false|       true|     false|                 false|              false|         false|                 false|      false|         true|          false|      false|       false| true|       false|false|       false|              true|      false|        false|               false|       true|     false|          false|  false|            false|               false|       false|     false|    false|          false|   false|           true|            false|       false|          false|       false|  false|          false|            false|         false|     false|              false|                       false|               false|                false|        false|    false|       false|       false|          false|           false|           false|     false|   false|       false|         false|        false|        false|         false|                  true|          false|     false|  false|     false|     false|                   false|          false|       false|        false|       false|     false|                    false| false|               true|          false|          false|      false|         false|    false|         false|            false|       false|     false|   false|         false|        true|     false|        false|             false|              false|                       false|            false|            false|               false|               false|         false|          false|    false|                  false|        false|false|       false|            false|         false|           false|       false|      false|               false|             false|               false|  false|       false|       false|       false|         false|            false|       false|            false|    false|       false|       false|        false|      false|      false|              false|          false|         false|           false|       false|          false|     false|           false|      false|        false|                false|        false|      false|     false|\n",
            "|    Absorbing Man|  5|  Male|     blue|            Human|   No Hair| 193.0|    Marvel Comics|         -|      bad| 122.0|  false|              false|             false|                false|           true|      true|  false|             true| false|       false|               false|       false|         false|             false|            false|    false|       false|          true|      false|    false|       false|        false|      false|        false|          false|  false|        false|        false|    false|   false|      false|     false|                 false|              false|         false|                 false|      false|        false|          false|      false|       false|false|       false|false|       false|             false|      false|        false|               false|      false|     false|          false|  false|            false|               false|       false|     false|    false|          false|   false|           true|            false|       false|          false|       false|  false|          false|            false|         false|     false|              false|                        true|               false|                false|        false|    false|       false|       false|           true|           false|           false|     false|   false|       false|         false|         true|        false|         false|                  true|          false|     false|  false|     false|     false|                   false|          false|       false|        false|       false|     false|                    false| false|              false|           true|          false|      false|         false|    false|         false|            false|       false|     false|   false|         false|       false|     false|        false|             false|              false|                       false|            false|            false|               false|               false|         false|          false|    false|                  false|        false|false|       false|            false|         false|           false|       false|      false|               false|             false|               false|  false|       false|       false|       false|         false|            false|       false|             true|    false|       false|       false|        false|      false|      false|              false|          false|         false|           false|       false|          false|     false|           false|      false|        false|                false|        false|      false|     false|\n",
            "|      Adam Monroe|  6|  Male|     blue|                -|     Blond| -99.0|     NBC - Heroes|         -|     good| -99.0|  false|               true|             false|                false|          false|     false|  false|            false| false|       false|               false|       false|         false|             false|            false|    false|       false|         false|      false|    false|       false|        false|      false|        false|          false|  false|        false|        false|    false|   false|      false|     false|                 false|              false|         false|                 false|      false|        false|          false|      false|       false|false|       false|false|       false|             false|      false|        false|               false|       true|     false|          false|  false|            false|               false|       false|     false|    false|          false|   false|          false|            false|       false|          false|       false|  false|          false|            false|         false|     false|              false|                       false|               false|                false|        false|    false|       false|       false|          false|           false|           false|     false|   false|       false|         false|        false|        false|         false|                 false|          false|     false|  false|     false|     false|                   false|          false|        true|        false|       false|     false|                    false| false|              false|          false|          false|      false|         false|    false|         false|            false|       false|     false|   false|         false|       false|     false|        false|             false|              false|                       false|            false|            false|               false|               false|         false|          false|    false|                  false|        false|false|       false|            false|         false|           false|       false|      false|               false|             false|               false|  false|       false|       false|       false|         false|            false|       false|            false|    false|       false|       false|        false|      false|      false|              false|          false|         false|           false|       false|          false|     false|           false|      false|        false|                false|        false|      false|     false|\n",
            "|     Adam Strange|  7|  Male|     blue|            Human|     Blond| 185.0|        DC Comics|         -|     good|  88.0|  false|              false|             false|                false|          false|      true|   true|            false|  true|       false|               false|        true|          true|             false|            false|    false|        true|         false|      false|    false|       false|        false|      false|        false|          false|  false|        false|        false|    false|   false|       true|     false|                 false|              false|         false|                 false|      false|        false|          false|      false|       false|false|       false|false|       false|             false|      false|        false|               false|      false|     false|          false|  false|            false|               false|       false|     false|    false|          false|   false|          false|            false|       false|          false|       false|  false|          false|            false|         false|     false|              false|                       false|               false|                false|        false|    false|       false|       false|           true|           false|           false|     false|   false|       false|         false|        false|        false|          true|                 false|          false|     false|  false|      true|     false|                   false|          false|       false|        false|       false|     false|                    false| false|              false|          false|          false|      false|         false|    false|         false|            false|       false|     false|   false|         false|       false|     false|        false|             false|              false|                       false|            false|            false|               false|               false|         false|          false|    false|                  false|        false|false|       false|            false|         false|           false|       false|      false|               false|             false|               false|  false|       false|       false|       false|         false|            false|       false|            false|    false|       false|       false|        false|      false|      false|              false|          false|         false|           false|       false|          false|     false|           false|      false|        false|                false|        false|      false|     false|\n",
            "|         Agent 13|  8|Female|     blue|                -|     Blond| 173.0|    Marvel Comics|         -|     good|  61.0|   null|               null|              null|                 null|           null|      null|   null|             null|  null|        null|                null|        null|          null|              null|             null|     null|        null|          null|       null|     null|        null|         null|       null|         null|           null|   null|         null|         null|     null|    null|       null|      null|                  null|               null|          null|                  null|       null|         null|           null|       null|        null| null|        null| null|        null|              null|       null|         null|                null|       null|      null|           null|   null|             null|                null|        null|      null|     null|           null|    null|           null|             null|        null|           null|        null|   null|           null|             null|          null|      null|               null|                        null|                null|                 null|         null|     null|        null|        null|           null|            null|            null|      null|    null|        null|          null|         null|         null|          null|                  null|           null|      null|   null|      null|      null|                    null|           null|        null|         null|        null|      null|                     null|  null|               null|           null|           null|       null|          null|     null|          null|             null|        null|      null|    null|          null|        null|      null|         null|              null|               null|                        null|             null|             null|                null|                null|          null|           null|     null|                   null|         null| null|        null|             null|          null|            null|        null|       null|                null|              null|                null|   null|        null|        null|        null|          null|             null|        null|             null|     null|        null|        null|         null|       null|       null|               null|           null|          null|            null|        null|           null|      null|            null|       null|         null|                 null|         null|       null|      null|\n",
            "|        Agent Bob|  9|  Male|    brown|            Human|     Brown| 178.0|    Marvel Comics|         -|     good|  81.0|  false|              false|             false|                false|          false|     false|   true|            false| false|       false|               false|       false|         false|             false|            false|    false|       false|         false|      false|    false|       false|        false|      false|        false|          false|  false|        false|        false|    false|   false|      false|     false|                 false|              false|         false|                 false|      false|        false|          false|      false|       false|false|       false|false|       false|             false|      false|        false|               false|      false|     false|          false|  false|            false|               false|       false|     false|    false|          false|   false|          false|            false|       false|          false|       false|  false|          false|            false|         false|     false|              false|                       false|               false|                false|        false|    false|       false|       false|          false|           false|           false|     false|   false|       false|         false|        false|        false|         false|                 false|          false|     false|  false|     false|     false|                   false|          false|       false|        false|       false|     false|                    false| false|              false|          false|          false|      false|         false|    false|         false|            false|       false|     false|   false|         false|       false|     false|        false|             false|              false|                       false|            false|            false|               false|               false|         false|          false|    false|                  false|        false|false|       false|            false|         false|           false|       false|      false|               false|             false|               false|  false|       false|       false|       false|         false|            false|       false|            false|    false|       false|       false|        false|      false|      false|              false|          false|         false|           false|       false|          false|     false|           false|      false|        false|                false|        false|      false|     false|\n",
            "|       Agent Zero| 10|  Male|        -|                -|         -| 191.0|    Marvel Comics|         -|     good| 104.0|  false|              false|             false|                false|          false|     false|  false|             true| false|       false|               false|       false|         false|             false|            false|     true|       false|          true|      false|    false|       false|         true|      false|        false|          false|  false|        false|        false|    false|   false|      false|     false|                 false|              false|         false|                 false|      false|        false|          false|      false|        true|false|       false|false|       false|             false|      false|        false|               false|      false|     false|          false|  false|            false|               false|       false|     false|    false|          false|   false|          false|            false|       false|          false|       false|  false|          false|            false|         false|     false|              false|                       false|               false|                false|        false|    false|       false|       false|          false|           false|           false|     false|   false|       false|         false|        false|        false|         false|                 false|          false|     false|  false|      true|     false|                   false|          false|       false|        false|       false|     false|                    false| false|              false|          false|          false|      false|         false|    false|         false|            false|       false|     false|   false|         false|       false|     false|        false|             false|              false|                       false|            false|            false|               false|               false|         false|          false|    false|                  false|        false|false|       false|            false|         false|           false|       false|      false|               false|             false|               false|  false|       false|       false|       false|         false|            false|       false|            false|    false|       false|       false|        false|      false|      false|              false|          false|         false|           false|       false|          false|     false|           false|      false|        false|                false|        false|      false|     false|\n",
            "|       Air-Walker| 11|  Male|     blue|                -|     White| 188.0|    Marvel Comics|         -|      bad| 108.0|  false|              false|             false|                false|          false|     false|  false|            false|  true|       false|               false|       false|         false|             false|            false|    false|       false|          true|      false|    false|       false|        false|      false|        false|          false|  false|        false|        false|    false|   false|       true|     false|                 false|              false|         false|                 false|      false|        false|          false|      false|       false|false|       false|false|       false|             false|      false|        false|               false|      false|     false|          false|  false|            false|               false|       false|     false|    false|          false|   false|          false|            false|       false|           true|       false|  false|          false|            false|         false|     false|              false|                       false|               false|                false|        false|    false|       false|       false|          false|           false|           false|     false|   false|       false|         false|        false|        false|         false|                  true|          false|     false|  false|     false|     false|                   false|          false|       false|        false|       false|     false|                    false| false|              false|          false|          false|      false|         false|    false|         false|            false|       false|     false|   false|         false|        true|     false|        false|             false|              false|                       false|            false|            false|               false|               false|         false|          false|    false|                  false|        false|false|       false|            false|         false|           false|       false|      false|               false|             false|               false|  false|       false|       false|       false|         false|            false|       false|            false|    false|       false|       false|        false|      false|      false|              false|          false|         false|           false|       false|          false|     false|           false|      false|        false|                false|        false|      false|     false|\n",
            "|             Ajax| 12|  Male|    brown|           Cyborg|     Black| 193.0|    Marvel Comics|         -|      bad|  90.0|   true|              false|             false|                false|          false|     false|  false|            false| false|       false|               false|       false|         false|             false|            false|    false|       false|          true|      false|    false|       false|        false|      false|        false|          false|  false|        false|        false|    false|   false|       true|     false|                 false|              false|         false|                 false|      false|        false|          false|      false|       false|false|       false|false|       false|             false|      false|        false|               false|      false|     false|          false|  false|            false|               false|       false|     false|    false|          false|   false|          false|            false|       false|          false|       false|  false|          false|            false|         false|     false|              false|                       false|               false|                false|        false|    false|       false|       false|          false|           false|           false|     false|   false|       false|         false|        false|        false|         false|                 false|           true|     false|  false|      true|     false|                   false|          false|       false|        false|       false|     false|                    false| false|              false|          false|          false|      false|         false|    false|         false|            false|       false|     false|   false|         false|       false|     false|        false|             false|              false|                       false|            false|            false|               false|               false|         false|          false|    false|                  false|        false|false|       false|            false|         false|           false|       false|      false|               false|             false|               false|  false|       false|       false|       false|         false|            false|       false|            false|    false|       false|       false|        false|      false|      false|              false|          false|         false|           false|       false|          false|     false|           false|      false|        false|                false|        false|      false|     false|\n",
            "|       Alan Scott| 13|  Male|     blue|                -|     Blond| 180.0|        DC Comics|         -|     good|  90.0|  false|              false|             false|                false|          false|     false|  false|            false|  true|        true|               false|       false|         false|             false|            false|    false|        true|         false|      false|     true|       false|         true|      false|        false|          false|  false|        false|        false|    false|   false|       true|     false|                 false|              false|         false|                 false|      false|         true|          false|      false|        true|false|       false|false|       false|             false|      false|        false|               false|      false|     false|          false|   true|            false|               false|       false|     false|    false|          false|   false|          false|            false|        true|          false|       false|  false|          false|            false|         false|     false|              false|                       false|               false|                false|        false|    false|       false|       false|          false|           false|           false|     false|   false|        true|         false|        false|        false|         false|                 false|          false|     false|  false|     false|     false|                   false|          false|       false|        false|       false|     false|                    false| false|               true|          false|          false|      false|         false|    false|         false|            false|       false|     false|   false|         false|       false|     false|        false|             false|              false|                       false|            false|            false|               false|               false|         false|          false|    false|                  false|        false|false|       false|            false|         false|           false|        true|      false|               false|             false|               false|  false|       false|       false|       false|         false|            false|       false|            false|    false|       false|       false|        false|      false|      false|              false|          false|         false|           false|       false|          false|     false|           false|      false|        false|                false|        false|      false|     false|\n",
            "|      Alex Mercer| 14|  Male|        -|            Human|         -| -99.0|        Wildstorm|         -|      bad| -99.0|   true|               true|             false|                false|          false|     false|   true|             true| false|        true|               false|        true|          true|             false|            false|     true|       false|          true|      false|    false|       false|         true|      false|        false|          false|   true|        false|        false|    false|   false|       true|     false|                 false|              false|         false|                 false|      false|        false|           true|      false|       false|false|       false| true|       false|             false|      false|         true|               false|       true|     false|          false|  false|            false|               false|       false|     false|    false|          false|   false|           true|            false|       false|          false|       false|  false|          false|            false|         false|      true|               true|                       false|               false|                false|        false|    false|       false|       false|          false|           false|            true|     false|   false|       false|         false|         true|        false|         false|                 false|          false|      true|   true|     false|     false|                   false|          false|       false|        false|       false|     false|                    false| false|              false|          false|           true|      false|         false|    false|         false|            false|       false|     false|   false|         false|       false|     false|        false|             false|              false|                       false|            false|            false|               false|               false|         false|          false|    false|                  false|        false|false|       false|            false|         false|           false|       false|      false|               false|             false|               false|  false|       false|       false|        true|         false|            false|       false|             true|    false|       false|       false|        false|      false|      false|              false|          false|         false|            true|       false|          false|     false|           false|      false|        false|                false|        false|      false|     false|\n",
            "|     Alex Woolsly| 15|  Male|        -|                -|         -| -99.0|     NBC - Heroes|         -|     good| -99.0|  false|              false|             false|                false|          false|     false|  false|            false| false|       false|                true|       false|         false|             false|            false|    false|       false|         false|      false|    false|       false|        false|      false|        false|          false|  false|        false|        false|    false|   false|      false|     false|                 false|              false|         false|                 false|      false|        false|          false|      false|       false|false|       false|false|       false|             false|      false|        false|               false|      false|     false|          false|  false|            false|               false|       false|     false|    false|          false|   false|          false|            false|       false|          false|       false|  false|          false|            false|         false|     false|              false|                       false|               false|                false|        false|    false|       false|       false|          false|           false|           false|     false|   false|       false|         false|        false|        false|         false|                 false|          false|     false|  false|     false|     false|                   false|          false|       false|        false|       false|     false|                    false| false|              false|          false|          false|      false|         false|    false|         false|            false|       false|     false|   false|         false|       false|     false|        false|             false|              false|                       false|            false|            false|               false|               false|         false|          false|    false|                  false|        false|false|       false|            false|         false|           false|       false|      false|               false|             false|               false|  false|       false|       false|       false|         false|            false|       false|            false|    false|       false|       false|        false|      false|      false|              false|          false|         false|           false|       false|          false|     false|           false|      false|        false|                false|        false|      false|     false|\n",
            "|Alfred Pennyworth| 16|  Male|     blue|            Human|     Black| 178.0|        DC Comics|         -|     good|  72.0|   null|               null|              null|                 null|           null|      null|   null|             null|  null|        null|                null|        null|          null|              null|             null|     null|        null|          null|       null|     null|        null|         null|       null|         null|           null|   null|         null|         null|     null|    null|       null|      null|                  null|               null|          null|                  null|       null|         null|           null|       null|        null| null|        null| null|        null|              null|       null|         null|                null|       null|      null|           null|   null|             null|                null|        null|      null|     null|           null|    null|           null|             null|        null|           null|        null|   null|           null|             null|          null|      null|               null|                        null|                null|                 null|         null|     null|        null|        null|           null|            null|            null|      null|    null|        null|          null|         null|         null|          null|                  null|           null|      null|   null|      null|      null|                    null|           null|        null|         null|        null|      null|                     null|  null|               null|           null|           null|       null|          null|     null|          null|             null|        null|      null|    null|          null|        null|      null|         null|              null|               null|                        null|             null|             null|                null|                null|          null|           null|     null|                   null|         null| null|        null|             null|          null|            null|        null|       null|                null|              null|                null|   null|        null|        null|        null|          null|             null|        null|             null|     null|        null|        null|         null|       null|       null|               null|           null|          null|            null|        null|           null|      null|            null|       null|         null|                 null|         null|       null|      null|\n",
            "|            Alien| 17|  Male|        -|  Xenomorph XX121|   No Hair| 244.0|Dark Horse Comics|     black|      bad| 169.0|   true|              false|             false|                false|           true|      true|   true|            false| false|       false|               false|       false|         false|             false|            false|    false|       false|          true|      false|    false|       false|        false|      false|        false|          false|  false|        false|        false|    false|   false|       true|     false|                 false|              false|         false|                 false|      false|        false|           true|      false|       false|false|       false| true|       false|             false|      false|        false|               false|      false|     false|          false|  false|            false|               false|       false|     false|    false|          false|   false|          false|            false|       false|          false|       false|  false|          false|            false|         false|     false|               true|                       false|               false|                false|        false|    false|       false|       false|          false|           false|           false|     false|   false|       false|         false|         true|        false|         false|                 false|          false|     false|  false|     false|     false|                   false|          false|       false|        false|       false|     false|                    false| false|              false|           true|           true|      false|         false|    false|         false|            false|       false|     false|   false|         false|       false|     false|        false|             false|              false|                       false|            false|            false|               false|               false|         false|          false|    false|                  false|        false|false|       false|            false|         false|           false|       false|      false|               false|             false|               false|  false|       false|       false|        true|         false|            false|       false|            false|    false|       false|       false|        false|      false|      false|              false|          false|         false|            true|       false|          false|     false|           false|      false|        false|                false|        false|      false|     false|\n",
            "| Allan Quatermain| 18|  Male|        -|                -|         -| -99.0|        Wildstorm|         -|     good| -99.0|  false|              false|             false|                false|          false|     false|  false|            false| false|       false|               false|        true|         false|             false|            false|    false|       false|         false|      false|    false|       false|        false|      false|        false|          false|  false|        false|        false|    false|   false|      false|     false|                 false|              false|         false|                 false|      false|        false|          false|      false|       false|false|       false|false|       false|             false|      false|        false|               false|      false|     false|          false|  false|            false|               false|       false|     false|    false|          false|   false|          false|            false|       false|          false|       false|  false|          false|            false|         false|     false|              false|                       false|               false|                false|        false|    false|       false|       false|          false|           false|           false|     false|   false|       false|         false|        false|        false|         false|                 false|          false|     false|  false|     false|     false|                   false|          false|       false|        false|       false|     false|                    false| false|              false|          false|          false|      false|         false|    false|         false|            false|       false|     false|   false|         false|       false|     false|        false|             false|              false|                       false|            false|            false|               false|               false|         false|          false|    false|                  false|        false|false|       false|            false|         false|           false|       false|      false|               false|             false|               false|  false|       false|       false|       false|         false|            false|       false|            false|    false|       false|       false|        false|      false|      false|              false|          false|         false|           false|       false|          false|     false|           false|      false|        false|                false|        false|      false|     false|\n",
            "|            Amazo| 19|  Male|      red|          Android|         -| 257.0|        DC Comics|         -|      bad| 173.0|   true|              false|              true|                false|          false|      true|  false|            false|  true|       false|                true|        true|         false|              true|            false|     true|        true|          true|       true|     true|       false|         true|       true|         true|          false|   true|        false|        false|    false|   false|       true|     false|                 false|               true|         false|                 false|      false|         true|           true|      false|       false|false|       false| true|       false|             false|      false|         true|               false|      false|      true|          false|   true|            false|               false|        true|     false|    false|           true|    true|           true|             true|        true|          false|       false|  false|          false|            false|         false|     false|              false|                       false|               false|                false|        false|    false|       false|       false|          false|            true|            true|     false|   false|       false|         false|        false|        false|         false|                 false|          false|     false|  false|     false|     false|                   false|          false|       false|        false|       false|     false|                    false| false|              false|          false|          false|       true|          true|    false|         false|            false|       false|     false|   false|         false|       false|     false|         true|             false|               true|                       false|            false|            false|               false|               false|         false|          false|     true|                  false|        false|false|       false|            false|         false|           false|        true|      false|               false|             false|                true|  false|       false|        true|       false|          true|            false|       false|            false|    false|       false|       false|         true|      false|      false|              false|          false|          true|            true|       false|          false|     false|           false|      false|        false|                false|        false|      false|     false|\n",
            "+-----------------+---+------+---------+-----------------+----------+------+-----------------+----------+---------+------+-------+-------------------+------------------+---------------------+---------------+----------+-------+-----------------+------+------------+--------------------+------------+--------------+------------------+-----------------+---------+------------+--------------+-----------+---------+------------+-------------+-----------+-------------+---------------+-------+-------------+-------------+---------+--------+-----------+----------+----------------------+-------------------+--------------+----------------------+-----------+-------------+---------------+-----------+------------+-----+------------+-----+------------+------------------+-----------+-------------+--------------------+-----------+----------+---------------+-------+-----------------+--------------------+------------+----------+---------+---------------+--------+---------------+-----------------+------------+---------------+------------+-------+---------------+-----------------+--------------+----------+-------------------+----------------------------+--------------------+---------------------+-------------+---------+------------+------------+---------------+----------------+----------------+----------+--------+------------+--------------+-------------+-------------+--------------+----------------------+---------------+----------+-------+----------+----------+------------------------+---------------+------------+-------------+------------+----------+-------------------------+------+-------------------+---------------+---------------+-----------+--------------+---------+--------------+-----------------+------------+----------+--------+--------------+------------+----------+-------------+------------------+-------------------+----------------------------+-----------------+-----------------+--------------------+--------------------+--------------+---------------+---------+-----------------------+-------------+-----+------------+-----------------+--------------+----------------+------------+-----------+--------------------+------------------+--------------------+-------+------------+------------+------------+--------------+-----------------+------------+-----------------+---------+------------+------------+-------------+-----------+-----------+-------------------+---------------+--------------+----------------+------------+---------------+----------+----------------+-----------+-------------+---------------------+-------------+-----------+----------+\n",
            "only showing top 20 rows\n",
            "\n"
          ],
          "name": "stdout"
        }
      ]
    },
    {
      "cell_type": "markdown",
      "metadata": {
        "id": "EXaHFl9_gXfx",
        "colab_type": "text"
      },
      "source": [
        "# Basic Transformation"
      ]
    },
    {
      "cell_type": "markdown",
      "metadata": {
        "id": "8eND1Kk-H7R-",
        "colab_type": "text"
      },
      "source": [
        "## New conditional column"
      ]
    },
    {
      "cell_type": "markdown",
      "metadata": {
        "id": "Bs0LUgeYIJjN",
        "colab_type": "text"
      },
      "source": [
        "Due to WORM (write once read many) so normally we will not alter df, we would add with new column"
      ]
    },
    {
      "cell_type": "code",
      "metadata": {
        "id": "HR28Jg5TH6mP",
        "colab_type": "code",
        "colab": {
          "base_uri": "https://localhost:8080/",
          "height": 479
        },
        "outputId": "e168b843-3951-46f8-8cef-47310f0d3340"
      },
      "source": [
        "from pyspark.sql.functions import col, expr, when\n",
        "\n",
        "new_column = F.when(col(\"Race\")==\"-\",\"null\").otherwise(col(\"Race\"))\n",
        "\n",
        "df_test_nc = df_hero_indi.withColumn(\"clean_Race\",new_column)\n",
        "df_test_nc.show()"
      ],
      "execution_count": null,
      "outputs": [
        {
          "output_type": "stream",
          "text": [
            "+---+-----------------+------+---------+-----------------+----------+------+-----------------+----------+---------+------+-----------------+\n",
            "|_c0|             name|Gender|Eye color|             Race|Hair color|Height|        Publisher|Skin color|Alignment|Weight|       clean_Race|\n",
            "+---+-----------------+------+---------+-----------------+----------+------+-----------------+----------+---------+------+-----------------+\n",
            "|  0|           A-Bomb|  Male|   yellow|            Human|   No Hair| 203.0|    Marvel Comics|         -|     good| 441.0|            Human|\n",
            "|  1|       Abe Sapien|  Male|     blue|    Icthyo Sapien|   No Hair| 191.0|Dark Horse Comics|      blue|     good|  65.0|    Icthyo Sapien|\n",
            "|  2|         Abin Sur|  Male|     blue|          Ungaran|   No Hair| 185.0|        DC Comics|       red|     good|  90.0|          Ungaran|\n",
            "|  3|      Abomination|  Male|    green|Human / Radiation|   No Hair| 203.0|    Marvel Comics|         -|      bad| 441.0|Human / Radiation|\n",
            "|  4|          Abraxas|  Male|     blue|    Cosmic Entity|     Black| -99.0|    Marvel Comics|         -|      bad| -99.0|    Cosmic Entity|\n",
            "|  5|    Absorbing Man|  Male|     blue|            Human|   No Hair| 193.0|    Marvel Comics|         -|      bad| 122.0|            Human|\n",
            "|  6|      Adam Monroe|  Male|     blue|                -|     Blond| -99.0|     NBC - Heroes|         -|     good| -99.0|             null|\n",
            "|  7|     Adam Strange|  Male|     blue|            Human|     Blond| 185.0|        DC Comics|         -|     good|  88.0|            Human|\n",
            "|  8|         Agent 13|Female|     blue|                -|     Blond| 173.0|    Marvel Comics|         -|     good|  61.0|             null|\n",
            "|  9|        Agent Bob|  Male|    brown|            Human|     Brown| 178.0|    Marvel Comics|         -|     good|  81.0|            Human|\n",
            "| 10|       Agent Zero|  Male|        -|                -|         -| 191.0|    Marvel Comics|         -|     good| 104.0|             null|\n",
            "| 11|       Air-Walker|  Male|     blue|                -|     White| 188.0|    Marvel Comics|         -|      bad| 108.0|             null|\n",
            "| 12|             Ajax|  Male|    brown|           Cyborg|     Black| 193.0|    Marvel Comics|         -|      bad|  90.0|           Cyborg|\n",
            "| 13|       Alan Scott|  Male|     blue|                -|     Blond| 180.0|        DC Comics|         -|     good|  90.0|             null|\n",
            "| 14|      Alex Mercer|  Male|        -|            Human|         -| -99.0|        Wildstorm|         -|      bad| -99.0|            Human|\n",
            "| 15|     Alex Woolsly|  Male|        -|                -|         -| -99.0|     NBC - Heroes|         -|     good| -99.0|             null|\n",
            "| 16|Alfred Pennyworth|  Male|     blue|            Human|     Black| 178.0|        DC Comics|         -|     good|  72.0|            Human|\n",
            "| 17|            Alien|  Male|        -|  Xenomorph XX121|   No Hair| 244.0|Dark Horse Comics|     black|      bad| 169.0|  Xenomorph XX121|\n",
            "| 18| Allan Quatermain|  Male|        -|                -|         -| -99.0|        Wildstorm|         -|     good| -99.0|             null|\n",
            "| 19|            Amazo|  Male|      red|          Android|         -| 257.0|        DC Comics|         -|      bad| 173.0|          Android|\n",
            "+---+-----------------+------+---------+-----------------+----------+------+-----------------+----------+---------+------+-----------------+\n",
            "only showing top 20 rows\n",
            "\n"
          ],
          "name": "stdout"
        }
      ]
    },
    {
      "cell_type": "markdown",
      "metadata": {
        "id": "uiNUq462QN-H",
        "colab_type": "text"
      },
      "source": [
        "Apply same concept to clean null"
      ]
    },
    {
      "cell_type": "code",
      "metadata": {
        "id": "JHMJlH-5QSEn",
        "colab_type": "code",
        "colab": {
          "base_uri": "https://localhost:8080/",
          "height": 479
        },
        "outputId": "063f1fc4-2926-4702-8c87-3a6f7251f34e"
      },
      "source": [
        "from pyspark.sql.functions import col, expr, when\n",
        "\n",
        "new_column = F.when(col(\"weight\").isNull(),-99).otherwise(col(\"weight\"))\n",
        "\n",
        "df_test_nc = df_hero_indi.withColumn(\"clean_weight1\",new_column)\n",
        "df_test_nc.show()"
      ],
      "execution_count": null,
      "outputs": [
        {
          "output_type": "stream",
          "text": [
            "+---+-----------------+------+---------+-----------------+----------+------+-----------------+----------+---------+------+-------------+\n",
            "|_c0|             name|Gender|Eye color|             Race|Hair color|Height|        Publisher|Skin color|Alignment|Weight|clean_weight1|\n",
            "+---+-----------------+------+---------+-----------------+----------+------+-----------------+----------+---------+------+-------------+\n",
            "|  0|           A-Bomb|  Male|   yellow|            Human|   No Hair| 203.0|    Marvel Comics|         -|     good| 441.0|        441.0|\n",
            "|  1|       Abe Sapien|  Male|     blue|    Icthyo Sapien|   No Hair| 191.0|Dark Horse Comics|      blue|     good|  65.0|         65.0|\n",
            "|  2|         Abin Sur|  Male|     blue|          Ungaran|   No Hair| 185.0|        DC Comics|       red|     good|  90.0|         90.0|\n",
            "|  3|      Abomination|  Male|    green|Human / Radiation|   No Hair| 203.0|    Marvel Comics|         -|      bad| 441.0|        441.0|\n",
            "|  4|          Abraxas|  Male|     blue|    Cosmic Entity|     Black| -99.0|    Marvel Comics|         -|      bad| -99.0|        -99.0|\n",
            "|  5|    Absorbing Man|  Male|     blue|            Human|   No Hair| 193.0|    Marvel Comics|         -|      bad| 122.0|        122.0|\n",
            "|  6|      Adam Monroe|  Male|     blue|                -|     Blond| -99.0|     NBC - Heroes|         -|     good| -99.0|        -99.0|\n",
            "|  7|     Adam Strange|  Male|     blue|            Human|     Blond| 185.0|        DC Comics|         -|     good|  88.0|         88.0|\n",
            "|  8|         Agent 13|Female|     blue|                -|     Blond| 173.0|    Marvel Comics|         -|     good|  61.0|         61.0|\n",
            "|  9|        Agent Bob|  Male|    brown|            Human|     Brown| 178.0|    Marvel Comics|         -|     good|  81.0|         81.0|\n",
            "| 10|       Agent Zero|  Male|        -|                -|         -| 191.0|    Marvel Comics|         -|     good| 104.0|        104.0|\n",
            "| 11|       Air-Walker|  Male|     blue|                -|     White| 188.0|    Marvel Comics|         -|      bad| 108.0|        108.0|\n",
            "| 12|             Ajax|  Male|    brown|           Cyborg|     Black| 193.0|    Marvel Comics|         -|      bad|  90.0|         90.0|\n",
            "| 13|       Alan Scott|  Male|     blue|                -|     Blond| 180.0|        DC Comics|         -|     good|  90.0|         90.0|\n",
            "| 14|      Alex Mercer|  Male|        -|            Human|         -| -99.0|        Wildstorm|         -|      bad| -99.0|        -99.0|\n",
            "| 15|     Alex Woolsly|  Male|        -|                -|         -| -99.0|     NBC - Heroes|         -|     good| -99.0|        -99.0|\n",
            "| 16|Alfred Pennyworth|  Male|     blue|            Human|     Black| 178.0|        DC Comics|         -|     good|  72.0|         72.0|\n",
            "| 17|            Alien|  Male|        -|  Xenomorph XX121|   No Hair| 244.0|Dark Horse Comics|     black|      bad| 169.0|        169.0|\n",
            "| 18| Allan Quatermain|  Male|        -|                -|         -| -99.0|        Wildstorm|         -|     good| -99.0|        -99.0|\n",
            "| 19|            Amazo|  Male|      red|          Android|         -| 257.0|        DC Comics|         -|      bad| 173.0|        173.0|\n",
            "+---+-----------------+------+---------+-----------------+----------+------+-----------------+----------+---------+------+-------------+\n",
            "only showing top 20 rows\n",
            "\n"
          ],
          "name": "stdout"
        }
      ]
    },
    {
      "cell_type": "markdown",
      "metadata": {
        "id": "3Spu6hfogBFk",
        "colab_type": "text"
      },
      "source": [
        "## UDF: User defined function(s)\n",
        "Spark does not support direct calculation to each cell values so there is some reway to do calculation, in distribution mode."
      ]
    },
    {
      "cell_type": "code",
      "metadata": {
        "id": "6uvdQiE1g-t0",
        "colab_type": "code",
        "colab": {
          "base_uri": "https://localhost:8080/",
          "height": 479
        },
        "outputId": "34baac96-4d68-41af-9f12-f5ba31365d32"
      },
      "source": [
        "from pyspark.sql.types import *\n",
        "from pyspark.sql.functions import udf\n",
        "\n",
        "def lbs2kg(lbs):\n",
        "    return lbs*0.4536\n",
        "\n",
        "lbs2kg_udf = udf(lbs2kg, FloatType())\n",
        "df_test = df_hero_indi.withColumn('weight_in_kg',lbs2kg_udf(df_hero_indi[\"weight\"]))\n",
        "df_test.show()"
      ],
      "execution_count": null,
      "outputs": [
        {
          "output_type": "stream",
          "text": [
            "+---+-----------------+------+---------+-----------------+----------+------+-----------------+----------+---------+------+------------+\n",
            "|_c0|             name|Gender|Eye color|             Race|Hair color|Height|        Publisher|Skin color|Alignment|Weight|weight_in_kg|\n",
            "+---+-----------------+------+---------+-----------------+----------+------+-----------------+----------+---------+------+------------+\n",
            "|  0|           A-Bomb|  Male|   yellow|            Human|   No Hair| 203.0|    Marvel Comics|         -|     good| 441.0|    200.0376|\n",
            "|  1|       Abe Sapien|  Male|     blue|    Icthyo Sapien|   No Hair| 191.0|Dark Horse Comics|      blue|     good|  65.0|      29.484|\n",
            "|  2|         Abin Sur|  Male|     blue|          Ungaran|   No Hair| 185.0|        DC Comics|       red|     good|  90.0|      40.824|\n",
            "|  3|      Abomination|  Male|    green|Human / Radiation|   No Hair| 203.0|    Marvel Comics|         -|      bad| 441.0|    200.0376|\n",
            "|  4|          Abraxas|  Male|     blue|    Cosmic Entity|     Black| -99.0|    Marvel Comics|         -|      bad| -99.0|    -44.9064|\n",
            "|  5|    Absorbing Man|  Male|     blue|            Human|   No Hair| 193.0|    Marvel Comics|         -|      bad| 122.0|     55.3392|\n",
            "|  6|      Adam Monroe|  Male|     blue|                -|     Blond| -99.0|     NBC - Heroes|         -|     good| -99.0|    -44.9064|\n",
            "|  7|     Adam Strange|  Male|     blue|            Human|     Blond| 185.0|        DC Comics|         -|     good|  88.0|     39.9168|\n",
            "|  8|         Agent 13|Female|     blue|                -|     Blond| 173.0|    Marvel Comics|         -|     good|  61.0|     27.6696|\n",
            "|  9|        Agent Bob|  Male|    brown|            Human|     Brown| 178.0|    Marvel Comics|         -|     good|  81.0|     36.7416|\n",
            "| 10|       Agent Zero|  Male|        -|                -|         -| 191.0|    Marvel Comics|         -|     good| 104.0|     47.1744|\n",
            "| 11|       Air-Walker|  Male|     blue|                -|     White| 188.0|    Marvel Comics|         -|      bad| 108.0|     48.9888|\n",
            "| 12|             Ajax|  Male|    brown|           Cyborg|     Black| 193.0|    Marvel Comics|         -|      bad|  90.0|      40.824|\n",
            "| 13|       Alan Scott|  Male|     blue|                -|     Blond| 180.0|        DC Comics|         -|     good|  90.0|      40.824|\n",
            "| 14|      Alex Mercer|  Male|        -|            Human|         -| -99.0|        Wildstorm|         -|      bad| -99.0|    -44.9064|\n",
            "| 15|     Alex Woolsly|  Male|        -|                -|         -| -99.0|     NBC - Heroes|         -|     good| -99.0|    -44.9064|\n",
            "| 16|Alfred Pennyworth|  Male|     blue|            Human|     Black| 178.0|        DC Comics|         -|     good|  72.0|     32.6592|\n",
            "| 17|            Alien|  Male|        -|  Xenomorph XX121|   No Hair| 244.0|Dark Horse Comics|     black|      bad| 169.0|     76.6584|\n",
            "| 18| Allan Quatermain|  Male|        -|                -|         -| -99.0|        Wildstorm|         -|     good| -99.0|    -44.9064|\n",
            "| 19|            Amazo|  Male|      red|          Android|         -| 257.0|        DC Comics|         -|      bad| 173.0|     78.4728|\n",
            "+---+-----------------+------+---------+-----------------+----------+------+-----------------+----------+---------+------+------------+\n",
            "only showing top 20 rows\n",
            "\n"
          ],
          "name": "stdout"
        }
      ]
    },
    {
      "cell_type": "markdown",
      "metadata": {
        "id": "CCZJ0tqL8jp1",
        "colab_type": "text"
      },
      "source": [
        "## Binarizer"
      ]
    },
    {
      "cell_type": "code",
      "metadata": {
        "id": "I4AsqBsw7acZ",
        "colab_type": "code",
        "colab": {
          "base_uri": "https://localhost:8080/",
          "height": 479
        },
        "outputId": "95d378a7-9e87-4fe3-ba89-f4dc5413e9f9"
      },
      "source": [
        "from pyspark.ml.feature import Binarizer\n",
        "\n",
        "binarizer = Binarizer(threshold=112.25, inputCol=\"Weight\", outputCol=\"binarized_weight\")\n",
        "binarizedDataFrame = binarizer.transform(df_hero_indi)\n",
        "binarizedDataFrame.show()"
      ],
      "execution_count": null,
      "outputs": [
        {
          "output_type": "stream",
          "text": [
            "+---+-----------------+------+---------+-----------------+----------+------+-----------------+----------+---------+------+----------------+\n",
            "|_c0|             name|Gender|Eye color|             Race|Hair color|Height|        Publisher|Skin color|Alignment|Weight|binarized_weight|\n",
            "+---+-----------------+------+---------+-----------------+----------+------+-----------------+----------+---------+------+----------------+\n",
            "|  0|           A-Bomb|  Male|   yellow|            Human|   No Hair| 203.0|    Marvel Comics|         -|     good| 441.0|             1.0|\n",
            "|  1|       Abe Sapien|  Male|     blue|    Icthyo Sapien|   No Hair| 191.0|Dark Horse Comics|      blue|     good|  65.0|             0.0|\n",
            "|  2|         Abin Sur|  Male|     blue|          Ungaran|   No Hair| 185.0|        DC Comics|       red|     good|  90.0|             0.0|\n",
            "|  3|      Abomination|  Male|    green|Human / Radiation|   No Hair| 203.0|    Marvel Comics|         -|      bad| 441.0|             1.0|\n",
            "|  4|          Abraxas|  Male|     blue|    Cosmic Entity|     Black| -99.0|    Marvel Comics|         -|      bad| -99.0|             0.0|\n",
            "|  5|    Absorbing Man|  Male|     blue|            Human|   No Hair| 193.0|    Marvel Comics|         -|      bad| 122.0|             1.0|\n",
            "|  6|      Adam Monroe|  Male|     blue|                -|     Blond| -99.0|     NBC - Heroes|         -|     good| -99.0|             0.0|\n",
            "|  7|     Adam Strange|  Male|     blue|            Human|     Blond| 185.0|        DC Comics|         -|     good|  88.0|             0.0|\n",
            "|  8|         Agent 13|Female|     blue|                -|     Blond| 173.0|    Marvel Comics|         -|     good|  61.0|             0.0|\n",
            "|  9|        Agent Bob|  Male|    brown|            Human|     Brown| 178.0|    Marvel Comics|         -|     good|  81.0|             0.0|\n",
            "| 10|       Agent Zero|  Male|        -|                -|         -| 191.0|    Marvel Comics|         -|     good| 104.0|             0.0|\n",
            "| 11|       Air-Walker|  Male|     blue|                -|     White| 188.0|    Marvel Comics|         -|      bad| 108.0|             0.0|\n",
            "| 12|             Ajax|  Male|    brown|           Cyborg|     Black| 193.0|    Marvel Comics|         -|      bad|  90.0|             0.0|\n",
            "| 13|       Alan Scott|  Male|     blue|                -|     Blond| 180.0|        DC Comics|         -|     good|  90.0|             0.0|\n",
            "| 14|      Alex Mercer|  Male|        -|            Human|         -| -99.0|        Wildstorm|         -|      bad| -99.0|             0.0|\n",
            "| 15|     Alex Woolsly|  Male|        -|                -|         -| -99.0|     NBC - Heroes|         -|     good| -99.0|             0.0|\n",
            "| 16|Alfred Pennyworth|  Male|     blue|            Human|     Black| 178.0|        DC Comics|         -|     good|  72.0|             0.0|\n",
            "| 17|            Alien|  Male|        -|  Xenomorph XX121|   No Hair| 244.0|Dark Horse Comics|     black|      bad| 169.0|             1.0|\n",
            "| 18| Allan Quatermain|  Male|        -|                -|         -| -99.0|        Wildstorm|         -|     good| -99.0|             0.0|\n",
            "| 19|            Amazo|  Male|      red|          Android|         -| 257.0|        DC Comics|         -|      bad| 173.0|             1.0|\n",
            "+---+-----------------+------+---------+-----------------+----------+------+-----------------+----------+---------+------+----------------+\n",
            "only showing top 20 rows\n",
            "\n"
          ],
          "name": "stdout"
        }
      ]
    },
    {
      "cell_type": "markdown",
      "metadata": {
        "id": "fg-gTociizgU",
        "colab_type": "text"
      },
      "source": [
        "## Quatile / Percentile"
      ]
    },
    {
      "cell_type": "code",
      "metadata": {
        "id": "4MA3-T4dkQu9",
        "colab_type": "code",
        "colab": {
          "base_uri": "https://localhost:8080/",
          "height": 34
        },
        "outputId": "633c0781-0c3d-4a23-e633-af7becc39af2"
      },
      "source": [
        "bounds = {\n",
        "    c: dict(\n",
        "        zip([\"q1\", \"q3\"], df_hero_weight.approxQuantile(c, [0.25, 0.75], 0))\n",
        "    )\n",
        "    for c in df_hero_weight.columns\n",
        "}\n",
        "\n",
        "print(bounds)"
      ],
      "execution_count": null,
      "outputs": [
        {
          "output_type": "stream",
          "text": [
            "{'weight': {'q1': 61.0, 'q3': 108.0}}\n"
          ],
          "name": "stdout"
        }
      ]
    },
    {
      "cell_type": "markdown",
      "metadata": {
        "id": "SYrDRiqeyE7e",
        "colab_type": "text"
      },
      "source": [
        "Using quatile to check outlier"
      ]
    },
    {
      "cell_type": "code",
      "metadata": {
        "id": "xH-EbI5Xxrkm",
        "colab_type": "code",
        "colab": {
          "base_uri": "https://localhost:8080/",
          "height": 34
        },
        "outputId": "4a1603bd-d230-4edc-ebd2-8415e2521f96"
      },
      "source": [
        "for c in bounds:\n",
        "    iqr = bounds[c]['q3'] - bounds[c]['q1']\n",
        "    bounds[c]['lower'] = bounds[c]['q1'] - (iqr * 1.5)\n",
        "    bounds[c]['upper'] = bounds[c]['q3'] + (iqr * 1.5)\n",
        "print(bounds)"
      ],
      "execution_count": null,
      "outputs": [
        {
          "output_type": "stream",
          "text": [
            "{'weight': {'q1': 61.0, 'q3': 108.0, 'lower': -9.5, 'upper': 178.5}}\n"
          ],
          "name": "stdout"
        }
      ]
    },
    {
      "cell_type": "code",
      "metadata": {
        "id": "HwR6pRjExxXn",
        "colab_type": "code",
        "colab": {
          "base_uri": "https://localhost:8080/",
          "height": 459
        },
        "outputId": "8521a050-9f0d-4b16-a7e8-33e9e080fb5e"
      },
      "source": [
        "import pyspark.sql.functions as f\n",
        "df_hero_weight.select(\n",
        "    \"*\",\n",
        "    *[\n",
        "        f.when(\n",
        "            f.col(c).between(bounds[c]['lower'], bounds[c]['upper']),\n",
        "            0\n",
        "        ).otherwise(1).alias(c+\"_out\") \n",
        "        for c in df_hero_weight.columns\n",
        "    ]\n",
        ").show()"
      ],
      "execution_count": null,
      "outputs": [
        {
          "output_type": "stream",
          "text": [
            "+------+----------+\n",
            "|weight|weight_out|\n",
            "+------+----------+\n",
            "| 441.0|         1|\n",
            "|  65.0|         0|\n",
            "|  90.0|         0|\n",
            "| 441.0|         1|\n",
            "| 122.0|         0|\n",
            "|  88.0|         0|\n",
            "|  61.0|         0|\n",
            "|  81.0|         0|\n",
            "| 104.0|         0|\n",
            "| 108.0|         0|\n",
            "|  90.0|         0|\n",
            "|  90.0|         0|\n",
            "|  72.0|         0|\n",
            "| 169.0|         0|\n",
            "| 173.0|         0|\n",
            "| 101.0|         0|\n",
            "|  68.0|         0|\n",
            "|  57.0|         0|\n",
            "|  54.0|         0|\n",
            "|  83.0|         0|\n",
            "+------+----------+\n",
            "only showing top 20 rows\n",
            "\n"
          ],
          "name": "stdout"
        }
      ]
    },
    {
      "cell_type": "markdown",
      "metadata": {
        "id": "r75YSs3A4oHP",
        "colab_type": "text"
      },
      "source": [
        "Advanced solution for percentile / quatile"
      ]
    },
    {
      "cell_type": "code",
      "metadata": {
        "id": "36t2cq094tXv",
        "colab_type": "code",
        "colab": {}
      },
      "source": [
        "from pyspark.sql import functions as F\n",
        "from pyspark.sql.types import DoubleType\n",
        "from pyspark.sql import DataFrameStatFunctions as statFunc\n",
        "import numpy as np\n",
        "\n",
        "from pyspark.sql import Column\n",
        "from pyspark.sql.window import Window\n",
        "from pyspark.sql.functions import *\n",
        "from pyspark.sql.types import *\n",
        "import ast\n",
        "\n",
        "\n",
        "class Discretize:\n",
        "    @staticmethod\n",
        "    def threshold_index(col_val, threshold: Column, threshold_str: bool = False):\n",
        "        if threshold_str:\n",
        "            # convert list that represent as string to normal list\n",
        "            threshold = ast.literal_eval(threshold)\n",
        "        for i, val_i in enumerate(threshold):\n",
        "            current = threshold[i]\n",
        "            if i > 0:\n",
        "                previous = threshold[i - 1]\n",
        "                if col_val > previous and col_val <= current:\n",
        "                    result = int(i)\n",
        "                elif col_val > previous and col_val > current:\n",
        "                    # for threshold cutoff (extend positive limit bound)\n",
        "                    result = int(i) + 1\n",
        "            if i == 0 and col_val <= current:\n",
        "                result = int(i)\n",
        "        return result\n",
        "\n",
        "    @staticmethod\n",
        "    def human_score(x, y):\n",
        "        return (int(y) - int(x))\n",
        "\n",
        "    @staticmethod\n",
        "    def indexer(df_in, columnname, x, output_name, invert: bool = True):\n",
        "\n",
        "        threshold_index_udf = udf(Discretize.threshold_index, IntegerType())\n",
        "        human_score_udf = udf(Discretize.human_score, IntegerType())\n",
        "\n",
        "        index = list(np.linspace(1. / x, 1, x))\n",
        "        pthvalue = statFunc(df_in).approxQuantile(columnname, index, 0.0)  # get list of cutoff nth //\n",
        "        df_out = df_in.withColumn(\"pth\", array([lit(df_in) for df_in in pthvalue]))\n",
        "        df_out = df_out.withColumn('ranking', threshold_index_udf(columnname, \"pth\"))\n",
        "        if invert:\n",
        "            df_out = df_out.withColumn(\"maxpth\", lit(x))\n",
        "            df_out = df_out.withColumn(output_name, col(\"maxpth\") - col(\"ranking\")).drop(\"maxpth\")\n",
        "        else:\n",
        "            df_out = df_out.withColumn(output_name, lit(\"ranking\"))\n",
        "        df_out = df_out.drop(\"pth\")\n",
        "        return df_out"
      ],
      "execution_count": null,
      "outputs": []
    },
    {
      "cell_type": "code",
      "metadata": {
        "id": "3ALhQDbI5GgP",
        "colab_type": "code",
        "colab": {
          "base_uri": "https://localhost:8080/",
          "height": 459
        },
        "outputId": "f94eeab4-7977-4fee-a49f-c2115f37a932"
      },
      "source": [
        "output_data=Discretize.indexer(df_hero_weight,\"Weight\",100,\"Percnetile_weight\")\n",
        "output_data.show()"
      ],
      "execution_count": null,
      "outputs": [
        {
          "output_type": "stream",
          "text": [
            "+------+-------+-----------------+\n",
            "|weight|ranking|Percnetile_weight|\n",
            "+------+-------+-----------------+\n",
            "| 441.0|     97|                3|\n",
            "|  65.0|     28|               72|\n",
            "|  90.0|     59|               41|\n",
            "| 441.0|     97|                3|\n",
            "| 122.0|     79|               21|\n",
            "|  88.0|     56|               44|\n",
            "|  61.0|     23|               77|\n",
            "|  81.0|     46|               54|\n",
            "| 104.0|     72|               28|\n",
            "| 108.0|     74|               26|\n",
            "|  90.0|     59|               41|\n",
            "|  90.0|     59|               41|\n",
            "|  72.0|     34|               66|\n",
            "| 169.0|     86|               14|\n",
            "| 173.0|     87|               13|\n",
            "| 101.0|     69|               31|\n",
            "|  68.0|     30|               70|\n",
            "|  57.0|     17|               83|\n",
            "|  54.0|      9|               91|\n",
            "|  83.0|     50|               50|\n",
            "+------+-------+-----------------+\n",
            "only showing top 20 rows\n",
            "\n"
          ],
          "name": "stdout"
        }
      ]
    },
    {
      "cell_type": "markdown",
      "metadata": {
        "id": "yUQ9JABUC0DL",
        "colab_type": "text"
      },
      "source": [
        "## Numerical to categorical"
      ]
    },
    {
      "cell_type": "code",
      "metadata": {
        "id": "lJoS8CMq74j-",
        "colab_type": "code",
        "colab": {
          "base_uri": "https://localhost:8080/",
          "height": 255
        },
        "outputId": "7798f2b6-e96b-4ee5-83fd-6e6cd0494cb9"
      },
      "source": [
        "from pyspark.sql import functions as F\n",
        "from pyspark.sql.window import Window\n",
        "\n",
        "lookup = spark.createDataFrame(\n",
        "    [(-100.0,0.000,\"NA\"),\n",
        "     (0.001,50.00,\"0-50 Lbs\"),\n",
        "     (50.00,100.00,\"51-100 Lbs\"),\n",
        "     (100.00,200.00,\"101-200 Lbs\"),\n",
        "     (200.00,300.00,\"201-300 Lbs\"),\n",
        "     (300.00,400.00,\"301-400 Lbs\"),\n",
        "     (400.00,500.00,\"401-500 Lbs\"),\n",
        "     (500.00,600.00,\"501-600 Lbs\"),\n",
        "     (600.00,1000.00,\"600+ Lbs\")],\n",
        "    (\"b\",\"t\",\"weight_grp\"))\n",
        "    \n",
        "df_test_grp = df_hero_indi\\\n",
        "    .join(lookup,[F.col(\"weight\")>=F.col(\"b\"),F.col(\"weight\") < F.col(\"t\")],\"leftouter\")\n",
        "  \n",
        "df_test_grp.groupby(\"weight_grp\").count().orderBy(\"weight_grp\").show()"
      ],
      "execution_count": null,
      "outputs": [
        {
          "output_type": "stream",
          "text": [
            "+-----------+-----+\n",
            "| weight_grp|count|\n",
            "+-----------+-----+\n",
            "|       null|    2|\n",
            "|   0-50 Lbs|   19|\n",
            "|101-200 Lbs|   98|\n",
            "|201-300 Lbs|   23|\n",
            "|301-400 Lbs|   13|\n",
            "|401-500 Lbs|    9|\n",
            "| 51-100 Lbs|  327|\n",
            "|   600+ Lbs|    6|\n",
            "|         NA|  237|\n",
            "+-----------+-----+\n",
            "\n"
          ],
          "name": "stdout"
        }
      ]
    },
    {
      "cell_type": "code",
      "metadata": {
        "id": "6xjlDLmtSt8O",
        "colab_type": "code",
        "colab": {
          "base_uri": "https://localhost:8080/",
          "height": 238
        },
        "outputId": "543a2455-6636-4bf4-d9e6-653c5e6e2970"
      },
      "source": [
        "df_test_grp2 = df_test_nc\\\n",
        "    .join(lookup,[F.col(\"clean_weight1\")>=F.col(\"b\"),F.col(\"clean_weight1\") < F.col(\"t\")],\"leftouter\")\n",
        "  \n",
        "df_test_grp2.groupby(\"weight_grp\").count().orderBy(\"weight_grp\").show()"
      ],
      "execution_count": null,
      "outputs": [
        {
          "output_type": "stream",
          "text": [
            "+-----------+-----+\n",
            "| weight_grp|count|\n",
            "+-----------+-----+\n",
            "|   0-50 Lbs|   19|\n",
            "|101-200 Lbs|   98|\n",
            "|201-300 Lbs|   23|\n",
            "|301-400 Lbs|   13|\n",
            "|401-500 Lbs|    9|\n",
            "| 51-100 Lbs|  327|\n",
            "|   600+ Lbs|    6|\n",
            "|         NA|  239|\n",
            "+-----------+-----+\n",
            "\n"
          ],
          "name": "stdout"
        }
      ]
    },
    {
      "cell_type": "markdown",
      "metadata": {
        "id": "3K1IuPZd2qhI",
        "colab_type": "text"
      },
      "source": [
        "## Standardization"
      ]
    },
    {
      "cell_type": "code",
      "metadata": {
        "id": "w4mpJIR320_J",
        "colab_type": "code",
        "colab": {}
      },
      "source": [
        "from pyspark.mllib.util import MLUtils\n",
        "from pyspark.ml.feature import StandardScaler\n",
        "\n",
        "scaler = StandardScaler(inputCol=\"Weight\", outputCol=\"scaled_weight\",\n",
        "                        withStd=True, withMean=False)\n",
        "\n",
        "# Compute summary statistics by fitting the StandardScaler\n",
        "scalerModel = scaler.fit(df_hero_indi)\n",
        "\n",
        "# Normalize each feature to have unit standard deviation.\n",
        "scaledData = scalerModel.transform(df_hero_indi)\n",
        "scaledData.show()"
      ],
      "execution_count": null,
      "outputs": []
    },
    {
      "cell_type": "markdown",
      "metadata": {
        "id": "eSXErnlI37uO",
        "colab_type": "text"
      },
      "source": [
        "More reading: https://spark.apache.org/docs/1.4.1/ml-features.html"
      ]
    },
    {
      "cell_type": "markdown",
      "metadata": {
        "id": "kfH1jH8jh-P4",
        "colab_type": "text"
      },
      "source": [
        "#Lab"
      ]
    },
    {
      "cell_type": "markdown",
      "metadata": {
        "id": "1QJAWj9NfL4F",
        "colab_type": "text"
      },
      "source": [
        "Try to utilize spark as much as possible"
      ]
    },
    {
      "cell_type": "markdown",
      "metadata": {
        "id": "9sPpi8-LbYR7",
        "colab_type": "text"
      },
      "source": [
        "## Ingest data"
      ]
    },
    {
      "cell_type": "markdown",
      "metadata": {
        "id": "g4Wg3WpmUXpu",
        "colab_type": "text"
      },
      "source": [
        "Data set: [here](https://www.kaggle.com/mashlyn/online-retail-ii-uci)"
      ]
    },
    {
      "cell_type": "code",
      "metadata": {
        "id": "6M4nrPN5_Z1W",
        "colab_type": "code",
        "colab": {
          "base_uri": "https://localhost:8080/",
          "height": 173
        },
        "outputId": "d8d549cc-6963-4240-a559-d8db1e4fe61f"
      },
      "source": [
        "from google.colab import drive\n",
        "drive.mount('/content/gdrive')\n",
        "\n",
        "import os\n",
        "os.environ['KAGGLE_CONFIG_DIR'] = \"/content/gdrive/My Drive/Kaggle\"\n",
        "\n",
        "#Adding API code here\n",
        "!kaggle datasets download -d mashlyn/online-retail-ii-uci"
      ],
      "execution_count": 3,
      "outputs": [
        {
          "output_type": "stream",
          "text": [
            "Go to this URL in a browser: https://accounts.google.com/o/oauth2/auth?client_id=947318989803-6bn6qk8qdgf4n4g3pfee6491hc0brc4i.apps.googleusercontent.com&redirect_uri=urn%3aietf%3awg%3aoauth%3a2.0%3aoob&scope=email%20https%3a%2f%2fwww.googleapis.com%2fauth%2fdocs.test%20https%3a%2f%2fwww.googleapis.com%2fauth%2fdrive%20https%3a%2f%2fwww.googleapis.com%2fauth%2fdrive.photos.readonly%20https%3a%2f%2fwww.googleapis.com%2fauth%2fpeopleapi.readonly&response_type=code\n",
            "\n",
            "Enter your authorization code:\n",
            "··········\n",
            "Mounted at /content/gdrive\n",
            "Downloading online-retail-ii-uci.zip to /content\n",
            " 62% 9.00M/14.5M [00:01<00:01, 5.26MB/s]\n",
            "100% 14.5M/14.5M [00:01<00:00, 10.0MB/s]\n"
          ],
          "name": "stdout"
        }
      ]
    },
    {
      "cell_type": "code",
      "metadata": {
        "id": "9fOHy7a538P7",
        "colab_type": "code",
        "colab": {
          "base_uri": "https://localhost:8080/",
          "height": 51
        },
        "outputId": "4e67ca14-616c-40f5-c0d5-0265f54cb7be"
      },
      "source": [
        "!unzip /content/online-retail-ii-uci.zip && rm /content/online-retail-ii-uci.zip"
      ],
      "execution_count": 4,
      "outputs": [
        {
          "output_type": "stream",
          "text": [
            "Archive:  /content/online-retail-ii-uci.zip\n",
            "  inflating: online_retail_II.csv    \n"
          ],
          "name": "stdout"
        }
      ]
    },
    {
      "cell_type": "markdown",
      "metadata": {
        "id": "nvrbcfIXbSt7",
        "colab_type": "text"
      },
      "source": [
        "## Data Description\n",
        "\n",
        "This Online Retail II data set contains all the transactions occurring for a UK-based and registered, \n",
        "non-store online retail between 01/12/2009 and 09/12/2011. The company mainly sells unique all-occasion gift-ware. \n",
        "Many customers of the company are wholesalers.\n",
        "\n",
        "Attribute Information:\n",
        "\n",
        "- InvoiceNo: Invoice number. Nominal. A 6-digit integral number uniquely assigned to each transaction. If this code starts with the letter 'c', it indicates a cancellation.\n",
        "- StockCode: Product (item) code. Nominal. A 5-digit integral number uniquely assigned to each distinct product.\n",
        "- Description: Product (item) name. Nominal.\n",
        "- Quantity: The quantities of each product (item) per transaction. Numeric.\n",
        "- InvoiceDate: Invice date and time. Numeric. The day and time when a transaction was generated.\n",
        "- UnitPrice: Unit price. Numeric. Product price per unit in sterling (Â£).\n",
        "- CustomerID: Customer number. Nominal. A 5-digit integral number uniquely assigned to each customer.\n",
        "- Country: Country name. Nominal. The name of the country where a customer resides."
      ]
    },
    {
      "cell_type": "markdown",
      "metadata": {
        "id": "z1YoN645USbk",
        "colab_type": "text"
      },
      "source": [
        "### 1. Explore the Data: Check NULL values, Check for outliers, and highlight\n",
        "\n"
      ]
    },
    {
      "cell_type": "code",
      "metadata": {
        "id": "T9aI9lEFUKen",
        "colab_type": "code",
        "colab": {
          "base_uri": "https://localhost:8080/",
          "height": 459
        },
        "outputId": "7b3302f3-02af-43d5-ade0-4754b6d77c61"
      },
      "source": [
        "#code here\n",
        "file_path = \"/content/online_retail_II.csv\"\n",
        "\n",
        "df_retail = spark.read.options(header=\"true\",inferschema = \"true\").csv(file_path)\n",
        "\n",
        "df_retail.show()"
      ],
      "execution_count": 5,
      "outputs": [
        {
          "output_type": "stream",
          "text": [
            "+-------+---------+--------------------+--------+-------------------+-----+-----------+--------------+\n",
            "|Invoice|StockCode|         Description|Quantity|        InvoiceDate|Price|Customer ID|       Country|\n",
            "+-------+---------+--------------------+--------+-------------------+-----+-----------+--------------+\n",
            "| 489434|    85048|15CM CHRISTMAS GL...|      12|2009-12-01 07:45:00| 6.95|    13085.0|United Kingdom|\n",
            "| 489434|   79323P|  PINK CHERRY LIGHTS|      12|2009-12-01 07:45:00| 6.75|    13085.0|United Kingdom|\n",
            "| 489434|   79323W| WHITE CHERRY LIGHTS|      12|2009-12-01 07:45:00| 6.75|    13085.0|United Kingdom|\n",
            "| 489434|    22041|\"RECORD FRAME 7\"\"...|      48|2009-12-01 07:45:00|  2.1|    13085.0|United Kingdom|\n",
            "| 489434|    21232|STRAWBERRY CERAMI...|      24|2009-12-01 07:45:00| 1.25|    13085.0|United Kingdom|\n",
            "| 489434|    22064|PINK DOUGHNUT TRI...|      24|2009-12-01 07:45:00| 1.65|    13085.0|United Kingdom|\n",
            "| 489434|    21871| SAVE THE PLANET MUG|      24|2009-12-01 07:45:00| 1.25|    13085.0|United Kingdom|\n",
            "| 489434|    21523|FANCY FONT HOME S...|      10|2009-12-01 07:45:00| 5.95|    13085.0|United Kingdom|\n",
            "| 489435|    22350|           CAT BOWL |      12|2009-12-01 07:46:00| 2.55|    13085.0|United Kingdom|\n",
            "| 489435|    22349|DOG BOWL , CHASIN...|      12|2009-12-01 07:46:00| 3.75|    13085.0|United Kingdom|\n",
            "| 489435|    22195|HEART MEASURING S...|      24|2009-12-01 07:46:00| 1.65|    13085.0|United Kingdom|\n",
            "| 489435|    22353|LUNCHBOX WITH CUT...|      12|2009-12-01 07:46:00| 2.55|    13085.0|United Kingdom|\n",
            "| 489436|   48173C|DOOR MAT BLACK FL...|      10|2009-12-01 09:06:00| 5.95|    13078.0|United Kingdom|\n",
            "| 489436|    21755|LOVE BUILDING BLO...|      18|2009-12-01 09:06:00| 5.45|    13078.0|United Kingdom|\n",
            "| 489436|    21754|HOME BUILDING BLO...|       3|2009-12-01 09:06:00| 5.95|    13078.0|United Kingdom|\n",
            "| 489436|    84879|ASSORTED COLOUR B...|      16|2009-12-01 09:06:00| 1.69|    13078.0|United Kingdom|\n",
            "| 489436|    22119| PEACE WOODEN BLO...|       3|2009-12-01 09:06:00| 6.95|    13078.0|United Kingdom|\n",
            "| 489436|    22142|CHRISTMAS CRAFT W...|      12|2009-12-01 09:06:00| 1.45|    13078.0|United Kingdom|\n",
            "| 489436|    22296|HEART IVORY TRELL...|      12|2009-12-01 09:06:00| 1.65|    13078.0|United Kingdom|\n",
            "| 489436|    22295|HEART FILIGREE DO...|      12|2009-12-01 09:06:00| 1.65|    13078.0|United Kingdom|\n",
            "+-------+---------+--------------------+--------+-------------------+-----+-----------+--------------+\n",
            "only showing top 20 rows\n",
            "\n"
          ],
          "name": "stdout"
        }
      ]
    },
    {
      "cell_type": "code",
      "metadata": {
        "id": "LglAwAFJ4ubY",
        "colab_type": "code",
        "colab": {
          "base_uri": "https://localhost:8080/",
          "height": 119
        },
        "outputId": "f53edac4-a88e-4463-f3b6-fc878b1af15a"
      },
      "source": [
        "from pyspark.sql.functions import isnan, when, count, col\n",
        "\n",
        "df_retail.select([count(when(isnan(c), c)).alias(c) for c in df_retail.columns]).show()"
      ],
      "execution_count": 12,
      "outputs": [
        {
          "output_type": "stream",
          "text": [
            "+-------+---------+-----------+--------+-----------+-----+-----------+-------+\n",
            "|Invoice|StockCode|Description|Quantity|InvoiceDate|Price|Customer ID|Country|\n",
            "+-------+---------+-----------+--------+-----------+-----+-----------+-------+\n",
            "|      0|        0|          0|       0|          0|    0|          0|      0|\n",
            "+-------+---------+-----------+--------+-----------+-----+-----------+-------+\n",
            "\n"
          ],
          "name": "stdout"
        }
      ]
    },
    {
      "cell_type": "code",
      "metadata": {
        "id": "I9GIcBpy5ZNf",
        "colab_type": "code",
        "colab": {
          "base_uri": "https://localhost:8080/",
          "height": 119
        },
        "outputId": "a120dcbb-d234-4f37-f6df-8cc0c78aff08"
      },
      "source": [
        "df_retail.select([count(when(isnan(c) | col(c).isNull(), c)).alias(c) for c in df_retail.columns]).show()"
      ],
      "execution_count": 13,
      "outputs": [
        {
          "output_type": "stream",
          "text": [
            "+-------+---------+-----------+--------+-----------+-----+-----------+-------+\n",
            "|Invoice|StockCode|Description|Quantity|InvoiceDate|Price|Customer ID|Country|\n",
            "+-------+---------+-----------+--------+-----------+-----+-----------+-------+\n",
            "|      0|        0|       4382|       0|          0|    0|     243007|      0|\n",
            "+-------+---------+-----------+--------+-----------+-----+-----------+-------+\n",
            "\n"
          ],
          "name": "stdout"
        }
      ]
    },
    {
      "cell_type": "markdown",
      "metadata": {
        "id": "PgXtwt7JdkVu",
        "colab_type": "text"
      },
      "source": [
        "## For all questions, assume the current date is 10/12/2011"
      ]
    },
    {
      "cell_type": "markdown",
      "metadata": {
        "id": "R9g7xbaTdX4Y",
        "colab_type": "text"
      },
      "source": [
        "### 2. Find an average basket size of customer in each country in the year 2010\n",
        "\n",
        "#### Basket size = Total Sales Amount / Total Number of Invoices\n",
        "\n",
        "Hint: df.select(to_date(df.STRING_COLUMN).alias('new_date')).show()\n",
        "\n"
      ]
    },
    {
      "cell_type": "code",
      "metadata": {
        "id": "ZuFzPpNjeQnc",
        "colab_type": "code",
        "colab": {
          "base_uri": "https://localhost:8080/",
          "height": 459
        },
        "outputId": "fe50457b-c415-4b77-8606-4d817bd62a40"
      },
      "source": [
        "from pyspark.sql.functions import *\n",
        "\n",
        "df_retail=df_retail.withColumn(\"date\",to_date(df_retail.InvoiceDate))\\\n",
        "  .withColumn(\"Year\",year(df_retail.InvoiceDate))\\\n",
        "  .withColumn(\"Month\",month(df_retail.InvoiceDate))\\\n",
        "  .withColumn(\"Day\",dayofmonth(df_retail.InvoiceDate))\\\n",
        "  .withColumn(\"Week_number\",weekofyear(df_retail.InvoiceDate))\\\n",
        "  .withColumn(\"totalSales\",bround(df_retail.Quantity*df_retail.Price,2))\n",
        "  \n",
        "df_retail.show()\n",
        "\n"
      ],
      "execution_count": 19,
      "outputs": [
        {
          "output_type": "stream",
          "text": [
            "+-------+---------+--------------------+--------+-------------------+-----+-----------+--------------+----------+----+-----+---+----------+-----------+\n",
            "|Invoice|StockCode|         Description|Quantity|        InvoiceDate|Price|Customer ID|       Country|      date|Year|Month|Day|totalSales|Week_number|\n",
            "+-------+---------+--------------------+--------+-------------------+-----+-----------+--------------+----------+----+-----+---+----------+-----------+\n",
            "| 489434|    85048|15CM CHRISTMAS GL...|      12|2009-12-01 07:45:00| 6.95|    13085.0|United Kingdom|2009-12-01|2009|   12|  1|      83.4|         49|\n",
            "| 489434|   79323P|  PINK CHERRY LIGHTS|      12|2009-12-01 07:45:00| 6.75|    13085.0|United Kingdom|2009-12-01|2009|   12|  1|      81.0|         49|\n",
            "| 489434|   79323W| WHITE CHERRY LIGHTS|      12|2009-12-01 07:45:00| 6.75|    13085.0|United Kingdom|2009-12-01|2009|   12|  1|      81.0|         49|\n",
            "| 489434|    22041|\"RECORD FRAME 7\"\"...|      48|2009-12-01 07:45:00|  2.1|    13085.0|United Kingdom|2009-12-01|2009|   12|  1|     100.8|         49|\n",
            "| 489434|    21232|STRAWBERRY CERAMI...|      24|2009-12-01 07:45:00| 1.25|    13085.0|United Kingdom|2009-12-01|2009|   12|  1|      30.0|         49|\n",
            "| 489434|    22064|PINK DOUGHNUT TRI...|      24|2009-12-01 07:45:00| 1.65|    13085.0|United Kingdom|2009-12-01|2009|   12|  1|      39.6|         49|\n",
            "| 489434|    21871| SAVE THE PLANET MUG|      24|2009-12-01 07:45:00| 1.25|    13085.0|United Kingdom|2009-12-01|2009|   12|  1|      30.0|         49|\n",
            "| 489434|    21523|FANCY FONT HOME S...|      10|2009-12-01 07:45:00| 5.95|    13085.0|United Kingdom|2009-12-01|2009|   12|  1|      59.5|         49|\n",
            "| 489435|    22350|           CAT BOWL |      12|2009-12-01 07:46:00| 2.55|    13085.0|United Kingdom|2009-12-01|2009|   12|  1|      30.6|         49|\n",
            "| 489435|    22349|DOG BOWL , CHASIN...|      12|2009-12-01 07:46:00| 3.75|    13085.0|United Kingdom|2009-12-01|2009|   12|  1|      45.0|         49|\n",
            "| 489435|    22195|HEART MEASURING S...|      24|2009-12-01 07:46:00| 1.65|    13085.0|United Kingdom|2009-12-01|2009|   12|  1|      39.6|         49|\n",
            "| 489435|    22353|LUNCHBOX WITH CUT...|      12|2009-12-01 07:46:00| 2.55|    13085.0|United Kingdom|2009-12-01|2009|   12|  1|      30.6|         49|\n",
            "| 489436|   48173C|DOOR MAT BLACK FL...|      10|2009-12-01 09:06:00| 5.95|    13078.0|United Kingdom|2009-12-01|2009|   12|  1|      59.5|         49|\n",
            "| 489436|    21755|LOVE BUILDING BLO...|      18|2009-12-01 09:06:00| 5.45|    13078.0|United Kingdom|2009-12-01|2009|   12|  1|      98.1|         49|\n",
            "| 489436|    21754|HOME BUILDING BLO...|       3|2009-12-01 09:06:00| 5.95|    13078.0|United Kingdom|2009-12-01|2009|   12|  1|     17.85|         49|\n",
            "| 489436|    84879|ASSORTED COLOUR B...|      16|2009-12-01 09:06:00| 1.69|    13078.0|United Kingdom|2009-12-01|2009|   12|  1|     27.04|         49|\n",
            "| 489436|    22119| PEACE WOODEN BLO...|       3|2009-12-01 09:06:00| 6.95|    13078.0|United Kingdom|2009-12-01|2009|   12|  1|     20.85|         49|\n",
            "| 489436|    22142|CHRISTMAS CRAFT W...|      12|2009-12-01 09:06:00| 1.45|    13078.0|United Kingdom|2009-12-01|2009|   12|  1|      17.4|         49|\n",
            "| 489436|    22296|HEART IVORY TRELL...|      12|2009-12-01 09:06:00| 1.65|    13078.0|United Kingdom|2009-12-01|2009|   12|  1|      19.8|         49|\n",
            "| 489436|    22295|HEART FILIGREE DO...|      12|2009-12-01 09:06:00| 1.65|    13078.0|United Kingdom|2009-12-01|2009|   12|  1|      19.8|         49|\n",
            "+-------+---------+--------------------+--------+-------------------+-----+-----------+--------------+----------+----+-----+---+----------+-----------+\n",
            "only showing top 20 rows\n",
            "\n"
          ],
          "name": "stdout"
        }
      ]
    },
    {
      "cell_type": "code",
      "metadata": {
        "id": "z54ySjEf__j0",
        "colab_type": "code",
        "colab": {
          "base_uri": "https://localhost:8080/",
          "height": 459
        },
        "outputId": "7d2bfaa9-2c5c-4822-cbc9-802e122bc244"
      },
      "source": [
        "df_retail_2010 = df_retail.filter(df_retail.Year==2010)\n",
        "\n",
        "df_retail_2010.show()"
      ],
      "execution_count": 37,
      "outputs": [
        {
          "output_type": "stream",
          "text": [
            "+-------+---------+--------------------+--------+-------------------+-----+-----------+--------------+----------+----+-----+---+----------+\n",
            "|Invoice|StockCode|         Description|Quantity|        InvoiceDate|Price|Customer ID|       Country|      date|Year|Month|Day|totalSales|\n",
            "+-------+---------+--------------------+--------+-------------------+-----+-----------+--------------+----------+----+-----+---+----------+\n",
            "| 493410|  TEST001|This is a test pr...|       5|2010-01-04 09:24:00|  4.5|    12346.0|United Kingdom|2010-01-04|2010|    1|  4|      22.5|\n",
            "|C493411|    21539|RETRO SPOTS BUTTE...|      -1|2010-01-04 09:43:00| 4.25|    14590.0|United Kingdom|2010-01-04|2010|    1|  4|     -4.25|\n",
            "| 493412|  TEST001|This is a test pr...|       5|2010-01-04 09:53:00|  4.5|    12346.0|United Kingdom|2010-01-04|2010|    1|  4|      22.5|\n",
            "| 493413|    21724|PANDA AND BUNNIES...|       1|2010-01-04 09:54:00| 0.85|       null|United Kingdom|2010-01-04|2010|    1|  4|      0.85|\n",
            "| 493413|    84578|ELEPHANT TOY WITH...|       1|2010-01-04 09:54:00| 3.75|       null|United Kingdom|2010-01-04|2010|    1|  4|      3.75|\n",
            "| 493413|    21723|ALPHABET HEARTS S...|       1|2010-01-04 09:54:00| 0.85|       null|United Kingdom|2010-01-04|2010|    1|  4|      0.85|\n",
            "| 493414|    21844|      RETRO SPOT MUG|      36|2010-01-04 10:28:00| 2.55|    14590.0|United Kingdom|2010-01-04|2010|    1|  4|      91.8|\n",
            "| 493414|    21533|RETRO SPOT LARGE ...|      12|2010-01-04 10:28:00| 4.25|    14590.0|United Kingdom|2010-01-04|2010|    1|  4|      51.0|\n",
            "| 493414|    37508|NEW ENGLAND CERAM...|       2|2010-01-04 10:28:00| 2.55|    14590.0|United Kingdom|2010-01-04|2010|    1|  4|       5.1|\n",
            "| 493414|   35001G|HAND OPEN SHAPE GOLD|       2|2010-01-04 10:28:00| 4.25|    14590.0|United Kingdom|2010-01-04|2010|    1|  4|       8.5|\n",
            "| 493414|    21527|RETRO SPOT TRADIT...|      12|2010-01-04 10:28:00| 6.95|    14590.0|United Kingdom|2010-01-04|2010|    1|  4|      83.4|\n",
            "| 493414|    21531|RETRO SPOT SUGAR ...|      24|2010-01-04 10:28:00|  2.1|    14590.0|United Kingdom|2010-01-04|2010|    1|  4|      50.4|\n",
            "|C493415|    21527|RETRO SPOT TRADIT...|      -3|2010-01-04 10:33:00| 7.95|    14590.0|United Kingdom|2010-01-04|2010|    1|  4|    -23.85|\n",
            "|C493426|    22109|FULL ENGLISH BREA...|      -1|2010-01-04 10:41:00| 3.39|    16550.0|United Kingdom|2010-01-04|2010|    1|  4|     -3.39|\n",
            "| 493427|    82483|WOOD 2 DRAWER CAB...|       4|2010-01-04 10:43:00| 5.95|    13287.0|United Kingdom|2010-01-04|2010|    1|  4|      23.8|\n",
            "| 493427|    21681|GIANT MEDINA STAM...|       2|2010-01-04 10:43:00| 9.95|    13287.0|United Kingdom|2010-01-04|2010|    1|  4|      19.9|\n",
            "| 493427|    21682|LARGE MEDINA STAM...|       4|2010-01-04 10:43:00| 4.95|    13287.0|United Kingdom|2010-01-04|2010|    1|  4|      19.8|\n",
            "| 493427|   18096C|WHITE ROUND PORCE...|       6|2010-01-04 10:43:00| 2.55|    13287.0|United Kingdom|2010-01-04|2010|    1|  4|      15.3|\n",
            "| 493427|    21577|SAVE THE PLANET C...|       6|2010-01-04 10:43:00| 2.25|    13287.0|United Kingdom|2010-01-04|2010|    1|  4|      13.5|\n",
            "| 493427|    21576|LETS GO SHOPPING ...|       6|2010-01-04 10:43:00| 2.25|    13287.0|United Kingdom|2010-01-04|2010|    1|  4|      13.5|\n",
            "+-------+---------+--------------------+--------+-------------------+-----+-----------+--------------+----------+----+-----+---+----------+\n",
            "only showing top 20 rows\n",
            "\n"
          ],
          "name": "stdout"
        }
      ]
    },
    {
      "cell_type": "code",
      "metadata": {
        "id": "-B4e4HQBASPf",
        "colab_type": "code",
        "colab": {
          "base_uri": "https://localhost:8080/",
          "height": 459
        },
        "outputId": "7c6800ff-77d5-44bb-b639-f313cefb9572"
      },
      "source": [
        "customer_2010 = df_retail_2010.groupBy(\"Customer ID\",\"Country\").agg(sum('totalSales').alias('totalSales'),countDistinct('Invoice').alias('Invoice'))\n",
        "customer_2010 = customer_2010.withColumn(\"Basket_size\",bround(customer_2010.totalSales/customer_2010.Invoice,2))\n",
        "\n",
        "customer_2010.show()"
      ],
      "execution_count": 45,
      "outputs": [
        {
          "output_type": "stream",
          "text": [
            "+-----------+--------------+------------------+-------+-----------+\n",
            "|Customer ID|       Country|        totalSales|Invoice|Basket_size|\n",
            "+-----------+--------------+------------------+-------+-----------+\n",
            "|    15224.0|United Kingdom|            837.26|      8|     104.66|\n",
            "|    17428.0|United Kingdom|11848.940000000002|     16|     740.56|\n",
            "|    17268.0|United Kingdom|            814.55|      6|     135.76|\n",
            "|    12720.0|       Germany|           2973.73|     15|     198.25|\n",
            "|    18075.0|United Kingdom|           3229.59|     19|     169.98|\n",
            "|    13557.0|United Kingdom|1982.5199999999998|     12|     165.21|\n",
            "|    13818.0|United Kingdom|             61.28|      1|      61.28|\n",
            "|    15140.0|United Kingdom|            889.44|      1|     889.44|\n",
            "|    14623.0|United Kingdom|           1161.48|      6|     193.58|\n",
            "|    15603.0|United Kingdom|             26.25|      2|      13.12|\n",
            "|    17960.0|United Kingdom|61.300000000000004|      2|      30.65|\n",
            "|    14947.0|United Kingdom|            758.97|      4|     189.74|\n",
            "|    14312.0|United Kingdom|1478.7000000000003|      5|     295.74|\n",
            "|    14216.0|United Kingdom|303.09000000000003|      2|     151.55|\n",
            "|    16531.0|United Kingdom|           1111.81|      6|      185.3|\n",
            "|    17723.0|United Kingdom|             102.0|      1|      102.0|\n",
            "|    16737.0|United Kingdom|             417.6|      1|      417.6|\n",
            "|    17629.0|United Kingdom|            880.05|      3|     293.35|\n",
            "|    14398.0|United Kingdom| 707.7900000000002|      2|      353.9|\n",
            "|    15370.0|United Kingdom|1352.9600000000003|      1|    1352.96|\n",
            "+-----------+--------------+------------------+-------+-----------+\n",
            "only showing top 20 rows\n",
            "\n"
          ],
          "name": "stdout"
        }
      ]
    },
    {
      "cell_type": "code",
      "metadata": {
        "id": "d1Raj77XegSl",
        "colab_type": "code",
        "colab": {
          "base_uri": "https://localhost:8080/",
          "height": 782
        },
        "outputId": "3f323ffe-0a89-454f-ba05-2e183661895d"
      },
      "source": [
        "temp = customer_2010.groupBy(\"Country\").agg(avg(\"Basket_size\").alias(\"Basket_size\"))\n",
        "temp.sort(temp.Basket_size.desc()).show(50)"
      ],
      "execution_count": 55,
      "outputs": [
        {
          "output_type": "stream",
          "text": [
            "+--------------------+------------------+\n",
            "|             Country|       Basket_size|\n",
            "+--------------------+------------------+\n",
            "|            Thailand|           1535.27|\n",
            "|             Bermuda|           1253.14|\n",
            "|             Denmark|1251.3477777777778|\n",
            "|              Israel|1230.7350000000001|\n",
            "|           Lithuania|           1092.29|\n",
            "|         Switzerland|1052.7164285714287|\n",
            "|             Iceland|           1017.55|\n",
            "|           Singapore|           1009.44|\n",
            "|              Greece|            1003.3|\n",
            "|               Japan| 996.8785714285715|\n",
            "|                 RSA|            704.93|\n",
            "|              Norway|          703.1875|\n",
            "|           Hong Kong|            653.71|\n",
            "|                EIRE| 613.4716666666667|\n",
            "|              Canada|            608.33|\n",
            "|              Cyprus|         582.83875|\n",
            "|United Arab Emirates|          579.3025|\n",
            "|              Sweden|        549.349375|\n",
            "|         West Indies|            536.41|\n",
            "|               Korea|            474.91|\n",
            "|             Germany| 469.6037142857143|\n",
            "|           Australia|458.17199999999997|\n",
            "|         Netherlands|449.32608695652175|\n",
            "|               Malta|            447.79|\n",
            "|               Italy| 439.0458333333333|\n",
            "|     Channel Islands|433.21583333333336|\n",
            "|              France| 415.9418749999999|\n",
            "|            Portugal| 387.0747368421054|\n",
            "|             Austria| 386.0000000000001|\n",
            "|             Belgium| 383.8788235294119|\n",
            "|               Spain| 375.5400000000001|\n",
            "|             Finland|         352.39125|\n",
            "|             Bahrain|350.22333333333336|\n",
            "|      United Kingdom| 283.5437706165947|\n",
            "|              Brazil|            268.27|\n",
            "|         Unspecified|            253.29|\n",
            "|                 USA|           219.844|\n",
            "|              Poland|           211.825|\n",
            "|             Lebanon|             86.02|\n",
            "|             Nigeria|              70.2|\n",
            "+--------------------+------------------+\n",
            "\n"
          ],
          "name": "stdout"
        }
      ]
    },
    {
      "cell_type": "markdown",
      "metadata": {
        "id": "gX8T0Y6aeaW5",
        "colab_type": "text"
      },
      "source": [
        "###  3. Does the basket size in each country change over time? Which country has the highest growth in terms of both sales amount and basket size in the past 6 months?"
      ]
    },
    {
      "cell_type": "code",
      "metadata": {
        "id": "ZMfJ43V6Ep5E",
        "colab_type": "code",
        "colab": {
          "base_uri": "https://localhost:8080/",
          "height": 459
        },
        "outputId": "239620bc-9d07-421e-cfdf-633296eb8e29"
      },
      "source": [
        "customer_profile = df_retail.groupBy(\"Customer ID\",\"Country\",\"Year\",\"Month\")\\\n",
        "  .agg(sum('totalSales').alias('totalSales'),countDistinct('Invoice').alias('Invoice'))\n",
        "customer_profile = customer_profile.withColumn(\"Basket_size\",bround(customer_profile.totalSales/customer_profile.Invoice,2))\n",
        "customer_profile = customer_profile.groupBy(\"Year\",\"Month\",\"Country\")\\\n",
        "  .agg(avg('Basket_size').alias('Basket_size'),sum('totalSales').alias('totalSales'),count('Customer ID').alias('Number_of_customers'))\n",
        "\n",
        "customer_profile.sort(customer_profile.Year).show()"
      ],
      "execution_count": 14,
      "outputs": [
        {
          "output_type": "stream",
          "text": [
            "+----+-----+--------------------+------------------+------------------+-------------------+\n",
            "|Year|Month|             Country|       Basket_size|        totalSales|Number_of_customers|\n",
            "+----+-----+--------------------+------------------+------------------+-------------------+\n",
            "|2009|   12|     Channel Islands|            472.69|            945.38|                  1|\n",
            "|2009|   12|         Netherlands|          1723.775|15204.730000000001|                  2|\n",
            "|2009|   12|               Italy|199.10000000000002|398.20000000000005|                  2|\n",
            "|2009|   12|              Poland|            371.82|371.82000000000005|                  1|\n",
            "|2009|   12|               Japan|           -208.75|           -208.75|                  1|\n",
            "|2009|   12|            Portugal|           1410.79|           2821.58|                  2|\n",
            "|2009|   12|              Sweden|             129.9|             259.8|                  1|\n",
            "|2009|   12|           Australia| 20.87333333333333|             50.25|                  3|\n",
            "|2009|   12|                 USA|             141.0|             141.0|                  1|\n",
            "|2009|   12|United Arab Emirates|            239.77| 479.5400000000002|                  1|\n",
            "|2009|   12|             Austria|            999.17|1998.3400000000006|                  2|\n",
            "|2009|   12|             Denmark|           566.745|           1384.46|                  2|\n",
            "|2009|   12|              Greece|            610.95| 610.9499999999999|                  1|\n",
            "|2009|   12|             Nigeria|           -147.05|           -147.05|                  0|\n",
            "|2009|   12|               Spain|          1028.072| 7918.830000000001|                  5|\n",
            "|2009|   12|             Finland|            549.08|            549.08|                  1|\n",
            "|2009|   12|             Belgium|             144.4|             447.6|                  2|\n",
            "|2009|   12|              Norway|            485.31|485.31000000000006|                  1|\n",
            "|2009|   12|              France| 329.9930769230769| 5555.039999999999|                 13|\n",
            "|2009|   12|             Germany| 380.6881818181818|           9782.62|                 11|\n",
            "+----+-----+--------------------+------------------+------------------+-------------------+\n",
            "only showing top 20 rows\n",
            "\n"
          ],
          "name": "stdout"
        }
      ]
    },
    {
      "cell_type": "code",
      "metadata": {
        "id": "W_RGEP7MP6Mi",
        "colab_type": "code",
        "colab": {
          "base_uri": "https://localhost:8080/",
          "height": 459
        },
        "outputId": "0456aa42-244a-406e-a382-445e44290f42"
      },
      "source": [
        "country_profile_p6m = customer_profile.filter((customer_profile.Year==2011) & (customer_profile.Month>=7))\n",
        "\n",
        "country_pv_6m = country_profile_p6m.groupBy(\"Country\").pivot(\"Month\").agg(bround(avg(\"Basket_size\"),2)).fillna(0)\n",
        "\n",
        "country_pv_6m.sort(country_pv_6m.Country).show()"
      ],
      "execution_count": 18,
      "outputs": [
        {
          "output_type": "stream",
          "text": [
            "+------------------+-------+-------+-------+-------+-------+-------+\n",
            "|           Country|      7|      8|      9|     10|     11|     12|\n",
            "+------------------+-------+-------+-------+-------+-------+-------+\n",
            "|         Australia| 622.82|11244.6| 585.14|4287.63| 624.73|    0.0|\n",
            "|           Austria| 595.98| 758.04|    0.0|1043.78| 664.89|  683.2|\n",
            "|           Belgium| 403.58| 356.41| 524.73|  463.2| 539.11| 281.89|\n",
            "|            Canada| 884.29|  51.56|    0.0|    0.0|    0.0|    0.0|\n",
            "|   Channel Islands|    0.0| 970.13| 395.82| 509.08| 319.74|  97.08|\n",
            "|            Cyprus|    0.0|    0.0| 196.35|1054.13| 460.89| -91.25|\n",
            "|    Czech Republic|    0.0|    0.0|    0.0| 277.48| -30.76|    0.0|\n",
            "|           Denmark| 376.24|   39.3|1523.39| 388.25|1349.78|  168.9|\n",
            "|              EIRE|1708.12| 484.65|1132.32| 667.72| 548.75| 435.49|\n",
            "|European Community|  676.8|    0.0|    0.0|    0.0|    0.0|    0.0|\n",
            "|           Finland| 998.91| 342.89| 276.36| 477.25| 374.95| 307.67|\n",
            "|            France| 464.34|  507.5| 445.63| 540.97| 449.68|  317.3|\n",
            "|           Germany| 412.88|  388.7| 379.51| 484.35| 364.73| 453.15|\n",
            "|            Greece| 185.62|    0.0|    0.0|    0.0|    0.0| 680.99|\n",
            "|         Hong Kong|    0.0|1406.97|    0.0| 241.19|    0.0|    0.0|\n",
            "|           Iceland|    0.0| 584.91|    0.0|1294.32|    0.0| 224.82|\n",
            "|            Israel|1430.75|4873.81| 423.73|  69.02|    0.0|    0.0|\n",
            "|             Italy|  147.1| 375.41|  279.8| 535.32| 427.54| 200.45|\n",
            "|             Japan| 1927.2| -49.79| 112.08| 974.02|4230.04|-116.93|\n",
            "|             Malta|    0.0| 502.19|    0.0|    0.0| 194.21| -30.81|\n",
            "+------------------+-------+-------+-------+-------+-------+-------+\n",
            "only showing top 20 rows\n",
            "\n"
          ],
          "name": "stdout"
        }
      ]
    },
    {
      "cell_type": "markdown",
      "metadata": {
        "id": "kTvMhqd9ehoy",
        "colab_type": "text"
      },
      "source": [
        "### 4. Monitor weekly sales and visit by country, Past 1 week, Past 2 weeks, Past 4 weeks, Year-to-date\n",
        "#### Create a report that includes the following columns:\n",
        "- Country\n",
        "- Number of Customers in past 1 week\n",
        "- Number of Customers in past 2 weeks\n",
        "- Number of Customers in past 4 weeks\n",
        "- Number of Customers accumulated since 01/01/2011\n",
        "- Sales amount in past 1 week\n",
        "- Sales amount in past 2 weeks\n",
        "- Sales amount in past 4 weeks\n",
        "- Sales amount since 01/01/2011\n",
        "- Number of Invoices in past 1 week\n",
        "- Number of Invoices in past 2 weeks\n",
        "- Number of Invoices in past 4 weeks\n",
        "- Number of Invoices since 01/01/2011"
      ]
    },
    {
      "cell_type": "code",
      "metadata": {
        "id": "m7auHJ3Deoo9",
        "colab_type": "code",
        "colab": {
          "base_uri": "https://localhost:8080/",
          "height": 459
        },
        "outputId": "c48e62c1-4a81-4505-f6eb-39b5b99bb4e3"
      },
      "source": [
        "customer_profile = df_retail.groupBy(\"Customer ID\",\"Country\",\"Year\",\"Week_number\")\\\n",
        "  .agg(sum('totalSales').alias('totalSales'),count('Invoice').alias('Invoice'))\n",
        "customer_profile = customer_profile.withColumn(\"Basket_size\",bround(customer_profile.totalSales/customer_profile.Invoice,2))\n",
        "customer_profile = customer_profile.groupBy(\"Year\",\"Week_number\",\"Country\")\\\n",
        "  .agg(sum('Invoice').alias('Number_of_invoice'),sum('totalSales').alias('totalSales'),count('Customer ID').alias('Number_of_customers'))\n",
        "\n",
        "customer_profile.sort(customer_profile.Year).show()"
      ],
      "execution_count": 20,
      "outputs": [
        {
          "output_type": "stream",
          "text": [
            "+----+-----------+--------------+-----------------+------------------+-------------------+\n",
            "|Year|Week_number|       Country|Number_of_invoice|        totalSales|Number_of_customers|\n",
            "+----+-----------+--------------+-----------------+------------------+-------------------+\n",
            "|2009|         50|       Belgium|                1|               8.5|                  1|\n",
            "|2009|         49|           USA|                1|             141.0|                  1|\n",
            "|2009|         51|United Kingdom|            13133|229637.57000000015|                380|\n",
            "|2009|         50|        Sweden|                3|             259.8|                  1|\n",
            "|2009|         49|        Poland|               22|371.82000000000005|                  1|\n",
            "|2009|         50|       Finland|                4|            549.08|                  1|\n",
            "|2009|         51|        Cyprus|              164|2664.3899999999994|                  3|\n",
            "|2009|         50|        Greece|               41| 610.9499999999999|                  1|\n",
            "|2009|         51|       Denmark|                8|            393.66|                  1|\n",
            "|2009|         49|        France|              156|2884.0600000000004|                 10|\n",
            "|2009|         50|United Kingdom|            13006|219259.45000000004|                470|\n",
            "|2009|         49|       Germany|               62|           1151.17|                  4|\n",
            "|2009|         51|   Netherlands|               59|           8881.28|                  1|\n",
            "|2009|         51|       Germany|              231|           4361.68|                  6|\n",
            "|2009|         49|       Nigeria|                2|           -147.05|                  0|\n",
            "|2009|         49|          EIRE|              119|           2369.61|                  2|\n",
            "|2009|         50|          EIRE|              129|           3358.48|                  2|\n",
            "|2009|         51|   Switzerland|               15| 589.4000000000001|                  1|\n",
            "|2009|         52|          EIRE|               35| 7112.679999999999|                  1|\n",
            "|2009|         52|       Germany|               30| 755.6800000000002|                  2|\n",
            "+----+-----------+--------------+-----------------+------------------+-------------------+\n",
            "only showing top 20 rows\n",
            "\n"
          ],
          "name": "stdout"
        }
      ]
    },
    {
      "cell_type": "code",
      "metadata": {
        "id": "oYnnMHZKVpE8",
        "colab_type": "code",
        "colab": {}
      },
      "source": [
        "lastweek = customer_profile.filter((customer_profile.Year==2011)).agg(max(\"Week_number\").alias(\"max\")).collect()[0][0]\n",
        "\n",
        "last4week = lastweek-3\n",
        "last2week = lastweek-1"
      ],
      "execution_count": 25,
      "outputs": []
    },
    {
      "cell_type": "code",
      "metadata": {
        "id": "yWopjjOlZy-O",
        "colab_type": "code",
        "colab": {
          "base_uri": "https://localhost:8080/",
          "height": 445
        },
        "outputId": "32dcbd95-3962-43c1-e1be-f072c992bc82"
      },
      "source": [
        "# Total customers, invoices and sales by country\n",
        "past4wk = customer_profile.filter((customer_profile.Year==2011) & (customer_profile.Week_number>=last4week))\n",
        "past2wk = customer_profile.filter((customer_profile.Year==2011) & (customer_profile.Week_number>=last2week))\n",
        "past1wk = customer_profile.filter((customer_profile.Year==2011) & (customer_profile.Week_number>=lastweek))\n",
        "\n",
        "\n",
        "grp_past4wk = past4wk.groupBy(\"Country\").agg(sum('Number_of_invoice').alias('4wk_Number_of_invoice')\\\n",
        "                                             ,sum('totalSales').alias('4wk_totalSales')\\\n",
        "                                             ,sum('Number_of_customers').alias('4wk_Number_of_customers'))\n",
        "grp_past2wk = past2wk.groupBy(\"Country\").agg(sum('Number_of_invoice').alias('2wk_Number_of_invoice')\\\n",
        "                                             ,sum('totalSales').alias('2wk_totalSales')\\\n",
        "                                             ,sum('Number_of_customers').alias('2wk_Number_of_customers'))\n",
        "grp_past1wk = past1wk.groupBy(\"Country\").agg(sum('Number_of_invoice').alias('wk_Number_of_invoice')\\\n",
        "                                             ,sum('totalSales').alias('wk_totalSales')\\\n",
        "                                             ,sum('Number_of_customers').alias('wk_Number_of_customers'))\n",
        "\n",
        "# 2011\n",
        "year2011 = customer_profile.filter(customer_profile.Year==2011)\n",
        "grp_2011 = year2011.groupBy(\"Country\").agg(sum('Number_of_invoice').alias('2011_Number_of_invoice')\\\n",
        "                                             ,sum('totalSales').alias('2011_totalSales')\\\n",
        "                                             ,sum('Number_of_customers').alias('2011_Number_of_customers'))\n",
        "\n",
        "final = grp_past4wk.join(grp_past2wk,\"Country\",\"inner\").join(grp_past1wk,\"Country\",\"inner\").join(grp_2011,\"Country\",\"inner\")\n",
        "\n",
        "final.sort(final.Country).show()"
      ],
      "execution_count": 32,
      "outputs": [
        {
          "output_type": "stream",
          "text": [
            "+---------------+---------------------+------------------+-----------------------+---------------------+------------------+-----------------------+--------------------+------------------+----------------------+----------------------+------------------+------------------------+\n",
            "|        Country|4wk_Number_of_invoice|    4wk_totalSales|4wk_Number_of_customers|2wk_Number_of_invoice|    2wk_totalSales|2wk_Number_of_customers|wk_Number_of_invoice|     wk_totalSales|wk_Number_of_customers|2011_Number_of_invoice|   2011_totalSales|2011_Number_of_customers|\n",
            "+---------------+---------------------+------------------+-----------------------+---------------------+------------------+-----------------------+--------------------+------------------+----------------------+----------------------+------------------+------------------------+\n",
            "|        Austria|                   40|           1426.13|                      2|                    7|             683.2|                      1|                   7|             683.2|                     1|                   392| 9897.279999999997|                      17|\n",
            "|        Belgium|                  222| 4739.709999999999|                     13|                  106|1642.4799999999998|                      7|                  67|1107.4099999999999|                     3|                  1974|39101.049999999996|                     106|\n",
            "|Channel Islands|                   17|            386.18|                      4|                    8|            174.55|                      3|                   6|            194.15|                     2|                   741|19722.760000000002|                      26|\n",
            "|        Denmark|                   94|2868.4700000000003|                      3|                   38|           1074.42|                      2|                  11|             168.9|                     1|                   369|          17486.64|                      19|\n",
            "|           EIRE|                 1004| 25911.52999999999|                      7|                  495|10796.509999999993|                      3|                 255| 5528.429999999995|                     1|                  7793| 254246.8699999999|                      83|\n",
            "|        Finland|                   75|2939.6400000000003|                      9|                   49|2026.9700000000003|                      6|                   1|             -2.08|                     1|                   678|          21433.94|                      41|\n",
            "|         France|                 1218|25986.420000000002|                     54|                  561|          11891.28|                     30|                 175|3733.1900000000005|                    10|                  8119|         187846.54|                     376|\n",
            "|        Germany|                 1138|           27703.5|                     58|                  478|          11192.36|                     24|                 246| 5891.129999999999|                    12|                  8930|207135.37000000002|                     459|\n",
            "|         Greece|                   36| 680.9900000000002|                      1|                   36| 680.9900000000002|                      1|                  36| 680.9900000000002|                     1|                   146|           4710.52|                       5|\n",
            "|        Iceland|                   11|224.82000000000002|                      1|                   11|224.82000000000002|                      1|                  11|224.82000000000002|                     1|                   151|           3598.21|                       6|\n",
            "|          Italy|                  198|           4238.28|                     10|                   14|2.6499999999999773|                      2|                   8|            200.45|                     1|                   762|          16096.01|                      42|\n",
            "|          Japan|                   40|           8343.15|                      3|                    9|           3534.67|                      2|                   8|           -116.93|                     1|                   293|          27635.55|                      22|\n",
            "|    Netherlands|                  177|23274.000000000007|                      6|                   90|11847.020000000002|                      2|                  86|11728.020000000002|                     1|                  2299| 275877.0599999999|                      51|\n",
            "|         Norway|                  225| 8582.410000000002|                      5|                  141| 5628.990000000002|                      3|                  73|2785.7000000000007|                     2|                   939|31376.340000000007|                      29|\n",
            "|       Portugal|                  215| 4716.990000000001|                     12|                  103|2857.9500000000007|                      6|                  54|           1365.02|                     4|                  1399|           26986.9|                      49|\n",
            "|          Spain|                  223|           6316.42|                     11|                  102| 442.1700000000001|                      4|                  71|271.42999999999995|                     3|                  2458| 52930.84999999999|                      93|\n",
            "|         Sweden|                   29|           1738.19|                      5|                    2|               0.0|                      1|                   2|               0.0|                     1|                   435|          33949.61|                      38|\n",
            "|            USA|                   43| 615.2799999999999|                      3|                   43| 615.2799999999999|                      3|                  32| 345.3199999999998|                     2|                   291|           1730.92|                       6|\n",
            "| United Kingdom|                72375|1149333.8500000006|                   1954|                34306| 555041.4599999995|                    937|               16558|265834.06999999995|                   411|                455353| 7511063.740000001|                   14851|\n",
            "+---------------+---------------------+------------------+-----------------------+---------------------+------------------+-----------------------+--------------------+------------------+----------------------+----------------------+------------------+------------------------+\n",
            "\n"
          ],
          "name": "stdout"
        }
      ]
    },
    {
      "cell_type": "markdown",
      "metadata": {
        "id": "L_SzPYRadtP3",
        "colab_type": "text"
      },
      "source": [
        "### 5. Find the average number of days since last visit of the customer in each country"
      ]
    },
    {
      "cell_type": "code",
      "metadata": {
        "id": "w63raV3sfFLo",
        "colab_type": "code",
        "colab": {
          "base_uri": "https://localhost:8080/",
          "height": 85
        },
        "outputId": "bde688ab-cf55-43c6-a150-cb1a4e9247cf"
      },
      "source": [
        "import datetime\n",
        "\n",
        "current_day = datetime.datetime(2011, 10, 12)\n",
        "\n",
        "print (current_day)\n",
        "print (current_day.day)\n",
        "print (current_day.month)\n",
        "print (current_day.year)"
      ],
      "execution_count": 33,
      "outputs": [
        {
          "output_type": "stream",
          "text": [
            "2011-10-12 00:00:00\n",
            "12\n",
            "10\n",
            "2011\n"
          ],
          "name": "stdout"
        }
      ]
    },
    {
      "cell_type": "code",
      "metadata": {
        "id": "NBBYMc56ez7R",
        "colab_type": "code",
        "colab": {
          "base_uri": "https://localhost:8080/",
          "height": 459
        },
        "outputId": "9ffe2d30-af28-4645-efa4-2b368e5af763"
      },
      "source": [
        "customer_last_visit = df_retail.groupBy(\"Country\",\"Customer ID\").agg(max(\"Date\").alias(\"lastvisit\"))\n",
        "\n",
        "customer_last_visit = customer_last_visit.withColumn(\"n_day_last_vist\",\\\n",
        "                                                     datediff(lit(current_day),customer_last_visit.lastvisit))\n",
        "\n",
        "customer_last_visit.show()"
      ],
      "execution_count": 37,
      "outputs": [
        {
          "output_type": "stream",
          "text": [
            "+---------------+-----------+----------+---------------+\n",
            "|        Country|Customer ID| lastvisit|n_day_last_vist|\n",
            "+---------------+-----------+----------+---------------+\n",
            "| United Kingdom|    13623.0|2011-11-09|            -28|\n",
            "| United Kingdom|    12949.0|2011-11-09|            -28|\n",
            "|        Germany|    12600.0|2011-11-11|            -30|\n",
            "| United Kingdom|    14099.0|2011-11-23|            -42|\n",
            "| United Kingdom|    14625.0|2011-06-07|            127|\n",
            "| United Kingdom|    17876.0|2010-11-05|            341|\n",
            "| United Kingdom|    13659.0|2011-05-26|            139|\n",
            "| United Kingdom|    13773.0|2010-11-08|            338|\n",
            "| United Kingdom|    13540.0|2010-08-29|            409|\n",
            "| United Kingdom|    13765.0|2010-02-24|            595|\n",
            "| United Kingdom|    15742.0|2010-03-30|            561|\n",
            "|Channel Islands|    14938.0|2010-07-25|            444|\n",
            "| United Kingdom|    13997.0|2010-07-08|            461|\n",
            "| United Kingdom|    13745.0|2011-07-11|             93|\n",
            "| United Kingdom|    17953.0|2010-06-17|            482|\n",
            "| United Kingdom|    16486.0|2010-06-20|            479|\n",
            "| United Kingdom|    17126.0|2011-07-10|             94|\n",
            "| United Kingdom|    18193.0|2011-07-12|             92|\n",
            "| United Kingdom|    16407.0|2011-11-27|            -46|\n",
            "| United Kingdom|    17202.0|2010-10-15|            362|\n",
            "+---------------+-----------+----------+---------------+\n",
            "only showing top 20 rows\n",
            "\n"
          ],
          "name": "stdout"
        }
      ]
    },
    {
      "cell_type": "code",
      "metadata": {
        "id": "E2g6mOmmfais",
        "colab_type": "code",
        "colab": {}
      },
      "source": [
        "country_avg_last_vist = customer_last_visit.filter(customer_last_visit.n_day_last_vist>=0).groupBy(\"Country\").agg(avg(\"n_day_last_vist\").alias(\"avg_day_of_last_visit\"))"
      ],
      "execution_count": 39,
      "outputs": []
    },
    {
      "cell_type": "code",
      "metadata": {
        "id": "BSpMnkNZhOA2",
        "colab_type": "code",
        "colab": {
          "base_uri": "https://localhost:8080/",
          "height": 459
        },
        "outputId": "e9082d53-3ad2-4fe7-8e03-950ce9a0f418"
      },
      "source": [
        "country_avg_last_vist.sort(country_avg_last_vist.Country).show()"
      ],
      "execution_count": 40,
      "outputs": [
        {
          "output_type": "stream",
          "text": [
            "+------------------+---------------------+\n",
            "|           Country|avg_day_of_last_visit|\n",
            "+------------------+---------------------+\n",
            "|         Australia|   251.08333333333334|\n",
            "|           Austria|   228.11111111111111|\n",
            "|           Bahrain|                194.0|\n",
            "|           Belgium|                197.2|\n",
            "|           Bermuda|                573.0|\n",
            "|            Brazil|                283.0|\n",
            "|            Canada|                169.6|\n",
            "|   Channel Islands|                279.8|\n",
            "|            Cyprus|              312.375|\n",
            "|           Denmark|   198.28571428571428|\n",
            "|              EIRE|                448.0|\n",
            "|European Community|                 83.0|\n",
            "|           Finland|                273.0|\n",
            "|            France|   193.11363636363637|\n",
            "|           Germany|                200.5|\n",
            "|            Greece|                233.0|\n",
            "|            Israel|                 97.4|\n",
            "|             Italy|   309.14285714285717|\n",
            "|             Japan|                225.0|\n",
            "|             Korea|                345.0|\n",
            "+------------------+---------------------+\n",
            "only showing top 20 rows\n",
            "\n"
          ],
          "name": "stdout"
        }
      ]
    },
    {
      "cell_type": "code",
      "metadata": {
        "id": "NUy0s-aWhb8g",
        "colab_type": "code",
        "colab": {}
      },
      "source": [
        ""
      ],
      "execution_count": null,
      "outputs": []
    }
  ]
}