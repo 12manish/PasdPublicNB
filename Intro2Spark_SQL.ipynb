{
  "nbformat": 4,
  "nbformat_minor": 0,
  "metadata": {
    "colab": {
      "name": "Intro2Spark-SQL.ipynb",
      "provenance": [],
      "mount_file_id": "19ULyJvOAqd7CVucbT_-FwRWsl_xo8JuD",
      "authorship_tag": "ABX9TyOzc7q7UfqCWLv5RwjhS+3c",
      "include_colab_link": true
    },
    "kernelspec": {
      "name": "python3",
      "display_name": "Python 3"
    }
  },
  "cells": [
    {
      "cell_type": "markdown",
      "metadata": {
        "id": "view-in-github",
        "colab_type": "text"
      },
      "source": [
        "<a href=\"https://colab.research.google.com/github/pasdptt/PasdPublicNB/blob/master/Intro2Spark_SQL.ipynb\" target=\"_parent\"><img src=\"https://colab.research.google.com/assets/colab-badge.svg\" alt=\"Open In Colab\"/></a>"
      ]
    },
    {
      "cell_type": "markdown",
      "metadata": {
        "id": "C9KMmFCmbfNN",
        "colab_type": "text"
      },
      "source": [
        "# Installing Spark on Colab\n",
        "References Readings/Links <br>\n",
        "*   http://apache.osuosl.org/spark/spark-3.0.0-preview2/\n",
        "*   https://medium.com/@sushantgautam_930/apache-spark-in-google-collaboratory-in-3-steps-e0acbba654e6 <br>\n",
        "*   https://notebooks.gesis.org/binder/jupyter/user/databricks-koalas-kuv5qckt/notebooks/docs/source/getting_started/10min.ipynb <br>\n",
        "*   https://medium.com/@sushantgautam_930/apache-spark-in-google-collaboratory-in-3-steps-e0acbba654e6 <br>\n",
        "*   https://towardsdatascience.com/introduction-to-apache-spark-207a479c3001\n",
        "*   https://spark.apache.org/\n",
        "*   https://medium.com/@amjadraza24/spark-ifying-pandas-databricks-koalas-with-google-colab-93028890db5"
      ]
    },
    {
      "cell_type": "markdown",
      "metadata": {
        "id": "lVX8dTTDQah6",
        "colab_type": "text"
      },
      "source": [
        "# Step 1 : Install Java, Spark, and Findspark"
      ]
    },
    {
      "cell_type": "code",
      "metadata": {
        "id": "QJlYzNhVbEZk",
        "colab_type": "code",
        "colab": {}
      },
      "source": [
        "#Get Install the Java Development Kit\n",
        "!apt-get install openjdk-8-jdk-headless -qq > /dev/null\n",
        "#Get Spark lib -- address need to be change according to the current version of Spark: https://downloads.apache.org/spark/\n",
        "!wget -q http://apache.osuosl.org/spark/spark-3.0.0/spark-3.0.0-bin-hadoop3.2.tgz\n",
        "#Unzip th Spark\n",
        "!tar xf spark-3.0.0-bin-hadoop3.2.tgz\n",
        "#install findspark for Python\n",
        "!pip install -q findspark\n",
        "#!pip install -q sparksql-magic\n"
      ],
      "execution_count": 2,
      "outputs": []
    },
    {
      "cell_type": "code",
      "metadata": {
        "id": "cCCaFr8glaIR",
        "colab_type": "code",
        "colab": {}
      },
      "source": [
        "#Install extra lib(s)\n",
        "!pip install -q xlrd\n",
        "!pip install -q kaggle\n",
        "!pip install -q kora\n"
      ],
      "execution_count": 9,
      "outputs": []
    },
    {
      "cell_type": "markdown",
      "metadata": {
        "id": "TOvKLeaAQVuM",
        "colab_type": "text"
      },
      "source": [
        "# Step 2: Set Environment Variables"
      ]
    },
    {
      "cell_type": "code",
      "metadata": {
        "id": "eTyD1-8ibZeJ",
        "colab_type": "code",
        "colab": {}
      },
      "source": [
        "#import and set environment for spark\n",
        "import os\n",
        "os.environ[\"JAVA_HOME\"] = \"/usr/lib/jvm/java-8-openjdk-amd64\"\n",
        "os.environ[\"SPARK_HOME\"] = \"/content/spark-3.0.0-bin-hadoop3.2\""
      ],
      "execution_count": 4,
      "outputs": []
    },
    {
      "cell_type": "code",
      "metadata": {
        "id": "iMDdy3dBhqoQ",
        "colab_type": "code",
        "colab": {}
      },
      "source": [
        "import kora\n",
        "import pandas as pd"
      ],
      "execution_count": 5,
      "outputs": []
    },
    {
      "cell_type": "markdown",
      "metadata": {
        "id": "BHyD-vULQyJv",
        "colab_type": "text"
      },
      "source": [
        "# Step 3: Start a SparkSession"
      ]
    },
    {
      "cell_type": "code",
      "metadata": {
        "id": "sBSPWIEacWlX",
        "colab_type": "code",
        "colab": {}
      },
      "source": [
        "import findspark\n",
        "findspark.init()\n",
        "from pyspark import SparkContext\n",
        "from pyspark.sql import SparkSession\n",
        "from pyspark.sql import *\n",
        "\n",
        "SPARK_URL = \"local[*]\"\n",
        "\n",
        "spark = SparkSession.builder.master(SPARK_URL).getOrCreate()"
      ],
      "execution_count": 6,
      "outputs": []
    },
    {
      "cell_type": "code",
      "metadata": {
        "id": "PEbJcscjTzs3",
        "colab_type": "code",
        "colab": {
          "base_uri": "https://localhost:8080/",
          "height": 34
        },
        "outputId": "7580fa86-f340-45ee-808e-15130e526f44"
      },
      "source": [
        "# Check the pyspark version\n",
        "import pyspark\n",
        "print(pyspark.__version__)"
      ],
      "execution_count": 7,
      "outputs": [
        {
          "output_type": "stream",
          "text": [
            "3.0.0\n"
          ],
          "name": "stdout"
        }
      ]
    },
    {
      "cell_type": "code",
      "metadata": {
        "id": "_lo95bI5Q62X",
        "colab_type": "code",
        "colab": {
          "base_uri": "https://localhost:8080/",
          "height": 224
        },
        "outputId": "709374e5-51d8-4194-89fe-1842d63eb068"
      },
      "source": [
        "df = spark.createDataFrame([{\"hello\": \"world\"} for x in range(1000)])\n",
        "df.show(3)"
      ],
      "execution_count": 8,
      "outputs": [
        {
          "output_type": "stream",
          "text": [
            "/content/spark-3.0.0-bin-hadoop3.2/python/pyspark/sql/session.py:378: UserWarning: inferring schema from dict is deprecated,please use pyspark.sql.Row instead\n",
            "  warnings.warn(\"inferring schema from dict is deprecated,\"\n"
          ],
          "name": "stderr"
        },
        {
          "output_type": "stream",
          "text": [
            "+-----+\n",
            "|hello|\n",
            "+-----+\n",
            "|world|\n",
            "|world|\n",
            "|world|\n",
            "+-----+\n",
            "only showing top 3 rows\n",
            "\n"
          ],
          "name": "stdout"
        }
      ]
    },
    {
      "cell_type": "markdown",
      "metadata": {
        "id": "GwiLOrQ7nsb2",
        "colab_type": "text"
      },
      "source": [
        "# Special Step: Getting data from kaggle"
      ]
    },
    {
      "cell_type": "code",
      "metadata": {
        "id": "Vd0MkIVmiDHW",
        "colab_type": "code",
        "colab": {
          "base_uri": "https://localhost:8080/",
          "height": 122
        },
        "outputId": "22a54fae-57d3-4914-de1c-f19c4c6559b4"
      },
      "source": [
        "from google.colab import drive\n",
        "drive.mount('/content/gdrive')"
      ],
      "execution_count": 11,
      "outputs": [
        {
          "output_type": "stream",
          "text": [
            "Go to this URL in a browser: https://accounts.google.com/o/oauth2/auth?client_id=947318989803-6bn6qk8qdgf4n4g3pfee6491hc0brc4i.apps.googleusercontent.com&redirect_uri=urn%3aietf%3awg%3aoauth%3a2.0%3aoob&response_type=code&scope=email%20https%3a%2f%2fwww.googleapis.com%2fauth%2fdocs.test%20https%3a%2f%2fwww.googleapis.com%2fauth%2fdrive%20https%3a%2f%2fwww.googleapis.com%2fauth%2fdrive.photos.readonly%20https%3a%2f%2fwww.googleapis.com%2fauth%2fpeopleapi.readonly\n",
            "\n",
            "Enter your authorization code:\n",
            "··········\n",
            "Mounted at /content/gdrive\n"
          ],
          "name": "stdout"
        }
      ]
    },
    {
      "cell_type": "code",
      "metadata": {
        "id": "Tj7p0RoJn85L",
        "colab_type": "code",
        "colab": {}
      },
      "source": [
        "import os\n",
        "os.environ['KAGGLE_CONFIG_DIR'] = \"/content/gdrive/My Drive/Kaggle\""
      ],
      "execution_count": 12,
      "outputs": []
    },
    {
      "cell_type": "code",
      "metadata": {
        "id": "BUMol2wzpCOL",
        "colab_type": "code",
        "colab": {
          "base_uri": "https://localhost:8080/",
          "height": 68
        },
        "outputId": "2887c083-f06c-4616-af9d-b53a6b6227bf"
      },
      "source": [
        "!kaggle datasets download -d hverified/web-scraped-data-of-fifa-world-cup-2018-players"
      ],
      "execution_count": 14,
      "outputs": [
        {
          "output_type": "stream",
          "text": [
            "Downloading web-scraped-data-of-fifa-world-cup-2018-players.zip to /content\n",
            "\r  0% 0.00/13.7k [00:00<?, ?B/s]\n",
            "\r100% 13.7k/13.7k [00:00<00:00, 10.8MB/s]\n"
          ],
          "name": "stdout"
        }
      ]
    },
    {
      "cell_type": "code",
      "metadata": {
        "id": "GUFMuU5SpLVJ",
        "colab_type": "code",
        "colab": {
          "base_uri": "https://localhost:8080/",
          "height": 51
        },
        "outputId": "76684fc1-851a-4196-933d-f5cf7ad3f099"
      },
      "source": [
        "!unzip /content/web-scraped-data-of-fifa-world-cup-2018-players.zip  && rm /content/web-scraped-data-of-fifa-world-cup-2018-players.zip"
      ],
      "execution_count": 15,
      "outputs": [
        {
          "output_type": "stream",
          "text": [
            "Archive:  /content/web-scraped-data-of-fifa-world-cup-2018-players.zip\n",
            "  inflating: Fifa_players.csv        \n"
          ],
          "name": "stdout"
        }
      ]
    },
    {
      "cell_type": "markdown",
      "metadata": {
        "id": "qCp8TPPMp9Xp",
        "colab_type": "text"
      },
      "source": [
        "# Step 4: Mount CSV data to table"
      ]
    },
    {
      "cell_type": "code",
      "metadata": {
        "id": "CggmHcWIpyB0",
        "colab_type": "code",
        "colab": {
          "base_uri": "https://localhost:8080/",
          "height": 459
        },
        "outputId": "6bb5a33d-cde8-4189-9372-8bec399186e7"
      },
      "source": [
        "file_path = \"./Fifa_players.csv\"\n",
        "\n",
        "df_test = spark.read.options(header=\"true\",inferschema = \"true\").csv(file_path)\n",
        "\n",
        "df_test.show()"
      ],
      "execution_count": 21,
      "outputs": [
        {
          "output_type": "stream",
          "text": [
            "+---+---+-------+----------+------------------+-------------------+-------------------+----------+\n",
            "|_c0|Age|Country|Height(cm)|International Caps|International Goals|               Name|      Role|\n",
            "+---+---+-------+----------+------------------+-------------------+-------------------+----------+\n",
            "|  0| 29|   Peru|  189.0 cm|                42|                  0|      Pedro GALLESE|Goalkeeper|\n",
            "|  1| 34|   Peru|  179.0 cm|                75|                  0|  Alberto RODRIGUEZ|  Defender|\n",
            "|  2| 29|   Peru|  172.0 cm|                24|                  0|         Aldo CORZO|  Defender|\n",
            "|  3| 27|   Peru|  185.0 cm|                 8|                  0|Anderson SANTAMARIA|  Defender|\n",
            "|  4| 24|   Peru|  178.0 cm|                 8|                  0|      Miguel ARAUJO|  Defender|\n",
            "|  5| 26|   Peru|  169.0 cm|                29|                  0|      Miguel TRAUCO|  Defender|\n",
            "|  6| 28|   Peru|  175.0 cm|                34|                  3|      Paolo HURTADO|Midfielder|\n",
            "|  7| 27|   Peru|  169.0 cm|                48|                  8|    Christian CUEVA|Midfielder|\n",
            "|  8| 35|   Peru|  185.0 cm|                92|                 36|     Paolo GUERRERO|   Forward|\n",
            "|  9| 34|   Peru|  178.0 cm|                86|                 25|   Jefferson FARFAN|   Forward|\n",
            "| 10| 28|   Peru|  169.0 cm|                32|                  4|       Raul RUIDIAZ|   Forward|\n",
            "| 11| 27|   Peru|  185.0 cm|                 6|                  0|      Carlos CACEDA|Goalkeeper|\n",
            "| 12| 23|   Peru|  185.0 cm|                33|                  3|       Renato TAPIA|Midfielder|\n",
            "| 13| 24|   Peru|  174.0 cm|                17|                  1|          Andy POLO|Midfielder|\n",
            "| 14| 30|   Peru|  185.0 cm|                73|                  3|    Christian RAMOS|  Defender|\n",
            "| 15| 24|   Peru|  179.0 cm|                 4|                  0|   Wilder CARTAGENA|Midfielder|\n",
            "| 16| 29|   Peru|  178.0 cm|                68|                  0|     Luis ADVINCULA|  Defender|\n",
            "| 17| 27|   Peru|  181.0 cm|                49|                  6|     Andre CARRILLO|   Forward|\n",
            "| 18| 28|   Peru|  173.0 cm|                76|                  2|     Yoshimar YOTUN|Midfielder|\n",
            "| 19| 24|   Peru|  170.0 cm|                32|                  9|      Edison FLORES|   Forward|\n",
            "+---+---+-------+----------+------------------+-------------------+-------------------+----------+\n",
            "only showing top 20 rows\n",
            "\n"
          ],
          "name": "stdout"
        }
      ]
    },
    {
      "cell_type": "code",
      "metadata": {
        "id": "JSKqR62Ure9I",
        "colab_type": "code",
        "colab": {
          "base_uri": "https://localhost:8080/",
          "height": 459
        },
        "outputId": "da8dc8c8-9ea4-4c7b-f2c4-adb0b144e36a"
      },
      "source": [
        "#or\n",
        "\n",
        "sqlContext = SQLContext(spark)\n",
        "\n",
        "df_test2 = sqlContext.read.format('com.databricks.spark.csv')\\\n",
        "  .options(header='true', inferschema='true')\\\n",
        "  .load(file_path)\n",
        "\n",
        "df_test2.show()"
      ],
      "execution_count": 28,
      "outputs": [
        {
          "output_type": "stream",
          "text": [
            "+---+---+-------+----------+------------------+-------------------+-------------------+----------+\n",
            "|_c0|Age|Country|Height(cm)|International Caps|International Goals|               Name|      Role|\n",
            "+---+---+-------+----------+------------------+-------------------+-------------------+----------+\n",
            "|  0| 29|   Peru|  189.0 cm|                42|                  0|      Pedro GALLESE|Goalkeeper|\n",
            "|  1| 34|   Peru|  179.0 cm|                75|                  0|  Alberto RODRIGUEZ|  Defender|\n",
            "|  2| 29|   Peru|  172.0 cm|                24|                  0|         Aldo CORZO|  Defender|\n",
            "|  3| 27|   Peru|  185.0 cm|                 8|                  0|Anderson SANTAMARIA|  Defender|\n",
            "|  4| 24|   Peru|  178.0 cm|                 8|                  0|      Miguel ARAUJO|  Defender|\n",
            "|  5| 26|   Peru|  169.0 cm|                29|                  0|      Miguel TRAUCO|  Defender|\n",
            "|  6| 28|   Peru|  175.0 cm|                34|                  3|      Paolo HURTADO|Midfielder|\n",
            "|  7| 27|   Peru|  169.0 cm|                48|                  8|    Christian CUEVA|Midfielder|\n",
            "|  8| 35|   Peru|  185.0 cm|                92|                 36|     Paolo GUERRERO|   Forward|\n",
            "|  9| 34|   Peru|  178.0 cm|                86|                 25|   Jefferson FARFAN|   Forward|\n",
            "| 10| 28|   Peru|  169.0 cm|                32|                  4|       Raul RUIDIAZ|   Forward|\n",
            "| 11| 27|   Peru|  185.0 cm|                 6|                  0|      Carlos CACEDA|Goalkeeper|\n",
            "| 12| 23|   Peru|  185.0 cm|                33|                  3|       Renato TAPIA|Midfielder|\n",
            "| 13| 24|   Peru|  174.0 cm|                17|                  1|          Andy POLO|Midfielder|\n",
            "| 14| 30|   Peru|  185.0 cm|                73|                  3|    Christian RAMOS|  Defender|\n",
            "| 15| 24|   Peru|  179.0 cm|                 4|                  0|   Wilder CARTAGENA|Midfielder|\n",
            "| 16| 29|   Peru|  178.0 cm|                68|                  0|     Luis ADVINCULA|  Defender|\n",
            "| 17| 27|   Peru|  181.0 cm|                49|                  6|     Andre CARRILLO|   Forward|\n",
            "| 18| 28|   Peru|  173.0 cm|                76|                  2|     Yoshimar YOTUN|Midfielder|\n",
            "| 19| 24|   Peru|  170.0 cm|                32|                  9|      Edison FLORES|   Forward|\n",
            "+---+---+-------+----------+------------------+-------------------+-------------------+----------+\n",
            "only showing top 20 rows\n",
            "\n"
          ],
          "name": "stdout"
        }
      ]
    },
    {
      "cell_type": "code",
      "metadata": {
        "id": "F1A3PSpxrVWf",
        "colab_type": "code",
        "colab": {}
      },
      "source": [
        "df_test.registerTempTable(\"fifa2018\")"
      ],
      "execution_count": 29,
      "outputs": []
    },
    {
      "cell_type": "code",
      "metadata": {
        "id": "FDUOtIyoqvkh",
        "colab_type": "code",
        "colab": {
          "base_uri": "https://localhost:8080/",
          "height": 459
        },
        "outputId": "5da41cce-d238-414e-c5a0-f219a65f58e2"
      },
      "source": [
        "sqlContext.sql(\"\"\"\n",
        "select * from fifa2018\n",
        "\"\"\").show()"
      ],
      "execution_count": 31,
      "outputs": [
        {
          "output_type": "stream",
          "text": [
            "+---+---+-------+----------+------------------+-------------------+-------------------+----------+\n",
            "|_c0|Age|Country|Height(cm)|International Caps|International Goals|               Name|      Role|\n",
            "+---+---+-------+----------+------------------+-------------------+-------------------+----------+\n",
            "|  0| 29|   Peru|  189.0 cm|                42|                  0|      Pedro GALLESE|Goalkeeper|\n",
            "|  1| 34|   Peru|  179.0 cm|                75|                  0|  Alberto RODRIGUEZ|  Defender|\n",
            "|  2| 29|   Peru|  172.0 cm|                24|                  0|         Aldo CORZO|  Defender|\n",
            "|  3| 27|   Peru|  185.0 cm|                 8|                  0|Anderson SANTAMARIA|  Defender|\n",
            "|  4| 24|   Peru|  178.0 cm|                 8|                  0|      Miguel ARAUJO|  Defender|\n",
            "|  5| 26|   Peru|  169.0 cm|                29|                  0|      Miguel TRAUCO|  Defender|\n",
            "|  6| 28|   Peru|  175.0 cm|                34|                  3|      Paolo HURTADO|Midfielder|\n",
            "|  7| 27|   Peru|  169.0 cm|                48|                  8|    Christian CUEVA|Midfielder|\n",
            "|  8| 35|   Peru|  185.0 cm|                92|                 36|     Paolo GUERRERO|   Forward|\n",
            "|  9| 34|   Peru|  178.0 cm|                86|                 25|   Jefferson FARFAN|   Forward|\n",
            "| 10| 28|   Peru|  169.0 cm|                32|                  4|       Raul RUIDIAZ|   Forward|\n",
            "| 11| 27|   Peru|  185.0 cm|                 6|                  0|      Carlos CACEDA|Goalkeeper|\n",
            "| 12| 23|   Peru|  185.0 cm|                33|                  3|       Renato TAPIA|Midfielder|\n",
            "| 13| 24|   Peru|  174.0 cm|                17|                  1|          Andy POLO|Midfielder|\n",
            "| 14| 30|   Peru|  185.0 cm|                73|                  3|    Christian RAMOS|  Defender|\n",
            "| 15| 24|   Peru|  179.0 cm|                 4|                  0|   Wilder CARTAGENA|Midfielder|\n",
            "| 16| 29|   Peru|  178.0 cm|                68|                  0|     Luis ADVINCULA|  Defender|\n",
            "| 17| 27|   Peru|  181.0 cm|                49|                  6|     Andre CARRILLO|   Forward|\n",
            "| 18| 28|   Peru|  173.0 cm|                76|                  2|     Yoshimar YOTUN|Midfielder|\n",
            "| 19| 24|   Peru|  170.0 cm|                32|                  9|      Edison FLORES|   Forward|\n",
            "+---+---+-------+----------+------------------+-------------------+-------------------+----------+\n",
            "only showing top 20 rows\n",
            "\n"
          ],
          "name": "stdout"
        }
      ]
    },
    {
      "cell_type": "markdown",
      "metadata": {
        "id": "qnAGyPIzvJ3-",
        "colab_type": "text"
      },
      "source": [
        "# How to save result as CSV to your \"Drive\""
      ]
    },
    {
      "cell_type": "code",
      "metadata": {
        "id": "AVuZTCUXvHSi",
        "colab_type": "code",
        "colab": {}
      },
      "source": [
        "df_test\\\n",
        "   .coalesce(1)\\\n",
        "   .write.format(\"com.databricks.spark.csv\")\\\n",
        "   .option(\"header\", \"true\")\\\n",
        "   .save(\"test_output.csv\")\\"
      ],
      "execution_count": 37,
      "outputs": []
    },
    {
      "cell_type": "markdown",
      "metadata": {
        "id": "O8D458SAtf40",
        "colab_type": "text"
      },
      "source": [
        "# Lab 2"
      ]
    },
    {
      "cell_type": "markdown",
      "metadata": {
        "id": "ZYB8k6c9topN",
        "colab_type": "text"
      },
      "source": [
        "\n",
        "\n",
        "1.   Find total unique player in Fifa 2018\n",
        "2.   Find out that which role (position) paticipate most in Fifa 2018\n",
        "3.   Find out that in each country, which role (position) paticipate most\n",
        "4.   Find Maximum and Minimum age in each country players\n",
        "5.   Find out the average age of each role (position)\n",
        "6.   How many country paticipate in Fifa 2018\n",
        "7.   Total Goal of each country by posistion in decending order\n",
        "8.   Identify how many player(s) who has name as \"Miguel\", and which country(s) the came from\n",
        "\n"
      ]
    },
    {
      "cell_type": "code",
      "metadata": {
        "id": "5jSjfBE0tVyZ",
        "colab_type": "code",
        "colab": {
          "base_uri": "https://localhost:8080/",
          "height": 119
        },
        "outputId": "06131d4b-6cae-4a65-a556-18e64d7d7a18"
      },
      "source": [
        "#Hint\n",
        "\n",
        "df_result = sqlContext.sql(\"\"\"\n",
        "\"\"\").show()\n",
        "\n",
        "df_test\\\n",
        "   .coalesce(1)\\\n",
        "   .write.format(\"com.databricks.spark.csv\")\\\n",
        "   .option(\"header\", \"true\")\\\n",
        "   .save()\\"
      ],
      "execution_count": 39,
      "outputs": [
        {
          "output_type": "stream",
          "text": [
            "+--------+--------------------+\n",
            "|count(1)|count(DISTINCT Name)|\n",
            "+--------+--------------------+\n",
            "|       4|                   4|\n",
            "+--------+--------------------+\n",
            "\n"
          ],
          "name": "stdout"
        }
      ]
    },
    {
      "cell_type": "markdown",
      "metadata": {
        "id": "R5mlA8ejxTyt",
        "colab_type": "text"
      },
      "source": [
        "Delivery Point\n",
        "\n",
        "\n",
        "1.   Results\n",
        "2.   SQL script(s) to get the result\n",
        "\n"
      ]
    },
    {
      "cell_type": "code",
      "metadata": {
        "id": "rrbh_GmouV-k",
        "colab_type": "code",
        "colab": {}
      },
      "source": [
        ""
      ],
      "execution_count": null,
      "outputs": []
    }
  ]
}