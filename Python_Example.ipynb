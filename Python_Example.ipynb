{
  "nbformat": 4,
  "nbformat_minor": 0,
  "metadata": {
    "colab": {
      "name": "Python Example.ipynb",
      "provenance": [],
      "collapsed_sections": [],
      "authorship_tag": "ABX9TyNMyIxNNmHOwQ3CO9R/+k+L",
      "include_colab_link": true
    },
    "kernelspec": {
      "name": "python3",
      "display_name": "Python 3"
    }
  },
  "cells": [
    {
      "cell_type": "markdown",
      "metadata": {
        "id": "view-in-github",
        "colab_type": "text"
      },
      "source": [
        "<a href=\"https://colab.research.google.com/github/pasdptt/PasdPublicNB/blob/master/Python_Example.ipynb\" target=\"_parent\"><img src=\"https://colab.research.google.com/assets/colab-badge.svg\" alt=\"Open In Colab\"/></a>"
      ]
    },
    {
      "cell_type": "code",
      "metadata": {
        "id": "JPy87JCA0M88",
        "colab_type": "code",
        "colab": {}
      },
      "source": [
        "#To clear all output\n",
        "from IPython.display import clear_output\n",
        "clear_output(wait=True)"
      ],
      "execution_count": null,
      "outputs": []
    },
    {
      "cell_type": "markdown",
      "metadata": {
        "id": "rV-XrwG9mBv7",
        "colab_type": "text"
      },
      "source": [
        "Let Guest what is this one?"
      ]
    },
    {
      "cell_type": "code",
      "metadata": {
        "id": "ooaGFeO9CQB3",
        "colab_type": "code",
        "colab": {}
      },
      "source": [
        "def someGreatFunction(arr):\n",
        "  if len(arr) <= 1:\n",
        "    return arr\n",
        "  pivot = arr[len(arr) // 2]\n",
        "  left = [x for x in arr if x < pivot]\n",
        "  middle = [x for x in arr if x == pivot]\n",
        "  right = [x for x in arr if x > pivot]\n",
        "  return someGreatFunction(left) + middle + someGreatFunction(right)\n",
        "\n",
        "print(someGreatFunction([3,6,8,10,1,2,1]))"
      ],
      "execution_count": null,
      "outputs": []
    },
    {
      "cell_type": "markdown",
      "metadata": {
        "id": "Holh-78AseSA",
        "colab_type": "text"
      },
      "source": [
        "# Example Variables"
      ]
    },
    {
      "cell_type": "markdown",
      "metadata": {
        "id": "le5QM3l2sU4-",
        "colab_type": "text"
      },
      "source": [
        ""
      ]
    },
    {
      "cell_type": "code",
      "metadata": {
        "id": "W15rgUNiVNKG",
        "colab_type": "code",
        "colab": {}
      },
      "source": [
        "x = 10\n",
        "y = 3"
      ],
      "execution_count": null,
      "outputs": []
    },
    {
      "cell_type": "code",
      "metadata": {
        "id": "TJUn1ZWqmYN5",
        "colab_type": "code",
        "colab": {}
      },
      "source": [
        "x + y"
      ],
      "execution_count": null,
      "outputs": []
    },
    {
      "cell_type": "code",
      "metadata": {
        "id": "3UspTcUDmquH",
        "colab_type": "code",
        "colab": {}
      },
      "source": [
        "x - y"
      ],
      "execution_count": null,
      "outputs": []
    },
    {
      "cell_type": "code",
      "metadata": {
        "id": "bkyP0HP8mwOP",
        "colab_type": "code",
        "colab": {}
      },
      "source": [
        "x ** y"
      ],
      "execution_count": null,
      "outputs": []
    },
    {
      "cell_type": "code",
      "metadata": {
        "id": "rBvrjsSFmx0X",
        "colab_type": "code",
        "colab": {}
      },
      "source": [
        "x / y"
      ],
      "execution_count": null,
      "outputs": []
    },
    {
      "cell_type": "code",
      "metadata": {
        "id": "iRjEilGKm0fD",
        "colab_type": "code",
        "colab": {}
      },
      "source": [
        "x / float(y)"
      ],
      "execution_count": null,
      "outputs": []
    },
    {
      "cell_type": "code",
      "metadata": {
        "id": "CzDK5jXkrD3B",
        "colab_type": "code",
        "colab": {}
      },
      "source": [
        "str(x)+\"+\"+str(y)"
      ],
      "execution_count": null,
      "outputs": []
    },
    {
      "cell_type": "markdown",
      "metadata": {
        "id": "W21-ayTDnCv1",
        "colab_type": "text"
      },
      "source": [
        "**Built-in Values** # Usual true/false values\n",
        "\n",
        "*  True\n",
        "*  False\n",
        "*  None # Represents the absence of something\n",
        "> * x = None # Variables can be None\n",
        "> * array = [1,2,None] # Lists can contain None\n"
      ]
    },
    {
      "cell_type": "markdown",
      "metadata": {
        "id": "_9wpVRWPobyf",
        "colab_type": "text"
      },
      "source": [
        "**Functions can return None**"
      ]
    },
    {
      "cell_type": "code",
      "metadata": {
        "id": "xVfoAd8nnGHv",
        "colab_type": "code",
        "colab": {}
      },
      "source": [
        "def func():\n",
        "  return None "
      ],
      "execution_count": null,
      "outputs": []
    },
    {
      "cell_type": "markdown",
      "metadata": {
        "id": "dSgaZEPdotYW",
        "colab_type": "text"
      },
      "source": [
        "\n",
        "\n",
        "**Can check for equality**"
      ]
    },
    {
      "cell_type": "code",
      "metadata": {
        "id": "K1UgVNdnoV3q",
        "colab_type": "code",
        "colab": {}
      },
      "source": [
        "if [1,2] != [3,4]:\n",
        "  print (\"Error!\")"
      ],
      "execution_count": null,
      "outputs": []
    },
    {
      "cell_type": "markdown",
      "metadata": {
        "id": "cxm8i6lusxsx",
        "colab_type": "text"
      },
      "source": [
        "# No Brackets, use Indents"
      ]
    },
    {
      "cell_type": "markdown",
      "metadata": {
        "id": "fkJgSmB5pHMq",
        "colab_type": "text"
      },
      "source": [
        "<n>Code blocks are created using indents.\n",
        "\n",
        "*   Indents can be 2 or 4 spaces, but should be consistent throughout the file.\n",
        "*   If using Vim, set this value to be consistent in your .vimrc\n"
      ]
    },
    {
      "cell_type": "code",
      "metadata": {
        "id": "vvAJRtJSokb8",
        "colab_type": "code",
        "colab": {}
      },
      "source": [
        "def fib(n):\n",
        "  # Indent level 1: function body\n",
        "  if n <= 1:\n",
        "    # Indent level 2: if statement body\n",
        "    return 1\n",
        "  else:\n",
        "    # Indent level 2: else statement body\n",
        "    return fib(n-1)+fib(n-2)\n",
        "\n",
        "fib(10)"
      ],
      "execution_count": null,
      "outputs": []
    },
    {
      "cell_type": "markdown",
      "metadata": {
        "id": "M_0A0GGhs_v3",
        "colab_type": "text"
      },
      "source": [
        "# Python is a strongly-typed and dynamically-typed language."
      ]
    },
    {
      "cell_type": "markdown",
      "metadata": {
        "id": "IARl62_Sp6zm",
        "colab_type": "text"
      },
      "source": [
        "**Strongly-typed**: Types will not be coerced silently like in JavaScript.\n",
        "\n",
        "**Dynamically-typed**: Variables are names for values or object references.\n",
        "\n",
        "Variables can be reassigned to values of a different type.\n",
        "\n",
        "Execution: Python is “slower”, but it can run highly optimized C/C++ subroutines which make scientific computing (e.g. matrix multiplication) really fast."
      ]
    },
    {
      "cell_type": "code",
      "metadata": {
        "id": "3tIuBhbhpON8",
        "colab_type": "code",
        "colab": {}
      },
      "source": [
        "#Strongly-typed\n",
        "1 + ‘1’"
      ],
      "execution_count": null,
      "outputs": []
    },
    {
      "cell_type": "code",
      "metadata": {
        "id": "RWIYiePXqlBa",
        "colab_type": "code",
        "colab": {}
      },
      "source": [
        "#Dynamically-typed\n",
        "foo = [1,2,3]\n",
        "print(foo)"
      ],
      "execution_count": null,
      "outputs": []
    },
    {
      "cell_type": "code",
      "metadata": {
        "id": "-TkAJyCdqusV",
        "colab_type": "code",
        "colab": {}
      },
      "source": [
        "foo =  \"hello!\"\n",
        "print(foo)"
      ],
      "execution_count": null,
      "outputs": []
    },
    {
      "cell_type": "markdown",
      "metadata": {
        "id": "4fAPpfDktP1D",
        "colab_type": "text"
      },
      "source": [
        "# Collections: List"
      ]
    },
    {
      "cell_type": "markdown",
      "metadata": {
        "id": "sQ5Q4Faitd0_",
        "colab_type": "text"
      },
      "source": [
        "## Lists are mutable arrays"
      ]
    },
    {
      "cell_type": "code",
      "metadata": {
        "id": "-7FUw7-5udCu",
        "colab_type": "code",
        "colab": {}
      },
      "source": [
        "names=[]\n",
        "print(names)"
      ],
      "execution_count": null,
      "outputs": []
    },
    {
      "cell_type": "code",
      "metadata": {
        "id": "yJcIki9sujMp",
        "colab_type": "code",
        "colab": {}
      },
      "source": [
        "names=list()\n",
        "print(names)"
      ],
      "execution_count": null,
      "outputs": []
    },
    {
      "cell_type": "code",
      "metadata": {
        "id": "OYiaLt3PsBoc",
        "colab_type": "code",
        "colab": {}
      },
      "source": [
        "names = ['Zach', 'Jay']"
      ],
      "execution_count": null,
      "outputs": []
    },
    {
      "cell_type": "code",
      "metadata": {
        "id": "qCrEMfcgq07n",
        "colab_type": "code",
        "colab": {}
      },
      "source": [
        "names[0] == 'Zach'"
      ],
      "execution_count": null,
      "outputs": []
    },
    {
      "cell_type": "code",
      "metadata": {
        "id": "IH09Tc99tr4A",
        "colab_type": "code",
        "colab": {}
      },
      "source": [
        "names.append('Richard')"
      ],
      "execution_count": null,
      "outputs": []
    },
    {
      "cell_type": "code",
      "metadata": {
        "id": "L3isuF6NtvXl",
        "colab_type": "code",
        "colab": {}
      },
      "source": [
        "len(names) == 3"
      ],
      "execution_count": null,
      "outputs": []
    },
    {
      "cell_type": "code",
      "metadata": {
        "id": "qJbYBm0Zt1EN",
        "colab_type": "code",
        "colab": {}
      },
      "source": [
        "print(names)"
      ],
      "execution_count": null,
      "outputs": []
    },
    {
      "cell_type": "code",
      "metadata": {
        "id": "wsNfPiLLtyUW",
        "colab_type": "code",
        "colab": {}
      },
      "source": [
        "names.extend(['Abi', 'Kevin'])"
      ],
      "execution_count": null,
      "outputs": []
    },
    {
      "cell_type": "code",
      "metadata": {
        "id": "NssNrCPLuBmR",
        "colab_type": "code",
        "colab": {}
      },
      "source": [
        "print(names)"
      ],
      "execution_count": null,
      "outputs": []
    },
    {
      "cell_type": "code",
      "metadata": {
        "id": "nzgyCdhDuPCW",
        "colab_type": "code",
        "colab": {}
      },
      "source": [
        "stuff = [1, ['hi','bye'], -0.12, None]\n",
        "print(stuff)"
      ],
      "execution_count": null,
      "outputs": []
    },
    {
      "cell_type": "markdown",
      "metadata": {
        "id": "66QH6vv8vAlL",
        "colab_type": "text"
      },
      "source": [
        "## List Slicing\n",
        "\n",
        "List elements can be accessed in convenient ways.\n",
        "\n",
        "Basic format: some_list[start_index:end_index]"
      ]
    },
    {
      "cell_type": "code",
      "metadata": {
        "id": "NRlfnUFGuqoV",
        "colab_type": "code",
        "colab": {}
      },
      "source": [
        "numbers = [0, 1, 2, 3, 4, 5, 6]"
      ],
      "execution_count": null,
      "outputs": []
    },
    {
      "cell_type": "code",
      "metadata": {
        "id": "smR-LBtVv-Ak",
        "colab_type": "code",
        "colab": {}
      },
      "source": [
        "numbers[0:3] == numbers[:3] == [0, 1, 2]"
      ],
      "execution_count": null,
      "outputs": []
    },
    {
      "cell_type": "code",
      "metadata": {
        "id": "l67hQg__v-m1",
        "colab_type": "code",
        "colab": {}
      },
      "source": [
        "numbers[5:] == numbers[5:7] == [5, 6]"
      ],
      "execution_count": null,
      "outputs": []
    },
    {
      "cell_type": "code",
      "metadata": {
        "id": "-ciXjLmswBIP",
        "colab_type": "code",
        "colab": {}
      },
      "source": [
        "numbers[:] == numbers == [0, 1, 2, 3, 4, 5, 6]"
      ],
      "execution_count": null,
      "outputs": []
    },
    {
      "cell_type": "code",
      "metadata": {
        "id": "gh8edQpZwD3W",
        "colab_type": "code",
        "colab": {}
      },
      "source": [
        "numbers[-1] == 6"
      ],
      "execution_count": null,
      "outputs": []
    },
    {
      "cell_type": "code",
      "metadata": {
        "id": "ks8VNSuDwKIb",
        "colab_type": "code",
        "colab": {}
      },
      "source": [
        "numbers[-3:] == [4, 5, 6]"
      ],
      "execution_count": null,
      "outputs": []
    },
    {
      "cell_type": "code",
      "metadata": {
        "id": "a8wpfwh-wM8c",
        "colab_type": "code",
        "colab": {}
      },
      "source": [
        "numbers[3:-2] == [3, 4]"
      ],
      "execution_count": null,
      "outputs": []
    },
    {
      "cell_type": "markdown",
      "metadata": {
        "id": "CWjuRoOawUto",
        "colab_type": "text"
      },
      "source": [
        "# Collections: Tuple\n",
        "\n",
        "Tuples are immutable arrays"
      ]
    },
    {
      "cell_type": "code",
      "metadata": {
        "id": "lUC-x4NKwQXI",
        "colab_type": "code",
        "colab": {}
      },
      "source": [
        "names = ('Zach', 'Jay') # Note the parentheses"
      ],
      "execution_count": null,
      "outputs": []
    },
    {
      "cell_type": "code",
      "metadata": {
        "id": "cwFNln2NwgiV",
        "colab_type": "code",
        "colab": {}
      },
      "source": [
        "names[0] == 'Zach'"
      ],
      "execution_count": null,
      "outputs": []
    },
    {
      "cell_type": "code",
      "metadata": {
        "id": "e2Gn64jFwzmQ",
        "colab_type": "code",
        "colab": {}
      },
      "source": [
        "len(names) == 2"
      ],
      "execution_count": null,
      "outputs": []
    },
    {
      "cell_type": "code",
      "metadata": {
        "id": "neMsYQsuwwu8",
        "colab_type": "code",
        "colab": {}
      },
      "source": [
        "print(names)"
      ],
      "execution_count": null,
      "outputs": []
    },
    {
      "cell_type": "code",
      "metadata": {
        "id": "vfdMeqUewpcB",
        "colab_type": "code",
        "colab": {}
      },
      "source": [
        "names[0] = ‘Richard’"
      ],
      "execution_count": null,
      "outputs": []
    },
    {
      "cell_type": "code",
      "metadata": {
        "id": "9G8vCb7dw2wc",
        "colab_type": "code",
        "colab": {}
      },
      "source": [
        "empty = tuple()\n",
        "print(empty)"
      ],
      "execution_count": null,
      "outputs": []
    },
    {
      "cell_type": "code",
      "metadata": {
        "id": "xuz-ycrvw-qT",
        "colab_type": "code",
        "colab": {}
      },
      "source": [
        "single = (10,)\n",
        "print(single)"
      ],
      "execution_count": null,
      "outputs": []
    },
    {
      "cell_type": "markdown",
      "metadata": {
        "id": "zCPJJhWTxLS8",
        "colab_type": "text"
      },
      "source": [
        "# Collections: Dictionary\n",
        "\n",
        "Dictionaries are hash maps"
      ]
    },
    {
      "cell_type": "code",
      "metadata": {
        "id": "DQ0KQ1r3xGMS",
        "colab_type": "code",
        "colab": {}
      },
      "source": [
        "phonebook = dict() # Empty dictionary\n",
        "print(phonebook)"
      ],
      "execution_count": null,
      "outputs": []
    },
    {
      "cell_type": "code",
      "metadata": {
        "id": "tuqoE7ygxVN5",
        "colab_type": "code",
        "colab": {}
      },
      "source": [
        "phonebook = {'Zach': '12-37'}\n",
        "print(phonebook)"
      ],
      "execution_count": null,
      "outputs": []
    },
    {
      "cell_type": "code",
      "metadata": {
        "id": "7doGBELcxhlH",
        "colab_type": "code",
        "colab": {}
      },
      "source": [
        "phonebook['Jay'] = '34-23'\n",
        "print(phonebook)"
      ],
      "execution_count": null,
      "outputs": []
    },
    {
      "cell_type": "code",
      "metadata": {
        "id": "CMgTSYUnxyJE",
        "colab_type": "code",
        "colab": {}
      },
      "source": [
        "print('Zach' in phonebook)"
      ],
      "execution_count": null,
      "outputs": []
    },
    {
      "cell_type": "code",
      "metadata": {
        "id": "KjCplAcTx_rE",
        "colab_type": "code",
        "colab": {}
      },
      "source": [
        "print('Kavin' in phonebook)"
      ],
      "execution_count": null,
      "outputs": []
    },
    {
      "cell_type": "code",
      "metadata": {
        "id": "GovtUuQoyDVY",
        "colab_type": "code",
        "colab": {}
      },
      "source": [
        "print(phonebook['Jay'])"
      ],
      "execution_count": null,
      "outputs": []
    },
    {
      "cell_type": "code",
      "metadata": {
        "id": "Hp2yDaZ3yKIP",
        "colab_type": "code",
        "colab": {}
      },
      "source": [
        "del phonebook['Zach']"
      ],
      "execution_count": null,
      "outputs": []
    },
    {
      "cell_type": "code",
      "metadata": {
        "id": "A2gx-9evyOVW",
        "colab_type": "code",
        "colab": {}
      },
      "source": [
        "print(phonebook)"
      ],
      "execution_count": null,
      "outputs": []
    },
    {
      "cell_type": "code",
      "metadata": {
        "id": "16iUCsAoySTi",
        "colab_type": "code",
        "colab": {}
      },
      "source": [
        "for name, number in phonebook.items():\n",
        "  print (name, number)"
      ],
      "execution_count": null,
      "outputs": []
    },
    {
      "cell_type": "markdown",
      "metadata": {
        "id": "PfSWoLJ1ze2N",
        "colab_type": "text"
      },
      "source": [
        "# Play with Loop"
      ]
    },
    {
      "cell_type": "code",
      "metadata": {
        "id": "geH9snn4yX58",
        "colab_type": "code",
        "colab": {}
      },
      "source": [
        "for name in ['Zack', 'Jay', 'Richard']:\n",
        " print ('Hi ' + name + '!')"
      ],
      "execution_count": null,
      "outputs": []
    },
    {
      "cell_type": "code",
      "metadata": {
        "id": "cZ7M484_zqAQ",
        "colab_type": "code",
        "colab": {}
      },
      "source": [
        "while True:\n",
        "  print('We’re stuck in a loop...')\n",
        "  break"
      ],
      "execution_count": null,
      "outputs": []
    },
    {
      "cell_type": "code",
      "metadata": {
        "id": "GMJRmJCw0bbf",
        "colab_type": "code",
        "colab": {}
      },
      "source": [
        "for i in range(10): # Want an index also?\n",
        "  print ('Line ' + str(i)) # Look at enumerate()!"
      ],
      "execution_count": null,
      "outputs": []
    },
    {
      "cell_type": "code",
      "metadata": {
        "id": "G9xgUb3x0oP1",
        "colab_type": "code",
        "colab": {}
      },
      "source": [
        "for x, y in [(1,10), (2,20), (3,30)]:\n",
        "  print (x, y)"
      ],
      "execution_count": null,
      "outputs": []
    },
    {
      "cell_type": "markdown",
      "metadata": {
        "id": "RaLyK1010535",
        "colab_type": "text"
      },
      "source": [
        "# Python as OOP"
      ]
    },
    {
      "cell_type": "code",
      "metadata": {
        "id": "x9Ya67Dv0xQO",
        "colab_type": "code",
        "colab": {}
      },
      "source": [
        "class Animal(object):\n",
        "  def __init__(self, species, age): # Constructor `a = Animal(‘bird’, 10)`\n",
        "    self.species = species # Refer to instance with `self`\n",
        "    self.age = age # All instance variables are public\n",
        "\n",
        "  def isPerson(self): # Invoked with `a.isPerson()`\n",
        "    return self.species == 'Homo Sapiens'\n",
        "\n",
        "  def ageOneYear(self):\n",
        "    self.age += 1\n",
        "\n",
        "class Dog(Animal): # Inherits Animal’s methods\n",
        "  def ageOneYear(self): # Override for dog years\n",
        "    self.age += 7"
      ],
      "execution_count": null,
      "outputs": []
    },
    {
      "cell_type": "code",
      "metadata": {
        "id": "pb7J5X0W1MFO",
        "colab_type": "code",
        "colab": {}
      },
      "source": [
        "a = Animal('bird', 10)\n",
        "print(a.species, a.age)"
      ],
      "execution_count": null,
      "outputs": []
    },
    {
      "cell_type": "code",
      "metadata": {
        "id": "u7OUUYuQ1YsN",
        "colab_type": "code",
        "colab": {}
      },
      "source": [
        "print(a.isPerson())"
      ],
      "execution_count": null,
      "outputs": []
    },
    {
      "cell_type": "markdown",
      "metadata": {
        "id": "7M2o1Rop122e",
        "colab_type": "text"
      },
      "source": [
        "# Importing Modules"
      ]
    },
    {
      "cell_type": "code",
      "metadata": {
        "id": "Id6N-xiq1rp-",
        "colab_type": "code",
        "colab": {}
      },
      "source": [
        "# Import ‘os’ and ‘time’ modules\n",
        "import os, time\n",
        "# Import under an alias\n",
        "import numpy as np\n",
        "np.dot(x, y) # Access components with pkg.fn\n",
        "# Import specific submodules/functions\n",
        "from numpy import linalg as la, dot as matrix_multiply"
      ],
      "execution_count": null,
      "outputs": []
    },
    {
      "cell_type": "code",
      "metadata": {
        "id": "812Fx8Vd2A6e",
        "colab_type": "code",
        "colab": {}
      },
      "source": [
        ""
      ],
      "execution_count": null,
      "outputs": []
    }
  ]
}